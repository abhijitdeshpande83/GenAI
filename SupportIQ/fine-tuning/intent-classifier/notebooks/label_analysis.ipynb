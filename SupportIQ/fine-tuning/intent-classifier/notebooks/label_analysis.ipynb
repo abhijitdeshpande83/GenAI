{
 "cells": [
  {
   "cell_type": "code",
   "execution_count": 1,
   "id": "b28e2b68",
   "metadata": {},
   "outputs": [],
   "source": [
    "import sys, os\n",
    "sys.path.append(os.path.abspath('..'))"
   ]
  },
  {
   "cell_type": "code",
   "execution_count": 2,
   "id": "a4fe5f7b",
   "metadata": {},
   "outputs": [],
   "source": [
    "import re\n",
    "import json\n",
    "from collections import defaultdict\n",
    "from src.utils.loader import load_data"
   ]
  },
  {
   "cell_type": "code",
   "execution_count": 3,
   "id": "727ed247",
   "metadata": {},
   "outputs": [],
   "source": [
    "path = '/Volumes/LaCie/Projects_portfolio/NLP/SupportIQ/data/data_full.json'"
   ]
  },
  {
   "cell_type": "code",
   "execution_count": 4,
   "id": "a322cfdd",
   "metadata": {},
   "outputs": [],
   "source": [
    "train, _ = load_data(path)"
   ]
  },
  {
   "cell_type": "code",
   "execution_count": 5,
   "id": "052884ad",
   "metadata": {},
   "outputs": [],
   "source": [
    "all_labels = set(train['label'])"
   ]
  },
  {
   "cell_type": "code",
   "execution_count": 6,
   "id": "1961a9ce",
   "metadata": {},
   "outputs": [
    {
     "data": {
      "text/plain": [
       "{'accept_reservations',\n",
       " 'account_blocked',\n",
       " 'alarm',\n",
       " 'application_status',\n",
       " 'apr',\n",
       " 'are_you_a_bot',\n",
       " 'balance',\n",
       " 'bill_balance',\n",
       " 'bill_due',\n",
       " 'book_flight',\n",
       " 'book_hotel',\n",
       " 'calculator',\n",
       " 'calendar',\n",
       " 'calendar_update',\n",
       " 'calories',\n",
       " 'cancel',\n",
       " 'cancel_reservation',\n",
       " 'car_rental',\n",
       " 'card_declined',\n",
       " 'carry_on',\n",
       " 'change_accent',\n",
       " 'change_ai_name',\n",
       " 'change_language',\n",
       " 'change_speed',\n",
       " 'change_user_name',\n",
       " 'change_volume',\n",
       " 'confirm_reservation',\n",
       " 'cook_time',\n",
       " 'credit_limit',\n",
       " 'credit_limit_change',\n",
       " 'credit_score',\n",
       " 'current_location',\n",
       " 'damaged_card',\n",
       " 'date',\n",
       " 'definition',\n",
       " 'direct_deposit',\n",
       " 'directions',\n",
       " 'distance',\n",
       " 'do_you_have_pets',\n",
       " 'exchange_rate',\n",
       " 'expiration_date',\n",
       " 'find_phone',\n",
       " 'flight_status',\n",
       " 'flip_coin',\n",
       " 'food_last',\n",
       " 'freeze_account',\n",
       " 'fun_fact',\n",
       " 'gas',\n",
       " 'gas_type',\n",
       " 'goodbye',\n",
       " 'greeting',\n",
       " 'how_busy',\n",
       " 'how_old_are_you',\n",
       " 'improve_credit_score',\n",
       " 'income',\n",
       " 'ingredient_substitution',\n",
       " 'ingredients_list',\n",
       " 'insurance',\n",
       " 'insurance_change',\n",
       " 'interest_rate',\n",
       " 'international_fees',\n",
       " 'international_visa',\n",
       " 'jump_start',\n",
       " 'last_maintenance',\n",
       " 'lost_luggage',\n",
       " 'make_call',\n",
       " 'maybe',\n",
       " 'meal_suggestion',\n",
       " 'meaning_of_life',\n",
       " 'measurement_conversion',\n",
       " 'meeting_schedule',\n",
       " 'min_payment',\n",
       " 'mpg',\n",
       " 'new_card',\n",
       " 'next_holiday',\n",
       " 'next_song',\n",
       " 'no',\n",
       " 'nutrition_info',\n",
       " 'oil_change_how',\n",
       " 'oil_change_when',\n",
       " 'oos',\n",
       " 'order',\n",
       " 'order_checks',\n",
       " 'order_status',\n",
       " 'pay_bill',\n",
       " 'payday',\n",
       " 'pin_change',\n",
       " 'play_music',\n",
       " 'plug_type',\n",
       " 'pto_balance',\n",
       " 'pto_request',\n",
       " 'pto_request_status',\n",
       " 'pto_used',\n",
       " 'recipe',\n",
       " 'redeem_rewards',\n",
       " 'reminder',\n",
       " 'reminder_update',\n",
       " 'repeat',\n",
       " 'replacement_card_duration',\n",
       " 'report_fraud',\n",
       " 'report_lost_card',\n",
       " 'reset_settings',\n",
       " 'restaurant_reservation',\n",
       " 'restaurant_reviews',\n",
       " 'restaurant_suggestion',\n",
       " 'rewards_balance',\n",
       " 'roll_dice',\n",
       " 'rollover_401k',\n",
       " 'routing',\n",
       " 'schedule_maintenance',\n",
       " 'schedule_meeting',\n",
       " 'share_location',\n",
       " 'shopping_list',\n",
       " 'shopping_list_update',\n",
       " 'smart_home',\n",
       " 'spelling',\n",
       " 'spending_history',\n",
       " 'sync_device',\n",
       " 'taxes',\n",
       " 'tell_joke',\n",
       " 'text',\n",
       " 'thank_you',\n",
       " 'time',\n",
       " 'timer',\n",
       " 'timezone',\n",
       " 'tire_change',\n",
       " 'tire_pressure',\n",
       " 'todo_list',\n",
       " 'todo_list_update',\n",
       " 'traffic',\n",
       " 'transactions',\n",
       " 'transfer',\n",
       " 'translate',\n",
       " 'travel_alert',\n",
       " 'travel_notification',\n",
       " 'travel_suggestion',\n",
       " 'uber',\n",
       " 'update_playlist',\n",
       " 'user_name',\n",
       " 'vaccines',\n",
       " 'w2',\n",
       " 'weather',\n",
       " 'what_are_your_hobbies',\n",
       " 'what_can_i_ask_you',\n",
       " 'what_is_your_name',\n",
       " 'what_song',\n",
       " 'where_are_you_from',\n",
       " 'whisper_mode',\n",
       " 'who_do_you_work_for',\n",
       " 'who_made_you',\n",
       " 'yes'}"
      ]
     },
     "execution_count": 6,
     "metadata": {},
     "output_type": "execute_result"
    }
   ],
   "source": [
    "all_labels"
   ]
  },
  {
   "cell_type": "code",
   "execution_count": 7,
   "id": "23c31fb1",
   "metadata": {},
   "outputs": [],
   "source": [
    "keywords = {\n",
    "    \"cancel\": r\"cancel\",\n",
    "    \"restaurant\": r\"restaurant\",\n",
    "    \"account\": r\"account|card|pin_change|fraud|report|reset|block|freeze|user_name\",\n",
    "    \"bank\": r\"bill|balance|credit|limit|payment|pay|tax|deposit|transfer|transactions|w2|apr\",\n",
    "    \"hotel\": r\"hotel|luggage\",\n",
    "    \"rentalcar\": r\"car_rental|uber\",\n",
    "    \"travel\": r\"travel|travel_suggestion\",\n",
    "    \"flight\": r\"book_flight\",\n",
    "    \"alarm\": r\"alarm|timer\",\n",
    "    \"home\": r\"smart_home|oil_change|tire\",\n",
    "    \"fun\": r\"joke|flip_coin|roll_dice|fun_fact\",\n",
    "    \"qa\": r\"definition|spelling|meaning_of_life|who|what_song|are_you_a_bot|translate|nutrition\",\n",
    "    \"calendar\": r\"reminder|todo|calendar|schedule|meeting\",\n",
    "    \"food\": r\"calories|cook|ingredient|recipe|meal_suggestion\",\n",
    "    \"service\": r\"change_language|thank_you|repeat|greeting\",\n",
    "    \"music\": r\"play_music|next_song\",\n",
    "    \"location\":\tr\"traffic|directions|share_location|find_phone\",\n",
    "    \"insurance\": r\"insurance|rollover\",\n",
    "    \"order\": r\"order|shopping_list_update\",\n",
    "    \"status\": r\"flight_status|confirm_reservation\",\n",
    "    \"weather\": r\"weather\"\n",
    "}"
   ]
  },
  {
   "cell_type": "code",
   "execution_count": 8,
   "id": "effee6f6",
   "metadata": {},
   "outputs": [],
   "source": [
    "labels = {'bank','bus','calendar','event','flight','home','hotel','media','movie','music',\n",
    "                'rentalcar','restaurant','ridesharing','service','travel','weather'}"
   ]
  },
  {
   "cell_type": "code",
   "execution_count": 9,
   "id": "eecd4fc6",
   "metadata": {},
   "outputs": [],
   "source": [
    "exclude_labels = set()\n",
    "for key, value in keywords.items():\n",
    "    if key not in labels:\n",
    "        exclude_labels.add(key)\n"
   ]
  },
  {
   "cell_type": "code",
   "execution_count": 10,
   "id": "ed409241",
   "metadata": {},
   "outputs": [
    {
     "data": {
      "text/plain": [
       "(21, 10)"
      ]
     },
     "execution_count": 10,
     "metadata": {},
     "output_type": "execute_result"
    }
   ],
   "source": [
    "len(keywords), len(exclude_labels)"
   ]
  },
  {
   "cell_type": "code",
   "execution_count": 11,
   "id": "0937c45a",
   "metadata": {},
   "outputs": [],
   "source": [
    "group = {}\n",
    "for label in all_labels:\n",
    "    for category, pattern in keywords.items():\n",
    "        if re.search(pattern, label):\n",
    "            group[label] = category\n",
    "            break"
   ]
  },
  {
   "cell_type": "code",
   "execution_count": 12,
   "id": "2fe95fb7",
   "metadata": {},
   "outputs": [
    {
     "data": {
      "text/plain": [
       "{'meaning_of_life': 'qa',\n",
       " 'book_flight': 'flight',\n",
       " 'next_song': 'music',\n",
       " 'meeting_schedule': 'calendar',\n",
       " 'rollover_401k': 'insurance',\n",
       " 'rewards_balance': 'bank',\n",
       " 'book_hotel': 'hotel',\n",
       " 'car_rental': 'rentalcar',\n",
       " 'calories': 'food',\n",
       " 'meal_suggestion': 'food',\n",
       " 'travel_alert': 'travel',\n",
       " 'flight_status': 'status',\n",
       " 'tire_change': 'home',\n",
       " 'restaurant_reviews': 'restaurant',\n",
       " 'alarm': 'alarm',\n",
       " 'flip_coin': 'fun',\n",
       " 'ingredient_substitution': 'food',\n",
       " 'are_you_a_bot': 'qa',\n",
       " 'uber': 'rentalcar',\n",
       " 'payday': 'bank',\n",
       " 'credit_limit': 'bank',\n",
       " 'restaurant_suggestion': 'restaurant',\n",
       " 'transfer': 'bank',\n",
       " 'bill_due': 'bank',\n",
       " 'restaurant_reservation': 'restaurant',\n",
       " 'change_user_name': 'account',\n",
       " 'travel_notification': 'travel',\n",
       " 'damaged_card': 'account',\n",
       " 'tire_pressure': 'home',\n",
       " 'thank_you': 'service',\n",
       " 'card_declined': 'account',\n",
       " 'improve_credit_score': 'bank',\n",
       " 'weather': 'weather',\n",
       " 'pay_bill': 'bank',\n",
       " 'order_checks': 'order',\n",
       " 'travel_suggestion': 'travel',\n",
       " 'schedule_meeting': 'calendar',\n",
       " 'transactions': 'bank',\n",
       " 'shopping_list_update': 'order',\n",
       " 'cook_time': 'food',\n",
       " 'share_location': 'location',\n",
       " 'todo_list': 'calendar',\n",
       " 'taxes': 'bank',\n",
       " 'pin_change': 'account',\n",
       " 'roll_dice': 'fun',\n",
       " 'recipe': 'food',\n",
       " 'change_language': 'service',\n",
       " 'traffic': 'location',\n",
       " 'who_made_you': 'qa',\n",
       " 'repeat': 'service',\n",
       " 'apr': 'bank',\n",
       " 'tell_joke': 'fun',\n",
       " 'who_do_you_work_for': 'qa',\n",
       " 'credit_limit_change': 'bank',\n",
       " 'account_blocked': 'account',\n",
       " 'cancel': 'cancel',\n",
       " 'calendar_update': 'calendar',\n",
       " 'ingredients_list': 'food',\n",
       " 'translate': 'qa',\n",
       " 'pto_balance': 'bank',\n",
       " 'oil_change_when': 'home',\n",
       " 'schedule_maintenance': 'calendar',\n",
       " 'user_name': 'account',\n",
       " 'oil_change_how': 'home',\n",
       " 'insurance': 'insurance',\n",
       " 'credit_score': 'bank',\n",
       " 'fun_fact': 'fun',\n",
       " 'reminder_update': 'calendar',\n",
       " 'directions': 'location',\n",
       " 'w2': 'bank',\n",
       " 'insurance_change': 'insurance',\n",
       " 'spelling': 'qa',\n",
       " 'bill_balance': 'bank',\n",
       " 'report_lost_card': 'account',\n",
       " 'lost_luggage': 'hotel',\n",
       " 'report_fraud': 'account',\n",
       " 'direct_deposit': 'bank',\n",
       " 'confirm_reservation': 'status',\n",
       " 'min_payment': 'bank',\n",
       " 'order_status': 'order',\n",
       " 'reset_settings': 'account',\n",
       " 'new_card': 'account',\n",
       " 'play_music': 'music',\n",
       " 'calendar': 'calendar',\n",
       " 'nutrition_info': 'qa',\n",
       " 'reminder': 'calendar',\n",
       " 'cancel_reservation': 'cancel',\n",
       " 'what_song': 'qa',\n",
       " 'freeze_account': 'account',\n",
       " 'replacement_card_duration': 'account',\n",
       " 'find_phone': 'location',\n",
       " 'greeting': 'service',\n",
       " 'balance': 'bank',\n",
       " 'order': 'order',\n",
       " 'timer': 'alarm',\n",
       " 'todo_list_update': 'calendar',\n",
       " 'definition': 'qa',\n",
       " 'smart_home': 'home'}"
      ]
     },
     "execution_count": 12,
     "metadata": {},
     "output_type": "execute_result"
    }
   ],
   "source": [
    "group"
   ]
  },
  {
   "cell_type": "code",
   "execution_count": 13,
   "id": "0d791ad8",
   "metadata": {},
   "outputs": [],
   "source": [
    "group['exclude_labels'] = list(exclude_labels)"
   ]
  },
  {
   "cell_type": "code",
   "execution_count": 14,
   "id": "71c887f2",
   "metadata": {},
   "outputs": [],
   "source": [
    "with open('/Volumes/LaCie/Projects_portfolio/NLP/SupportIQ/data/label_mapping.json','w') as f:\n",
    "    json.dump(dict(group),f,indent=2)"
   ]
  },
  {
   "cell_type": "code",
   "execution_count": 15,
   "id": "eb13e2e9",
   "metadata": {},
   "outputs": [],
   "source": [
    "sys.path.append(os.path.abspath('/Volumes/LaCie/Projects_portfolio/NLP/SupportIQ/text_generation/ipynb'))"
   ]
  },
  {
   "cell_type": "code",
   "execution_count": null,
   "id": "c06bc255",
   "metadata": {},
   "outputs": [],
   "source": []
  },
  {
   "cell_type": "code",
   "execution_count": null,
   "id": "c6182b0c",
   "metadata": {},
   "outputs": [],
   "source": []
  }
 ],
 "metadata": {
  "kernelspec": {
   "display_name": "venv",
   "language": "python",
   "name": "python3"
  },
  "language_info": {
   "codemirror_mode": {
    "name": "ipython",
    "version": 3
   },
   "file_extension": ".py",
   "mimetype": "text/x-python",
   "name": "python",
   "nbconvert_exporter": "python",
   "pygments_lexer": "ipython3",
   "version": "3.11.13"
  }
 },
 "nbformat": 4,
 "nbformat_minor": 5
}
