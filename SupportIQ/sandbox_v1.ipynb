{
 "cells": [
  {
   "cell_type": "code",
   "execution_count": 1,
   "id": "4af33db3",
   "metadata": {},
   "outputs": [],
   "source": [
    "import json\n",
    "import numpy as np\n",
    "import matplotlib.pyplot as plt\n",
    "from collections import Counter"
   ]
  },
  {
   "cell_type": "code",
   "execution_count": 2,
   "id": "1de7c370",
   "metadata": {},
   "outputs": [],
   "source": [
    "with open('data/data_full.json') as f:\n",
    "    data = json.load(f)\n",
    "\n",
    "data['train'].extend(data['oos_train'])\n",
    "data['val'].extend(data['oos_val'])\n",
    "data['test'].extend(data['oos_test'])"
   ]
  },
  {
   "cell_type": "code",
   "execution_count": 3,
   "id": "6ab1889e",
   "metadata": {},
   "outputs": [],
   "source": [
    "from transformers import AutoTokenizer, AutoModelForCausalLM, AutoModelForSeq2SeqLM, TrainingArguments, BitsAndBytesConfig\n",
    "import torch\n",
    "from datasets import Dataset\n",
    "from trl import SFTTrainer\n",
    "from transformers import Trainer"
   ]
  },
  {
   "cell_type": "code",
   "execution_count": 4,
   "id": "b27d3def",
   "metadata": {},
   "outputs": [],
   "source": [
    "model_id = 'google/flan-t5-base'\n",
    "ssd_cache_dir = \"/Volumes/LaCie/huggingface_cache\""
   ]
  },
  {
   "cell_type": "code",
   "execution_count": 5,
   "id": "0139e92d",
   "metadata": {},
   "outputs": [],
   "source": [
    "tokenizer = AutoTokenizer.from_pretrained(model_id,cache_dir=ssd_cache_dir)\n",
    "tokenizer.pad_token = tokenizer.eos_token"
   ]
  },
  {
   "cell_type": "code",
   "execution_count": 6,
   "id": "65c5ca75",
   "metadata": {},
   "outputs": [],
   "source": [
    "quantization_config = BitsAndBytesConfig(\n",
    "    load_in_4bit=True,\n",
    "    bnb_4bit_use_double_quant=True,\n",
    "    bnb_4bit_quant_type=\"nf4\",\n",
    "    bnb_4bit_compute_dtype=\"float16\"\n",
    ")"
   ]
  },
  {
   "cell_type": "code",
   "execution_count": 7,
   "id": "c1a3253e",
   "metadata": {},
   "outputs": [],
   "source": [
    "model = AutoModelForSeq2SeqLM.from_pretrained(\n",
    "    model_id,\n",
    "    torch_dtype=torch.float16,   \n",
    "    # quantization_config=quantization_config,\n",
    "    cache_dir=ssd_cache_dir,\n",
    "    device_map=\"auto\"\n",
    ")"
   ]
  },
  {
   "cell_type": "code",
   "execution_count": 8,
   "id": "f9e2f321",
   "metadata": {},
   "outputs": [
    {
     "data": {
      "text/plain": [
       "[['what expression would i use to say i love you if i were an italian',\n",
       "  'translate'],\n",
       " [\"can you tell me how to say 'i do not speak much spanish', in spanish\",\n",
       "  'translate'],\n",
       " [\"what is the equivalent of, 'life is good' in french\", 'translate'],\n",
       " [\"tell me how to say, 'it is a beautiful morning' in italian\", 'translate']]"
      ]
     },
     "execution_count": 8,
     "metadata": {},
     "output_type": "execute_result"
    }
   ],
   "source": [
    "data['train'][:4]"
   ]
  },
  {
   "cell_type": "code",
   "execution_count": 9,
   "id": "01cddfa3",
   "metadata": {},
   "outputs": [],
   "source": [
    "def format_data(data):\n",
    "    return {\n",
    "        \"input\": f\"Classify the intent: {data[0]}\",\n",
    "        \"output\": data[1]\n",
    "    }"
   ]
  },
  {
   "cell_type": "code",
   "execution_count": 10,
   "id": "5d618245",
   "metadata": {},
   "outputs": [],
   "source": [
    "train_data = Dataset.from_list([format_data(x) for x in data['train']])\n",
    "val_data = Dataset.from_list([format_data(x) for x in data['val']])\n",
    "test_data = Dataset.from_list([format_data(x) for x in data['test']])"
   ]
  },
  {
   "cell_type": "code",
   "execution_count": 11,
   "id": "947a80a1",
   "metadata": {},
   "outputs": [],
   "source": [
    "def tokenize_data(data):\n",
    "    return tokenizer(\n",
    "        data[\"input\"],\n",
    "        text_target=data[\"output\"],\n",
    "        padding=\"max_length\",\n",
    "        max_length=256,\n",
    "        truncation=True,\n",
    "    )"
   ]
  },
  {
   "cell_type": "code",
   "execution_count": 12,
   "id": "c2bac05f",
   "metadata": {},
   "outputs": [
    {
     "data": {
      "application/vnd.jupyter.widget-view+json": {
       "model_id": "9bcc8b61d8c342d890ef0deac4ea87d5",
       "version_major": 2,
       "version_minor": 0
      },
      "text/plain": [
       "Map:   0%|          | 0/15100 [00:00<?, ? examples/s]"
      ]
     },
     "metadata": {},
     "output_type": "display_data"
    },
    {
     "data": {
      "application/vnd.jupyter.widget-view+json": {
       "model_id": "9d60ae4e12c447d187ade13474db3a31",
       "version_major": 2,
       "version_minor": 0
      },
      "text/plain": [
       "Map:   0%|          | 0/3100 [00:00<?, ? examples/s]"
      ]
     },
     "metadata": {},
     "output_type": "display_data"
    },
    {
     "data": {
      "application/vnd.jupyter.widget-view+json": {
       "model_id": "f1aec34db105440da2df56c7164007a2",
       "version_major": 2,
       "version_minor": 0
      },
      "text/plain": [
       "Map:   0%|          | 0/5500 [00:00<?, ? examples/s]"
      ]
     },
     "metadata": {},
     "output_type": "display_data"
    }
   ],
   "source": [
    "tokenized_train_data = train_data.map(tokenize_data)\n",
    "tokenized_val_data = val_data.map(tokenize_data)\n",
    "tokenized_test_data = test_data.map(tokenize_data)"
   ]
  },
  {
   "cell_type": "code",
   "execution_count": 13,
   "id": "cc1e8162",
   "metadata": {},
   "outputs": [],
   "source": [
    "from peft import get_peft_model, LoraConfig, TaskType"
   ]
  },
  {
   "cell_type": "code",
   "execution_count": 14,
   "id": "843835bb",
   "metadata": {},
   "outputs": [],
   "source": [
    "lora_config = LoraConfig(\n",
    "    r=8,\n",
    "    lora_alpha=16,\n",
    "    target_modules=[\"q\", \"v\"],  # for Mistral\n",
    "    lora_dropout=0.05,\n",
    "    bias=\"none\",\n",
    "    task_type=TaskType.SEQ_2_SEQ_LM,\n",
    ")"
   ]
  },
  {
   "cell_type": "code",
   "execution_count": 15,
   "id": "c6bfca33",
   "metadata": {},
   "outputs": [
    {
     "name": "stderr",
     "output_type": "stream",
     "text": [
      "/Volumes/LaCie/Projects_portfolio/NLP/SupportIQ/venv/lib/python3.11/site-packages/bitsandbytes/cextension.py:34: UserWarning: The installed version of bitsandbytes was compiled without GPU support. 8-bit optimizers, 8-bit multiplication, and GPU quantization are unavailable.\n",
      "  warn(\"The installed version of bitsandbytes was compiled without GPU support. \"\n"
     ]
    },
    {
     "name": "stdout",
     "output_type": "stream",
     "text": [
      "'NoneType' object has no attribute 'cadam32bit_grad_fp32'\n"
     ]
    }
   ],
   "source": [
    "model = get_peft_model(model, lora_config)"
   ]
  },
  {
   "cell_type": "code",
   "execution_count": 16,
   "id": "b6441e2c",
   "metadata": {},
   "outputs": [
    {
     "data": {
      "text/plain": [
       "Dataset({\n",
       "    features: ['input', 'output', 'input_ids', 'attention_mask', 'labels'],\n",
       "    num_rows: 15100\n",
       "})"
      ]
     },
     "execution_count": 16,
     "metadata": {},
     "output_type": "execute_result"
    }
   ],
   "source": [
    "tokenized_train_data"
   ]
  },
  {
   "cell_type": "code",
   "execution_count": 17,
   "id": "a86b6c11",
   "metadata": {},
   "outputs": [],
   "source": [
    "output_dir = \"/Volumes/LaCie/Projects_portfolio/NLP/SupportIQ/data/\"\n",
    "training_args = TrainingArguments(\n",
    "                output_dir=output_dir,\n",
    "                learning_rate=1e-5,\n",
    "                num_train_epochs=1,\n",
    "                weight_decay=0.01,\n",
    "                logging_steps=1,\n",
    "                label_names=[\"labels\"],\n",
    "                )"
   ]
  },
  {
   "cell_type": "code",
   "execution_count": 18,
   "id": "512ff05e",
   "metadata": {},
   "outputs": [
    {
     "name": "stderr",
     "output_type": "stream",
     "text": [
      "/var/folders/tp/r9md9jss78nf28s4cq7vcg580000gn/T/ipykernel_49255/1306386489.py:1: FutureWarning: `tokenizer` is deprecated and will be removed in version 5.0.0 for `Trainer.__init__`. Use `processing_class` instead.\n",
      "  trainer = Trainer(\n"
     ]
    }
   ],
   "source": [
    "trainer = Trainer(\n",
    "                model=model,\n",
    "                train_dataset=tokenized_train_data,\n",
    "                eval_dataset=tokenized_val_data,\n",
    "                # peft_config=lora_config,\n",
    "                args=training_args,\n",
    "                tokenizer=tokenizer,\n",
    "                # formatting_func=None\n",
    "            )"
   ]
  },
  {
   "cell_type": "code",
   "execution_count": null,
   "id": "274207f5",
   "metadata": {},
   "outputs": [
    {
     "name": "stderr",
     "output_type": "stream",
     "text": [
      "/Volumes/LaCie/Projects_portfolio/NLP/SupportIQ/venv/lib/python3.11/site-packages/torch/utils/data/dataloader.py:683: UserWarning: 'pin_memory' argument is set as true but not supported on MPS now, then device pinned memory won't be used.\n",
      "  warnings.warn(warn_msg)\n",
      "Passing a tuple of `past_key_values` is deprecated and will be removed in Transformers v4.48.0. You should pass an instance of `EncoderDecoderCache` instead, e.g. `past_key_values=EncoderDecoderCache.from_legacy_cache(past_key_values)`.\n"
     ]
    },
    {
     "data": {
      "text/html": [
       "\n",
       "    <div>\n",
       "      \n",
       "      <progress value='3' max='1888' style='width:300px; height:20px; vertical-align: middle;'></progress>\n",
       "      [   3/1888 6:12:16 < 11695:24:07, 0.00 it/s, Epoch 0.00/1]\n",
       "    </div>\n",
       "    <table border=\"1\" class=\"dataframe\">\n",
       "  <thead>\n",
       " <tr style=\"text-align: left;\">\n",
       "      <th>Step</th>\n",
       "      <th>Training Loss</th>\n",
       "    </tr>\n",
       "  </thead>\n",
       "  <tbody>\n",
       "    <tr>\n",
       "      <td>1</td>\n",
       "      <td>4.398400</td>\n",
       "    </tr>\n",
       "  </tbody>\n",
       "</table><p>"
      ],
      "text/plain": [
       "<IPython.core.display.HTML object>"
      ]
     },
     "metadata": {},
     "output_type": "display_data"
    }
   ],
   "source": [
    "trainer.train()"
   ]
  },
  {
   "cell_type": "code",
   "execution_count": null,
   "id": "78fa725f",
   "metadata": {},
   "outputs": [],
   "source": []
  },
  {
   "cell_type": "code",
   "execution_count": null,
   "id": "35c43384",
   "metadata": {},
   "outputs": [],
   "source": []
  },
  {
   "cell_type": "code",
   "execution_count": null,
   "id": "e1ec95f2",
   "metadata": {},
   "outputs": [],
   "source": []
  }
 ],
 "metadata": {
  "kernelspec": {
   "display_name": "venv",
   "language": "python",
   "name": "python3"
  },
  "language_info": {
   "codemirror_mode": {
    "name": "ipython",
    "version": 3
   },
   "file_extension": ".py",
   "mimetype": "text/x-python",
   "name": "python",
   "nbconvert_exporter": "python",
   "pygments_lexer": "ipython3",
   "version": "3.11.12"
  }
 },
 "nbformat": 4,
 "nbformat_minor": 5
}
