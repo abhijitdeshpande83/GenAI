{
 "cells": [
  {
   "cell_type": "code",
   "execution_count": 2,
   "id": "463276f6",
   "metadata": {},
   "outputs": [],
   "source": [
    "from sagemaker.huggingface.model import HuggingFaceModel\n",
    "import sagemaker"
   ]
  },
  {
   "cell_type": "code",
   "execution_count": 4,
   "id": "e88409d9",
   "metadata": {},
   "outputs": [],
   "source": [
    "ROLE='arn:aws:iam::720332985926:role/service-role/AmazonSageMaker-ExecutionRole-20240705T185967'\n",
    "SOURCE_DIR='/Volumes/LaCie/Projects_portfolio/NLP/SupportIQ/src'"
   ]
  },
  {
   "cell_type": "code",
   "execution_count": 5,
   "id": "e48b593e",
   "metadata": {},
   "outputs": [],
   "source": [
    "sagemaker_session = sagemaker.Session()"
   ]
  },
  {
   "cell_type": "code",
   "execution_count": 8,
   "id": "21841050",
   "metadata": {},
   "outputs": [],
   "source": [
    "model_uri = 's3://sagemaker-us-east-1-720332985926/huggingface-pytorch-training-2025-06-19-23-24-05-737/output/model.tar.gz'"
   ]
  },
  {
   "cell_type": "code",
   "execution_count": 10,
   "id": "c2571b70",
   "metadata": {},
   "outputs": [],
   "source": [
    "huggingface_model = HuggingFaceModel(\n",
    "    entry_point='inference.py',\n",
    "    model_data=model_uri,\n",
    "    role=ROLE,\n",
    "    transformers_version='4.49.0',\n",
    "    py_version='py311',\n",
    "    pytorch_version='2.5.1',\n",
    "    sagemaker_session=sagemaker_session\n",
    "    )"
   ]
  },
  {
   "cell_type": "code",
   "execution_count": null,
   "id": "1d1bea72",
   "metadata": {},
   "outputs": [],
   "source": []
  },
  {
   "cell_type": "code",
   "execution_count": null,
   "id": "8ee54904",
   "metadata": {},
   "outputs": [],
   "source": []
  }
 ],
 "metadata": {
  "kernelspec": {
   "display_name": "venv",
   "language": "python",
   "name": "python3"
  },
  "language_info": {
   "codemirror_mode": {
    "name": "ipython",
    "version": 3
   },
   "file_extension": ".py",
   "mimetype": "text/x-python",
   "name": "python",
   "nbconvert_exporter": "python",
   "pygments_lexer": "ipython3",
   "version": "3.11.12"
  }
 },
 "nbformat": 4,
 "nbformat_minor": 5
}
