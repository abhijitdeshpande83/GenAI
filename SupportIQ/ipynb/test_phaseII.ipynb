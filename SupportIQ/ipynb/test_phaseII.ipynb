{
 "cells": [
  {
   "cell_type": "code",
   "execution_count": 1,
   "id": "e84fc689",
   "metadata": {},
   "outputs": [],
   "source": [
    "from datasets import load_dataset"
   ]
  },
  {
   "cell_type": "code",
   "execution_count": 2,
   "id": "f812c8c4",
   "metadata": {},
   "outputs": [],
   "source": [
    "data_multi_woz = load_dataset('pfb30/multi_woz_v22',trust_remote_code=True, split='train')"
   ]
  },
  {
   "cell_type": "code",
   "execution_count": 3,
   "id": "863a1986",
   "metadata": {},
   "outputs": [],
   "source": [
    "def format_data(data):\n",
    "    if not data.features.keys()=={'dialogue_id', 'services', 'turns'}:\n",
    "        raise ValueError(\"Data is not in correct format, please check the format\")\n",
    "    dataset, label_list = [], set()\n",
    "    i=0\n",
    "    for d in data:\n",
    "        utterance = d['turns']['utterance']\n",
    "        try: \n",
    "            domain = d['turns']['frames'][0]['service'][0]\n",
    "        except:\n",
    "            domain = \"general\"\n",
    "        label_list.add(domain)\n",
    "        for i in range(0,len(utterance),2):\n",
    "            user = f\"[Domain: {domain}] User: {utterance[i]}\"\n",
    "            system = utterance[i+1]\n",
    "            dataset.append({\"input_text\":user, 'target_text':system})\n",
    "   \n",
    "    return dataset, label_list"
   ]
  },
  {
   "cell_type": "code",
   "execution_count": 4,
   "id": "4d4ce4cd",
   "metadata": {},
   "outputs": [],
   "source": [
    "dataset_mutli, labels_multi = format_data(data_multi_woz)"
   ]
  },
  {
   "cell_type": "code",
   "execution_count": 5,
   "id": "00c7da53",
   "metadata": {},
   "outputs": [],
   "source": [
    "data_sgd = load_dataset(\"schema_guided_dstc8\", trust_remote_code=True, split=\"train\")"
   ]
  },
  {
   "cell_type": "code",
   "execution_count": 6,
   "id": "cff67ad3",
   "metadata": {},
   "outputs": [],
   "source": [
    "dataset_sgd, labels_sgd = format_data(data_sgd)"
   ]
  },
  {
   "cell_type": "code",
   "execution_count": 7,
   "id": "b8b6afde",
   "metadata": {},
   "outputs": [
    {
     "data": {
      "text/plain": [
       "{'Banks_1',\n",
       " 'Buses_1',\n",
       " 'Buses_2',\n",
       " 'Calendar_1',\n",
       " 'Events_1',\n",
       " 'Events_2',\n",
       " 'Flights_1',\n",
       " 'Flights_2',\n",
       " 'Homes_1',\n",
       " 'Hotels_1',\n",
       " 'Hotels_2',\n",
       " 'Hotels_3',\n",
       " 'Media_1',\n",
       " 'Movies_1',\n",
       " 'Music_1',\n",
       " 'Music_2',\n",
       " 'RentalCars_1',\n",
       " 'RentalCars_2',\n",
       " 'Restaurants_1',\n",
       " 'RideSharing_1',\n",
       " 'RideSharing_2',\n",
       " 'Services_1',\n",
       " 'Services_2',\n",
       " 'Services_3',\n",
       " 'Travel_1',\n",
       " 'Weather_1'}"
      ]
     },
     "execution_count": 7,
     "metadata": {},
     "output_type": "execute_result"
    }
   ],
   "source": [
    "labels_sgd"
   ]
  },
  {
   "cell_type": "code",
   "execution_count": 14,
   "id": "1f75d6b9",
   "metadata": {},
   "outputs": [
    {
     "data": {
      "text/plain": [
       "{'attraction',\n",
       " 'bus',\n",
       " 'general',\n",
       " 'hospital',\n",
       " 'hotel',\n",
       " 'police',\n",
       " 'restaurant',\n",
       " 'taxi',\n",
       " 'train'}"
      ]
     },
     "execution_count": 14,
     "metadata": {},
     "output_type": "execute_result"
    }
   ],
   "source": [
    "labels_multi"
   ]
  },
  {
   "cell_type": "code",
   "execution_count": null,
   "id": "f9965064",
   "metadata": {},
   "outputs": [],
   "source": [
    "def format_data(data):\n",
    "    if not data.features.keys()=={'dialogue_id', 'services', 'turns'}:\n",
    "        raise ValueError(\"Data is not in correct format, please check the format\")\n",
    "    dataset, label_list = [], set()\n",
    "    i=0\n",
    "    for d in data:\n",
    "        utterance = d['turns']['utterance']\n",
    "        try: \n",
    "            domain = d['turns']['frames'][0]['service'][0]\n",
    "        except:\n",
    "            domain = \"general\"\n",
    "        label_list.add(domain)\n",
    "        for i in range(0,len(utterance),2):\n",
    "            user = f\"[Domain: {domain}] User: {utterance[i]}\"\n",
    "            system = utterance[i+1]\n",
    "            dataset.append({\"input_text\":user, 'target_text':system})\n",
    "   \n",
    "    return dataset, label_list"
   ]
  },
  {
   "cell_type": "code",
   "execution_count": null,
   "id": "ea2e9498",
   "metadata": {},
   "outputs": [],
   "source": []
  },
  {
   "cell_type": "code",
   "execution_count": null,
   "id": "f048a57a",
   "metadata": {},
   "outputs": [],
   "source": []
  },
  {
   "cell_type": "code",
   "execution_count": null,
   "id": "bf4ef752",
   "metadata": {},
   "outputs": [],
   "source": []
  },
  {
   "cell_type": "code",
   "execution_count": null,
   "id": "366b064c",
   "metadata": {},
   "outputs": [],
   "source": []
  },
  {
   "cell_type": "code",
   "execution_count": null,
   "id": "31323f48",
   "metadata": {},
   "outputs": [],
   "source": []
  },
  {
   "cell_type": "code",
   "execution_count": null,
   "id": "9c1936e4",
   "metadata": {},
   "outputs": [],
   "source": []
  }
 ],
 "metadata": {
  "kernelspec": {
   "display_name": "venv",
   "language": "python",
   "name": "python3"
  },
  "language_info": {
   "codemirror_mode": {
    "name": "ipython",
    "version": 3
   },
   "file_extension": ".py",
   "mimetype": "text/x-python",
   "name": "python",
   "nbconvert_exporter": "python",
   "pygments_lexer": "ipython3",
   "version": "3.11.13"
  }
 },
 "nbformat": 4,
 "nbformat_minor": 5
}
