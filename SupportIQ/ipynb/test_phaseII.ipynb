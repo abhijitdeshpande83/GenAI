{
 "cells": [
  {
   "cell_type": "code",
   "execution_count": 1,
   "id": "e84fc689",
   "metadata": {},
   "outputs": [],
   "source": [
    "from datasets import load_dataset\n",
    "import inflect\n",
    "import regex as re\n",
    "import json"
   ]
  },
  {
   "cell_type": "code",
   "execution_count": 2,
   "id": "00c7da53",
   "metadata": {},
   "outputs": [],
   "source": [
    "data_train = load_dataset(\"schema_guided_dstc8\", trust_remote_code=True, split=\"train\")\n",
    "data_val = load_dataset(\"schema_guided_dstc8\", trust_remote_code=True, split=\"validation\")\n",
    "data_test = load_dataset(\"schema_guided_dstc8\", trust_remote_code=True, split=\"test\")"
   ]
  },
  {
   "cell_type": "code",
   "execution_count": 3,
   "id": "446ae784",
   "metadata": {},
   "outputs": [],
   "source": [
    "def format_label(label):\n",
    "    label = label.split('_')[0].lower()\n",
    "    p = inflect.engine()\n",
    "    if re.fullmatch(r'\\w+s',label):\n",
    "        label = p.singular_noun(label)\n",
    "    return label\n",
    "\n",
    "def format_data_sgd(data):\n",
    "    if not data.features.keys()=={'dialogue_id', 'services', 'turns'}:\n",
    "        raise ValueError(\"Data is not in correct format, please check the format\")\n",
    "    dataset, label_list = [], set()\n",
    "    i=0\n",
    "    for d in data:\n",
    "        utterance = d['turns']['utterance']\n",
    " \n",
    "        for i in range(0,len(utterance),2):\n",
    "            label = d['turns']['frames'][i]['service'][0]\n",
    "            domain = format_label(label)\n",
    "            user = f\"[Domain: {domain}] User: {utterance[i]}\"\n",
    "            system = utterance[i+1]\n",
    "            dataset.append({\"input\":user, 'output':system})\n",
    "            label_list.add(domain)\n",
    "   \n",
    "    return dataset, label_list"
   ]
  },
  {
   "cell_type": "code",
   "execution_count": 4,
   "id": "cff67ad3",
   "metadata": {},
   "outputs": [],
   "source": [
    "train_dataset, labels_train = format_data_sgd(data_train)\n",
    "val_dataset, labels_val = format_data_sgd(data_val)\n",
    "test_dataset, labels_test = format_data_sgd(data_test)"
   ]
  },
  {
   "cell_type": "code",
   "execution_count": 5,
   "id": "d5999604",
   "metadata": {},
   "outputs": [],
   "source": [
    "def filter_data(dataset, domain):\n",
    "    return dataset.filter(lambda x: any(domain in service for service in x['services']))"
   ]
  },
  {
   "cell_type": "code",
   "execution_count": 16,
   "id": "f9965064",
   "metadata": {},
   "outputs": [],
   "source": [
    "import boto3\n",
    "s3 = boto3.client('s3')"
   ]
  },
  {
   "cell_type": "code",
   "execution_count": 26,
   "id": "2e0b6d8d",
   "metadata": {},
   "outputs": [],
   "source": [
    "path_dir = '/Volumes/LaCie/Projects_portfolio/NLP/SupportIQ/data/val.json'"
   ]
  },
  {
   "cell_type": "code",
   "execution_count": 27,
   "id": "fa518fc7",
   "metadata": {},
   "outputs": [],
   "source": [
    "s3.upload_file(Filename=path_dir, Bucket='gen-ai-repository', Key='finetuning/flan-t5/data/val.json')"
   ]
  },
  {
   "cell_type": "code",
   "execution_count": 15,
   "id": "fea14271",
   "metadata": {},
   "outputs": [],
   "source": [
    "def convert_into_json(path,data):\n",
    "    with open(path, 'w') as f:\n",
    "        json.dump(data, f, indent=3)"
   ]
  },
  {
   "cell_type": "code",
   "execution_count": 16,
   "id": "2c5404bc",
   "metadata": {},
   "outputs": [],
   "source": [
    "path = \"/Volumes/LaCie/Projects_portfolio/NLP/SupportIQ/data/val.json\"\n",
    "convert_into_json(path,val_dataset)"
   ]
  },
  {
   "cell_type": "code",
   "execution_count": 8,
   "id": "9b44f30f",
   "metadata": {},
   "outputs": [],
   "source": [
    "import sys, os\n",
    "sys.path.append(os.path.abspath('..'))"
   ]
  },
  {
   "cell_type": "code",
   "execution_count": 9,
   "id": "dfde91af",
   "metadata": {},
   "outputs": [],
   "source": [
    "from src.utils.loader import tokenize_data"
   ]
  },
  {
   "cell_type": "code",
   "execution_count": 10,
   "id": "4dcdb2b5",
   "metadata": {},
   "outputs": [],
   "source": [
    "from transformers import T5Tokenizer"
   ]
  },
  {
   "cell_type": "code",
   "execution_count": 11,
   "id": "5771c260",
   "metadata": {},
   "outputs": [
    {
     "name": "stderr",
     "output_type": "stream",
     "text": [
      "You are using the default legacy behaviour of the <class 'transformers.models.t5.tokenization_t5.T5Tokenizer'>. This is expected, and simply means that the `legacy` (previous) behavior will be used so nothing changes for you. If you want to use the new behaviour, set `legacy=False`. This should only be set if you understand what it means, and thoroughly read the reason why this was added as explained in https://github.com/huggingface/transformers/pull/24565\n"
     ]
    }
   ],
   "source": [
    "tokenizer = T5Tokenizer.from_pretrained(\"google/flan-t5-base\")  # or \"t5-small\", \"t5-large\", etc."
   ]
  },
  {
   "cell_type": "code",
   "execution_count": 18,
   "id": "3c878ee0",
   "metadata": {},
   "outputs": [
    {
     "data": {
      "application/vnd.jupyter.widget-view+json": {
       "model_id": "e2bab7a11a9b4a1da286ccf7d9f3c173",
       "version_major": 2,
       "version_minor": 0
      },
      "text/plain": [
       "Map:   0%|          | 0/164982 [00:00<?, ? examples/s]"
      ]
     },
     "metadata": {},
     "output_type": "display_data"
    },
    {
     "data": {
      "application/vnd.jupyter.widget-view+json": {
       "model_id": "b1f59e5262364367a08c22d2c238d3d4",
       "version_major": 2,
       "version_minor": 0
      },
      "text/plain": [
       "Map:   0%|          | 0/164982 [00:00<?, ? examples/s]"
      ]
     },
     "metadata": {},
     "output_type": "display_data"
    }
   ],
   "source": [
    "train, val, _, _ = tokenize_data(path='/Volumes/LaCie/Projects_portfolio/NLP/SupportIQ/data', task_type='seq2seq', tokenizer=tokenizer, max_length=64)"
   ]
  },
  {
   "cell_type": "code",
   "execution_count": null,
   "id": "391918a8",
   "metadata": {},
   "outputs": [],
   "source": []
  },
  {
   "cell_type": "code",
   "execution_count": null,
   "id": "aa8f3bc0",
   "metadata": {},
   "outputs": [],
   "source": []
  },
  {
   "cell_type": "code",
   "execution_count": null,
   "id": "49f84db4",
   "metadata": {},
   "outputs": [],
   "source": []
  },
  {
   "cell_type": "code",
   "execution_count": null,
   "id": "1738cb31",
   "metadata": {},
   "outputs": [],
   "source": [
    "data_multi_woz = load_dataset('pfb30/multi_woz_v22',trust_remote_code=True, split='train')\n",
    "\n",
    "def format_data_multi(data):\n",
    "    if not data.features.keys()=={'dialogue_id', 'services', 'turns'}:\n",
    "        raise ValueError(\"Data is not in correct format, please check the format\")\n",
    "    dataset, label_list = [], set()\n",
    "    i=0\n",
    "    for d in data:\n",
    "        utterance = d['turns']['utterance']\n",
    "        try: \n",
    "            domain = d['turns']['frames'][0]['service']\n",
    "            if len(domain)>1:\n",
    "                continue\n",
    "            else:\n",
    "                domain=domain[0]\n",
    "        except:\n",
    "            continue\n",
    "        label_list.add(domain)\n",
    "        for i in range(0,len(utterance),2):\n",
    "            user = f\"[Domain: {domain}] User: {utterance[i]}\"\n",
    "            system = utterance[i+1]\n",
    "            dataset.append({\"input\":user, 'output':system})\n",
    "   \n",
    "    return dataset, label_list\n",
    "\n",
    "dataset_mutli, labels_multi = format_data_multi(data_multi_woz)"
   ]
  },
  {
   "cell_type": "code",
   "execution_count": null,
   "id": "8b2b9cae",
   "metadata": {},
   "outputs": [],
   "source": []
  }
 ],
 "metadata": {
  "kernelspec": {
   "display_name": "venv",
   "language": "python",
   "name": "python3"
  },
  "language_info": {
   "codemirror_mode": {
    "name": "ipython",
    "version": 3
   },
   "file_extension": ".py",
   "mimetype": "text/x-python",
   "name": "python",
   "nbconvert_exporter": "python",
   "pygments_lexer": "ipython3",
   "version": "3.11.13"
  }
 },
 "nbformat": 4,
 "nbformat_minor": 5
}
