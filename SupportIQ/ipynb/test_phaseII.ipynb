{
 "cells": [
  {
   "cell_type": "code",
   "execution_count": 1,
   "id": "e84fc689",
   "metadata": {},
   "outputs": [],
   "source": [
    "from datasets import load_dataset"
   ]
  },
  {
   "cell_type": "code",
   "execution_count": 2,
   "id": "f812c8c4",
   "metadata": {},
   "outputs": [],
   "source": [
    "data_multi_woz = load_dataset('pfb30/multi_woz_v22',trust_remote_code=True, split='train')"
   ]
  },
  {
   "cell_type": "code",
   "execution_count": 3,
   "id": "863a1986",
   "metadata": {},
   "outputs": [],
   "source": [
    "def format_data_multi(data):\n",
    "    if not data.features.keys()=={'dialogue_id', 'services', 'turns'}:\n",
    "        raise ValueError(\"Data is not in correct format, please check the format\")\n",
    "    dataset, label_list = [], set()\n",
    "    i=0\n",
    "    for d in data:\n",
    "        utterance = d['turns']['utterance']\n",
    "        try: \n",
    "            domain = d['turns']['frames'][0]['service']\n",
    "            if len(domain)>1:\n",
    "                continue\n",
    "            else:\n",
    "                domain=domain[0]\n",
    "        except:\n",
    "            continue\n",
    "        label_list.add(domain)\n",
    "        for i in range(0,len(utterance),2):\n",
    "            user = f\"[Domain: {domain}] User: {utterance[i]}\"\n",
    "            system = utterance[i+1]\n",
    "            dataset.append({\"input_text\":user, 'target_text':system})\n",
    "   \n",
    "    return dataset, label_list"
   ]
  },
  {
   "cell_type": "code",
   "execution_count": 4,
   "id": "4d4ce4cd",
   "metadata": {},
   "outputs": [],
   "source": [
    "dataset_mutli, labels_multi = format_data_multi(data_multi_woz)"
   ]
  },
  {
   "cell_type": "code",
   "execution_count": 5,
   "id": "00c7da53",
   "metadata": {},
   "outputs": [],
   "source": [
    "data_sgd = load_dataset(\"schema_guided_dstc8\", trust_remote_code=True, split=\"train\")"
   ]
  },
  {
   "cell_type": "code",
   "execution_count": 6,
   "id": "d1a0733d",
   "metadata": {},
   "outputs": [],
   "source": [
    "def format_data_sgd(data):\n",
    "    if not data.features.keys()=={'dialogue_id', 'services', 'turns'}:\n",
    "        raise ValueError(\"Data is not in correct format, please check the format\")\n",
    "    dataset, label_list = [], set()\n",
    "    i=0\n",
    "    for d in data:\n",
    "        utterance = d['turns']['utterance']\n",
    " \n",
    "        for i in range(0,len(utterance),2):\n",
    "            domain = d['turns']['frames'][i]['service'][0]\n",
    "            domain = domain.split('_')[0].lower()\n",
    "            user = f\"[Domain: {domain}] User: {utterance[i]}\"\n",
    "            system = utterance[i+1]\n",
    "            dataset.append({\"input_text\":user, 'target_text':system})\n",
    "            label_list.add(domain)\n",
    "   \n",
    "    return dataset, label_list"
   ]
  },
  {
   "cell_type": "code",
   "execution_count": 7,
   "id": "cff67ad3",
   "metadata": {},
   "outputs": [],
   "source": [
    "dataset_sgd, labels_sgd = format_data_sgd(data_sgd)"
   ]
  },
  {
   "cell_type": "code",
   "execution_count": 26,
   "id": "d5999604",
   "metadata": {},
   "outputs": [],
   "source": [
    "def filter_data(dataset, domain):\n",
    "    return dataset.filter(lambda x: any(domain in service for service in x['services']))"
   ]
  },
  {
   "cell_type": "code",
   "execution_count": 34,
   "id": "f9965064",
   "metadata": {},
   "outputs": [
    {
     "data": {
      "text/plain": [
       "211436"
      ]
     },
     "execution_count": 34,
     "metadata": {},
     "output_type": "execute_result"
    }
   ],
   "source": [
    "len(dataset_mutli) + len(dataset_sgd)"
   ]
  },
  {
   "cell_type": "code",
   "execution_count": 35,
   "id": "fea14271",
   "metadata": {},
   "outputs": [
    {
     "data": {
      "text/plain": [
       "{'attraction', 'hospital', 'hotel', 'police', 'restaurant', 'taxi', 'train'}"
      ]
     },
     "execution_count": 35,
     "metadata": {},
     "output_type": "execute_result"
    }
   ],
   "source": [
    "labels_multi"
   ]
  },
  {
   "cell_type": "code",
   "execution_count": 36,
   "id": "95bafdb8",
   "metadata": {},
   "outputs": [
    {
     "data": {
      "text/plain": [
       "{'banks',\n",
       " 'buses',\n",
       " 'calendar',\n",
       " 'events',\n",
       " 'flights',\n",
       " 'homes',\n",
       " 'hotels',\n",
       " 'media',\n",
       " 'movies',\n",
       " 'music',\n",
       " 'rentalcars',\n",
       " 'restaurants',\n",
       " 'ridesharing',\n",
       " 'services',\n",
       " 'travel',\n",
       " 'weather'}"
      ]
     },
     "execution_count": 36,
     "metadata": {},
     "output_type": "execute_result"
    }
   ],
   "source": [
    "labels_sgd"
   ]
  },
  {
   "cell_type": "code",
   "execution_count": null,
   "id": "2c246459",
   "metadata": {},
   "outputs": [],
   "source": [
    "{\"banks\": \"bank\" }"
   ]
  }
 ],
 "metadata": {
  "kernelspec": {
   "display_name": "venv",
   "language": "python",
   "name": "python3"
  },
  "language_info": {
   "codemirror_mode": {
    "name": "ipython",
    "version": 3
   },
   "file_extension": ".py",
   "mimetype": "text/x-python",
   "name": "python",
   "nbconvert_exporter": "python",
   "pygments_lexer": "ipython3",
   "version": "3.11.13"
  }
 },
 "nbformat": 4,
 "nbformat_minor": 5
}
