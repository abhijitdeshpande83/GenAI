{
 "cells": [
  {
   "cell_type": "code",
   "execution_count": 15,
   "id": "2fd83250",
   "metadata": {},
   "outputs": [
    {
     "data": {
      "text/plain": [
       "True"
      ]
     },
     "execution_count": 15,
     "metadata": {},
     "output_type": "execute_result"
    }
   ],
   "source": [
    "#Importing necessary libraries\n",
    "from sagemaker.huggingface import HuggingFace\n",
    "import sagemaker\n",
    "import os\n",
    "from dotenv import load_dotenv\n",
    "load_dotenv()"
   ]
  },
  {
   "cell_type": "code",
   "execution_count": 14,
   "id": "18172921",
   "metadata": {},
   "outputs": [
    {
     "name": "stdout",
     "output_type": "stream",
     "text": [
      "{'UserId': 'AIDA2PNZRCZDH2V4XL47W', 'Account': '720332985926', 'Arn': 'arn:aws:iam::720332985926:user/dev-user', 'ResponseMetadata': {'RequestId': '55015a3c-ac1b-43c9-b62f-8dfe73913cae', 'HTTPStatusCode': 200, 'HTTPHeaders': {'x-amzn-requestid': '55015a3c-ac1b-43c9-b62f-8dfe73913cae', 'content-type': 'text/xml', 'content-length': '405', 'date': 'Fri, 18 Jul 2025 04:23:24 GMT'}, 'RetryAttempts': 0}}\n"
     ]
    }
   ],
   "source": [
    "import os\n",
    "\n",
    "# Remove proxy vars if not needed\n",
    "os.environ.pop(\"HTTP_PROXY\", None)\n",
    "os.environ.pop(\"HTTPS_PROXY\", None)\n",
    "\n",
    "# Use the certifi-provided CA bundle\n",
    "os.environ[\"AWS_CA_BUNDLE\"] = \"/Volumes/LaCie/Projects_portfolio/NLP/SupportIQ/venv/lib/python3.11/site-packages/certifi/cacert.pem\"\n",
    "\n",
    "# Test AWS call\n",
    "import boto3\n",
    "print(boto3.client('sts').get_caller_identity())"
   ]
  },
  {
   "cell_type": "code",
   "execution_count": 16,
   "id": "79667e1b",
   "metadata": {},
   "outputs": [],
   "source": [
    "#settinng up AWS profile\n",
    "os.environ['AWS_PROFILE'] = 'dev-user'\n",
    "\n",
    "session = sagemaker.Session()"
   ]
  },
  {
   "cell_type": "code",
   "execution_count": 17,
   "id": "d2ce1171",
   "metadata": {},
   "outputs": [],
   "source": [
    "#Defining hyper parameters\n",
    "hyper_parameters = {\n",
    "    'model_id': 'google/flan-t5-base',\n",
    "    'task_type':'seq2seq',\n",
    "    'rank': 64,\n",
    "    'alpha': 128,\n",
    "    'dropout': 0.05,\n",
    "    'bias': 'none',\n",
    "    'lr': 1e-5,\n",
    "    'epochs': 10,\n",
    "    'wd': 0.01,\n",
    "    'logging_steps': 50,\n",
    "    'batch_size': 32,\n",
    "    'save_steps': 200,\n",
    "    'eval_steps': 100,\n",
    "    'target_module': 'q,k,v',\n",
    "    'early_stopping': 3,\n",
    "    'max_length': 64\n",
    "}"
   ]
  },
  {
   "cell_type": "code",
   "execution_count": 18,
   "id": "8000b319",
   "metadata": {},
   "outputs": [],
   "source": [
    "huggingface_estimator = HuggingFace(\n",
    "            entry_point='train.py',\n",
    "            source_dir=os.getenv(\"SOURCE_DIR\"),\n",
    "            role=os.getenv(\"ROLE\"),\n",
    "            instance_type='ml.g4dn.xlarge',\n",
    "            instance_count=1,\n",
    "            transformers_version='4.49.0',\n",
    "            py_version='py311',\n",
    "            pytorch_version='2.5.1',\n",
    "            hyperparameters = hyper_parameters\n",
    ")"
   ]
  },
  {
   "cell_type": "code",
   "execution_count": null,
   "id": "5a8a1260",
   "metadata": {},
   "outputs": [
    {
     "name": "stderr",
     "output_type": "stream",
     "text": [
      "INFO:sagemaker.telemetry.telemetry_logging:SageMaker Python SDK will collect telemetry to help us better understand our user's needs, diagnose issues, and deliver additional features.\n",
      "To opt out of telemetry, please disable via TelemetryOptOut parameter in SDK defaults config. For more information, refer to https://sagemaker.readthedocs.io/en/stable/overview.html#configuring-and-using-defaults-with-the-sagemaker-python-sdk.\n",
      "INFO:sagemaker.image_uris:image_uri is not presented, retrieving image_uri based on instance_type, framework etc.\n",
      "INFO:sagemaker.image_uris:image_uri is not presented, retrieving image_uri based on instance_type, framework etc.\n",
      "INFO:sagemaker:Creating training-job with name: huggingface-pytorch-training-2025-07-18-04-23-32-177\n"
     ]
    }
   ],
   "source": [
    "huggingface_estimator.fit({'training': 's3://gen-ai-repository/finetuning/flan-t5/data/'}, wait=False)"
   ]
  },
  {
   "cell_type": "code",
   "execution_count": 41,
   "id": "6d91b723",
   "metadata": {},
   "outputs": [
    {
     "data": {
      "text/plain": [
       "'InProgress'"
      ]
     },
     "execution_count": 41,
     "metadata": {},
     "output_type": "execute_result"
    }
   ],
   "source": [
    "huggingface_estimator.latest_training_job.describe()[\"TrainingJobStatus\"]"
   ]
  },
  {
   "cell_type": "code",
   "execution_count": 26,
   "id": "eb6d3e32",
   "metadata": {},
   "outputs": [],
   "source": [
    "job_name = huggingface_estimator.latest_training_job.name"
   ]
  },
  {
   "cell_type": "code",
   "execution_count": 34,
   "id": "b5297037",
   "metadata": {},
   "outputs": [],
   "source": [
    "sm = boto3.client('sagemaker')"
   ]
  },
  {
   "cell_type": "code",
   "execution_count": 51,
   "id": "98147952",
   "metadata": {},
   "outputs": [
    {
     "name": "stdout",
     "output_type": "stream",
     "text": [
      "Status: InProgress\n"
     ]
    }
   ],
   "source": [
    "status = sm.describe_training_job(TrainingJobName=job_name)\n",
    "print(\"Status:\", status['TrainingJobStatus'])"
   ]
  },
  {
   "cell_type": "code",
   "execution_count": 45,
   "id": "d2a78618",
   "metadata": {},
   "outputs": [],
   "source": [
    "#After Job complete run this to see logs\n",
    "# estimator = HuggingFace.attach(training_job_name=job_name)  \n",
    "# estimator.logs(stream=True, wait=False)"
   ]
  },
  {
   "cell_type": "code",
   "execution_count": null,
   "id": "f899e269",
   "metadata": {},
   "outputs": [],
   "source": [
    "model_artifact_s3_uri = huggingface_estimator.model_data\n",
    "print(\"Model Artifact S3 URI:\")\n",
    "print(model_artifact_s3_uri)"
   ]
  }
 ],
 "metadata": {
  "kernelspec": {
   "display_name": "venv",
   "language": "python",
   "name": "python3"
  },
  "language_info": {
   "codemirror_mode": {
    "name": "ipython",
    "version": 3
   },
   "file_extension": ".py",
   "mimetype": "text/x-python",
   "name": "python",
   "nbconvert_exporter": "python",
   "pygments_lexer": "ipython3",
   "version": "3.11.13"
  }
 },
 "nbformat": 4,
 "nbformat_minor": 5
}
