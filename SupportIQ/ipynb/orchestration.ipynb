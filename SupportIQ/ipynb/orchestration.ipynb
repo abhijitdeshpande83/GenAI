{
 "cells": [
  {
   "cell_type": "code",
   "execution_count": 9,
   "id": "2c61669d",
   "metadata": {},
   "outputs": [],
   "source": [
    "import re\n",
    "import json\n",
    "from collections import defaultdict\n",
    "from src.utils.loader import load_data"
   ]
  },
  {
   "cell_type": "code",
   "execution_count": 10,
   "id": "db5b16de",
   "metadata": {},
   "outputs": [],
   "source": [
    "import sys, os\n",
    "sys.path.append(os.path.abspath('..'))"
   ]
  },
  {
   "cell_type": "code",
   "execution_count": 11,
   "id": "727ed247",
   "metadata": {},
   "outputs": [],
   "source": [
    "path = '/Volumes/LaCie/Projects_portfolio/NLP/SupportIQ/data/data_full.json'"
   ]
  },
  {
   "cell_type": "code",
   "execution_count": 12,
   "id": "a322cfdd",
   "metadata": {},
   "outputs": [],
   "source": [
    "train, _ = load_data(path)"
   ]
  },
  {
   "cell_type": "code",
   "execution_count": 13,
   "id": "052884ad",
   "metadata": {},
   "outputs": [],
   "source": [
    "all_labels = set(train['label'])"
   ]
  },
  {
   "cell_type": "code",
   "execution_count": 14,
   "id": "32a47d9e",
   "metadata": {},
   "outputs": [
    {
     "name": "stdout",
     "output_type": "stream",
     "text": [
      "account_blocked\n",
      "freeze_account\n"
     ]
    }
   ],
   "source": [
    "for label in all_labels:\n",
    "    if re.search(r\"account\",label):\n",
    "        print(label)\n",
    "    "
   ]
  },
  {
   "cell_type": "code",
   "execution_count": 15,
   "id": "1961a9ce",
   "metadata": {},
   "outputs": [
    {
     "data": {
      "text/plain": [
       "{'accept_reservations',\n",
       " 'account_blocked',\n",
       " 'alarm',\n",
       " 'application_status',\n",
       " 'apr',\n",
       " 'are_you_a_bot',\n",
       " 'balance',\n",
       " 'bill_balance',\n",
       " 'bill_due',\n",
       " 'book_flight',\n",
       " 'book_hotel',\n",
       " 'calculator',\n",
       " 'calendar',\n",
       " 'calendar_update',\n",
       " 'calories',\n",
       " 'cancel',\n",
       " 'cancel_reservation',\n",
       " 'car_rental',\n",
       " 'card_declined',\n",
       " 'carry_on',\n",
       " 'change_accent',\n",
       " 'change_ai_name',\n",
       " 'change_language',\n",
       " 'change_speed',\n",
       " 'change_user_name',\n",
       " 'change_volume',\n",
       " 'confirm_reservation',\n",
       " 'cook_time',\n",
       " 'credit_limit',\n",
       " 'credit_limit_change',\n",
       " 'credit_score',\n",
       " 'current_location',\n",
       " 'damaged_card',\n",
       " 'date',\n",
       " 'definition',\n",
       " 'direct_deposit',\n",
       " 'directions',\n",
       " 'distance',\n",
       " 'do_you_have_pets',\n",
       " 'exchange_rate',\n",
       " 'expiration_date',\n",
       " 'find_phone',\n",
       " 'flight_status',\n",
       " 'flip_coin',\n",
       " 'food_last',\n",
       " 'freeze_account',\n",
       " 'fun_fact',\n",
       " 'gas',\n",
       " 'gas_type',\n",
       " 'goodbye',\n",
       " 'greeting',\n",
       " 'how_busy',\n",
       " 'how_old_are_you',\n",
       " 'improve_credit_score',\n",
       " 'income',\n",
       " 'ingredient_substitution',\n",
       " 'ingredients_list',\n",
       " 'insurance',\n",
       " 'insurance_change',\n",
       " 'interest_rate',\n",
       " 'international_fees',\n",
       " 'international_visa',\n",
       " 'jump_start',\n",
       " 'last_maintenance',\n",
       " 'lost_luggage',\n",
       " 'make_call',\n",
       " 'maybe',\n",
       " 'meal_suggestion',\n",
       " 'meaning_of_life',\n",
       " 'measurement_conversion',\n",
       " 'meeting_schedule',\n",
       " 'min_payment',\n",
       " 'mpg',\n",
       " 'new_card',\n",
       " 'next_holiday',\n",
       " 'next_song',\n",
       " 'no',\n",
       " 'nutrition_info',\n",
       " 'oil_change_how',\n",
       " 'oil_change_when',\n",
       " 'oos',\n",
       " 'order',\n",
       " 'order_checks',\n",
       " 'order_status',\n",
       " 'pay_bill',\n",
       " 'payday',\n",
       " 'pin_change',\n",
       " 'play_music',\n",
       " 'plug_type',\n",
       " 'pto_balance',\n",
       " 'pto_request',\n",
       " 'pto_request_status',\n",
       " 'pto_used',\n",
       " 'recipe',\n",
       " 'redeem_rewards',\n",
       " 'reminder',\n",
       " 'reminder_update',\n",
       " 'repeat',\n",
       " 'replacement_card_duration',\n",
       " 'report_fraud',\n",
       " 'report_lost_card',\n",
       " 'reset_settings',\n",
       " 'restaurant_reservation',\n",
       " 'restaurant_reviews',\n",
       " 'restaurant_suggestion',\n",
       " 'rewards_balance',\n",
       " 'roll_dice',\n",
       " 'rollover_401k',\n",
       " 'routing',\n",
       " 'schedule_maintenance',\n",
       " 'schedule_meeting',\n",
       " 'share_location',\n",
       " 'shopping_list',\n",
       " 'shopping_list_update',\n",
       " 'smart_home',\n",
       " 'spelling',\n",
       " 'spending_history',\n",
       " 'sync_device',\n",
       " 'taxes',\n",
       " 'tell_joke',\n",
       " 'text',\n",
       " 'thank_you',\n",
       " 'time',\n",
       " 'timer',\n",
       " 'timezone',\n",
       " 'tire_change',\n",
       " 'tire_pressure',\n",
       " 'todo_list',\n",
       " 'todo_list_update',\n",
       " 'traffic',\n",
       " 'transactions',\n",
       " 'transfer',\n",
       " 'translate',\n",
       " 'travel_alert',\n",
       " 'travel_notification',\n",
       " 'travel_suggestion',\n",
       " 'uber',\n",
       " 'update_playlist',\n",
       " 'user_name',\n",
       " 'vaccines',\n",
       " 'w2',\n",
       " 'weather',\n",
       " 'what_are_your_hobbies',\n",
       " 'what_can_i_ask_you',\n",
       " 'what_is_your_name',\n",
       " 'what_song',\n",
       " 'where_are_you_from',\n",
       " 'whisper_mode',\n",
       " 'who_do_you_work_for',\n",
       " 'who_made_you',\n",
       " 'yes'}"
      ]
     },
     "execution_count": 15,
     "metadata": {},
     "output_type": "execute_result"
    }
   ],
   "source": [
    "all_labels"
   ]
  },
  {
   "cell_type": "code",
   "execution_count": null,
   "id": "0f2cb65f",
   "metadata": {},
   "outputs": [],
   "source": []
  },
  {
   "cell_type": "code",
   "execution_count": 16,
   "id": "23c31fb1",
   "metadata": {},
   "outputs": [],
   "source": [
    "keywords = {\n",
    "    \"booking\": r\"book|reservation|confirm|cancel|reservation\",\n",
    "    \"account\": r\"account|card|pin|fraud|report|reset|block|freeze|user_name\",\n",
    "    \"finance\": r\"bill|balance|credit|limit|payment|pay|tax|deposit|transfer|transactions|w2|apr\",\n",
    "    \"travel\": r\"flight|hotel|uber|car_rental|luggage|travel\",\n",
    "    \"home\": r\"smart_home|alarm|timer|oil_change|tire\",\n",
    "    \"fun\": r\"joke|flip_coin|roll_dice|fun_fact|what_song\",\n",
    "    \"qa\": r\"definition|definition|spelling|meaning_of_life|who|what|how|are_you_a_bot|translate|weather|nutrition|pto\",\n",
    "    \"reminder\": r\"reminder|todo|calendar|schedule|meeting\",\n",
    "    \"food\": r\"calories|cook|ingredient|recipe|suggestion\",\n",
    "    \"system\": r\"change_language|thank_you|repeat|greeting|play_music|next|pin\",\n",
    "    \"location\":\tr\"traffic|directions|share_location|find_phone\",\n",
    "    \"insurance\": r\"insurance|rollover\",\n",
    "    \"order\": r\"order|shopping_list_update\",\n",
    "    \"status\": r\"status\"\n",
    "}"
   ]
  },
  {
   "cell_type": "code",
   "execution_count": 17,
   "id": "0937c45a",
   "metadata": {},
   "outputs": [],
   "source": [
    "group = defaultdict(list)\n",
    "for label in all_labels:\n",
    "    for category, pattern in keywords.items():\n",
    "        if re.search(pattern, label):\n",
    "            group[category].append(label)"
   ]
  },
  {
   "cell_type": "code",
   "execution_count": 18,
   "id": "d8380dac",
   "metadata": {},
   "outputs": [],
   "source": [
    "total_len = 0\n",
    "for key in group.keys():\n",
    "    total_len+=len(group[key])"
   ]
  },
  {
   "cell_type": "code",
   "execution_count": 19,
   "id": "87ce937b",
   "metadata": {},
   "outputs": [
    {
     "data": {
      "text/plain": [
       "122"
      ]
     },
     "execution_count": 19,
     "metadata": {},
     "output_type": "execute_result"
    }
   ],
   "source": [
    "total_len"
   ]
  },
  {
   "cell_type": "code",
   "execution_count": 86,
   "id": "71c887f2",
   "metadata": {},
   "outputs": [],
   "source": [
    "with open('/Volumes/LaCie/Projects_portfolio/NLP/SupportIQ/data/config.json','w') as f:\n",
    "    json.dump(dict(group),f,indent=2)"
   ]
  },
  {
   "cell_type": "code",
   "execution_count": 22,
   "id": "eb13e2e9",
   "metadata": {},
   "outputs": [
    {
     "data": {
      "text/plain": [
       "{'account',\n",
       " 'booking',\n",
       " 'finance',\n",
       " 'food',\n",
       " 'fun',\n",
       " 'home',\n",
       " 'insurance',\n",
       " 'location',\n",
       " 'order',\n",
       " 'qa',\n",
       " 'reminder',\n",
       " 'status',\n",
       " 'system',\n",
       " 'travel'}"
      ]
     },
     "execution_count": 22,
     "metadata": {},
     "output_type": "execute_result"
    }
   ],
   "source": [
    "set(group)"
   ]
  },
  {
   "cell_type": "code",
   "execution_count": null,
   "id": "c06bc255",
   "metadata": {},
   "outputs": [],
   "source": []
  }
 ],
 "metadata": {
  "kernelspec": {
   "display_name": "venv",
   "language": "python",
   "name": "python3"
  },
  "language_info": {
   "codemirror_mode": {
    "name": "ipython",
    "version": 3
   },
   "file_extension": ".py",
   "mimetype": "text/x-python",
   "name": "python",
   "nbconvert_exporter": "python",
   "pygments_lexer": "ipython3",
   "version": "3.11.13"
  }
 },
 "nbformat": 4,
 "nbformat_minor": 5
}
