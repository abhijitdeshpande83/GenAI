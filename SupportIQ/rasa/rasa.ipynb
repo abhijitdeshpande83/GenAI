{
 "cells": [
  {
   "cell_type": "code",
   "execution_count": 118,
   "id": "d39378e2",
   "metadata": {},
   "outputs": [],
   "source": [
    "import inflect, json, sys, os\n",
    "import regex as re \n",
    "from collections import defaultdict\n",
    "from ruamel.yaml import YAML\n",
    "from ruamel.yaml.scalarstring import LiteralScalarString"
   ]
  },
  {
   "cell_type": "code",
   "execution_count": 2,
   "id": "196e12d4",
   "metadata": {},
   "outputs": [],
   "source": [
    "sys.path.append(os.path.abspath('..'))"
   ]
  },
  {
   "cell_type": "code",
   "execution_count": 3,
   "id": "5fd94476",
   "metadata": {},
   "outputs": [],
   "source": [
    "path = \"/Volumes/LaCie/Projects_portfolio/NLP/SupportIQ/data/data_full.json\""
   ]
  },
  {
   "cell_type": "code",
   "execution_count": 4,
   "id": "115729cd",
   "metadata": {},
   "outputs": [],
   "source": [
    "from intent_classifier.src.utils.loader import load_data"
   ]
  },
  {
   "cell_type": "code",
   "execution_count": 5,
   "id": "3fe9f43f",
   "metadata": {},
   "outputs": [],
   "source": [
    "train, val = load_data(path)"
   ]
  },
  {
   "cell_type": "code",
   "execution_count": 6,
   "id": "c7b47e5e",
   "metadata": {},
   "outputs": [
    {
     "data": {
      "text/plain": [
       "Dataset({\n",
       "    features: ['input', 'label'],\n",
       "    num_rows: 15100\n",
       "})"
      ]
     },
     "execution_count": 6,
     "metadata": {},
     "output_type": "execute_result"
    }
   ],
   "source": [
    "train"
   ]
  },
  {
   "cell_type": "code",
   "execution_count": 7,
   "id": "5fdd0378",
   "metadata": {},
   "outputs": [],
   "source": [
    "nlu_data = defaultdict(list)"
   ]
  },
  {
   "cell_type": "code",
   "execution_count": 8,
   "id": "4b72baed",
   "metadata": {},
   "outputs": [],
   "source": [
    "for data in train:\n",
    "    intent = data['label']\n",
    "    text = data['input']\n",
    "    nlu_data[intent].append(text)"
   ]
  },
  {
   "cell_type": "code",
   "execution_count": null,
   "id": "fd888e73",
   "metadata": {},
   "outputs": [],
   "source": []
  },
  {
   "cell_type": "code",
   "execution_count": 9,
   "id": "158de30b",
   "metadata": {},
   "outputs": [],
   "source": [
    "nlu_yaml = {\"version\": \"3.1\", \"nlu\":[]}"
   ]
  },
  {
   "cell_type": "code",
   "execution_count": 10,
   "id": "5bf6dc03",
   "metadata": {},
   "outputs": [],
   "source": [
    "for intent, text in nlu_data.items():\n",
    "    formatted_data = {\n",
    "        \"intent\": intent,\n",
    "        \"examples\": LiteralScalarString('\\n'.join([f'- {t}' for t in text]) + '\\n')\n",
    "        }\n",
    "    nlu_yaml['nlu'].append(formatted_data)\n",
    "\n",
    "yaml = YAML()\n",
    "yaml.default_flow_style = False\n",
    "yaml.indent(mapping=2, sequence=2, offset=2)\n",
    "yaml.preserve_quotes = True\n",
    "yaml.block_seq_indent = 0"
   ]
  },
  {
   "cell_type": "code",
   "execution_count": 11,
   "id": "35640b2f",
   "metadata": {},
   "outputs": [],
   "source": [
    "with open(\"/Volumes/LaCie/Projects_portfolio/NLP/SupportIQ/rasa/data/nlu_train.yml\", \"w\") as f:\n",
    "    yaml.dump(nlu_yaml, f)"
   ]
  },
  {
   "cell_type": "code",
   "execution_count": 12,
   "id": "8d74b0b7",
   "metadata": {},
   "outputs": [],
   "source": [
    "from datasets import load_dataset"
   ]
  },
  {
   "cell_type": "code",
   "execution_count": 13,
   "id": "64e606d7",
   "metadata": {},
   "outputs": [],
   "source": [
    "data_train = load_dataset(\"schema_guided_dstc8\", trust_remote_code=True, split=\"train\")\n",
    "data_val = load_dataset(\"schema_guided_dstc8\", trust_remote_code=True, split=\"validation\")\n",
    "data_test = load_dataset(\"schema_guided_dstc8\", trust_remote_code=True, split=\"test\")"
   ]
  },
  {
   "cell_type": "code",
   "execution_count": null,
   "id": "454b2619",
   "metadata": {},
   "outputs": [],
   "source": []
  },
  {
   "cell_type": "code",
   "execution_count": 14,
   "id": "e257942c",
   "metadata": {},
   "outputs": [
    {
     "name": "stdout",
     "output_type": "stream",
     "text": [
      "||||----> [\"What's my balance?\", 'In checking or savings?', 'In checking.', 'Your checking account has $5,118.77.', 'Ok, I want to transfer some money.', 'To whom?', 'To Amir.', 'And what amount would you like to transfer?', 'Send $1,630.', \"Please confirm: Transfer $1,630 from your checking account to Amir's checking account.\", 'Confirmed.', 'Your transfer is complete.', \"Thanks, what's my balance?\", 'Your checking account has $3,488.77.', 'Ok, bye.', 'Have a nice day.']\n",
      "Slots----> [{'slot': ['amount', 'recipient_account_name'], 'start': [25, 62], 'exclusive_end': [31, 66]}]\n",
      "Service result----> [{'service_results_list': []}]\n",
      "Action----> [{'act': [2, 2, 2, 2], 'slot': ['account_type', 'amount', 'recipient_account_name', 'recipient_account_type'], 'canonical_values': [['checking'], ['1630'], ['Amir'], ['checking']], 'values': [['checking'], ['$1,630'], ['Amir'], ['checking']]}]\n",
      "State----> [{'active_intent': '', 'requested_slots': [], 'slot_values': {'slot_name': [], 'slot_value_list': []}}]\n",
      "######\n",
      "||||----> ['Can you check my balance of checking account?', 'You have $24,344.68 in your checking account.', 'Can you check my balance of another savings account?', 'You have $6,175.85 in your savings account.', 'Okay. Can you help me making a transfer?', 'How much amount would you like to transfer?', 'I would like to transfer a balance of $1,180.', 'Whom do you want to send the money to?', 'I would like to send the money to Maria.', \"Please confirm: You want me to transfer $1,180 from savings account to Maria 's checking account.\", 'Yes. That is correct.', 'Your fund has been transferred successfully.', 'I would like to know my balance.', 'You have $4,995.85 in your savings account.', 'Okay. Thank you for your help.', 'I am glad I could help. Have a nice day.']\n",
      "Slots----> [{'slot': ['amount', 'recipient_account_name'], 'start': [40, 71], 'exclusive_end': [46, 76]}]\n",
      "Service result----> [{'service_results_list': []}]\n",
      "Action----> [{'act': [2, 2, 2, 2], 'slot': ['account_type', 'amount', 'recipient_account_name', 'recipient_account_type'], 'canonical_values': [['savings'], ['1180'], ['Maria'], ['checking']], 'values': [['savings'], ['$1,180'], ['Maria'], ['checking']]}]\n",
      "State----> [{'active_intent': '', 'requested_slots': [], 'slot_values': {'slot_name': [], 'slot_value_list': []}}]\n",
      "######\n",
      "||||----> ['I would like to check my balance', 'Which account should I use?', 'I would love to know about my checking account.', 'Your checking account balance is $11,119.11', 'I would like to make a transfer', 'How much would you like to transfer?', 'Transfer 980 bucks to Amir', \"Transfer $980 bucks from your checking account to Amir's checking account. Please confirm this.\", 'Yes', 'The transfer was successful.', 'Thank you. I would love to check my balance.', 'Your checking account balance is $10,139.11', 'Okay.', 'Anything else I can help?', 'No.thank you', 'Have a good day.']\n",
      "Slots----> [{'slot': [], 'start': [], 'exclusive_end': []}]\n",
      "Service result----> [{'service_results_list': [{'service_slot_name': ['account_type', 'amount', 'recipient_account_name', 'recipient_account_type'], 'service_canonical_value': ['checking', '980', 'Amir', 'checking']}]}]\n",
      "Action----> [{'act': [10], 'slot': [''], 'canonical_values': [[]], 'values': [[]]}]\n",
      "State----> [{'active_intent': '', 'requested_slots': [], 'slot_values': {'slot_name': [], 'slot_value_list': []}}]\n",
      "######\n"
     ]
    }
   ],
   "source": [
    "i=0\n",
    "for data in data_train:\n",
    "    if data['services'][0]=='Banks_1':\n",
    "        \n",
    "        print(\"||||---->\",data['turns']['utterance'])\n",
    "        print(\"Slots---->\",data['turns']['frames'][9]['slots'])\n",
    "        print(\"Service result---->\",data['turns']['frames'][9]['service_results'])\n",
    "        print(\"Action---->\",data['turns']['frames'][9]['actions'])\n",
    "        print(\"State---->\",data['turns']['frames'][9]['state'])\n",
    "    \n",
    "        d=data['turns']['frames'][9]\n",
    "        print('######')\n",
    "        i+=1\n",
    "        if i>2:\n",
    "            break"
   ]
  },
  {
   "cell_type": "code",
   "execution_count": 16,
   "id": "504a27f1",
   "metadata": {},
   "outputs": [],
   "source": [
    "labels = set()\n",
    "j = 0\n",
    "for data in data_train:\n",
    "    labels.add(data['services'][0])\n",
    "    j+=1"
   ]
  },
  {
   "cell_type": "code",
   "execution_count": 17,
   "id": "48c81bc8",
   "metadata": {},
   "outputs": [
    {
     "data": {
      "text/plain": [
       "{'Banks_1',\n",
       " 'Buses_1',\n",
       " 'Buses_2',\n",
       " 'Calendar_1',\n",
       " 'Events_1',\n",
       " 'Events_2',\n",
       " 'Flights_1',\n",
       " 'Flights_2',\n",
       " 'Homes_1',\n",
       " 'Hotels_1',\n",
       " 'Hotels_2',\n",
       " 'Hotels_3',\n",
       " 'Media_1',\n",
       " 'Movies_1',\n",
       " 'Music_1',\n",
       " 'Music_2',\n",
       " 'RentalCars_1',\n",
       " 'RentalCars_2',\n",
       " 'Restaurants_1',\n",
       " 'RideSharing_1',\n",
       " 'RideSharing_2',\n",
       " 'Services_1',\n",
       " 'Services_2',\n",
       " 'Services_3',\n",
       " 'Travel_1',\n",
       " 'Weather_1'}"
      ]
     },
     "execution_count": 17,
     "metadata": {},
     "output_type": "execute_result"
    }
   ],
   "source": [
    "labels"
   ]
  },
  {
   "cell_type": "code",
   "execution_count": 148,
   "id": "68b6417b",
   "metadata": {},
   "outputs": [
    {
     "data": {
      "text/plain": [
       "['service', 'slots', 'state', 'actions', 'service_results', 'service_call']"
      ]
     },
     "execution_count": 148,
     "metadata": {},
     "output_type": "execute_result"
    }
   ],
   "source": [
    "(['service', 'slots', 'state', 'actions', 'service_results', 'service_call'])"
   ]
  },
  {
   "cell_type": "code",
   "execution_count": 166,
   "id": "4a955e5c",
   "metadata": {},
   "outputs": [
    {
     "data": {
      "text/plain": [
       "Dataset({\n",
       "    features: ['dialogue_id', 'services', 'turns'],\n",
       "    num_rows: 16142\n",
       "})"
      ]
     },
     "execution_count": 166,
     "metadata": {},
     "output_type": "execute_result"
    }
   ],
   "source": [
    "data_train"
   ]
  },
  {
   "cell_type": "code",
   "execution_count": 25,
   "id": "8b5a387a",
   "metadata": {},
   "outputs": [],
   "source": [
    "count=0\n",
    "nlu_bank=[]\n",
    "domain_bank=[]\n",
    "stories_bank=[]\n",
    "entities = []\n",
    "values = []\n",
    "# domains = set()\n",
    "for data in data_train:\n",
    "    if data['services'][0] == 'Hotels_2':\n",
    "        utterence = data['turns']['utterance']\n",
    "        slots = data['turns']['frames']\n",
    "        \n",
    "        for i in range(0, len(utterence)):\n",
    "            slot_value = slots[i]['actions'][0]['slot']\n",
    "            canonical_value = slots[i]['actions'][0]['canonical_values']\n",
    "            entities.append(slot_value)\n",
    "            values.append(canonical_value)\n",
    "\n",
    "        for i in range(0, len(utterence),2):\n",
    "            user = utterence[i]\n",
    "            system = utterence[i+1]\n",
    "            nlu_bank.append(user)\n",
    "            domain_bank.append(system)\n",
    "            count+=1\n",
    "    if count>=34:\n",
    "        break"
   ]
  },
  {
   "cell_type": "code",
   "execution_count": null,
   "id": "2ce40493",
   "metadata": {},
   "outputs": [],
   "source": []
  },
  {
   "cell_type": "code",
   "execution_count": 89,
   "id": "65b90380",
   "metadata": {},
   "outputs": [],
   "source": [
    "label_set = set(label for label in labels if re.search(r\"_1$\",label))"
   ]
  },
  {
   "cell_type": "code",
   "execution_count": 90,
   "id": "af491c20",
   "metadata": {},
   "outputs": [
    {
     "data": {
      "text/plain": [
       "{'Banks_1',\n",
       " 'Buses_1',\n",
       " 'Calendar_1',\n",
       " 'Events_1',\n",
       " 'Flights_1',\n",
       " 'Homes_1',\n",
       " 'Hotels_1',\n",
       " 'Media_1',\n",
       " 'Movies_1',\n",
       " 'Music_1',\n",
       " 'RentalCars_1',\n",
       " 'Restaurants_1',\n",
       " 'RideSharing_1',\n",
       " 'Services_1',\n",
       " 'Travel_1',\n",
       " 'Weather_1'}"
      ]
     },
     "execution_count": 90,
     "metadata": {},
     "output_type": "execute_result"
    }
   ],
   "source": [
    "label_set"
   ]
  },
  {
   "cell_type": "code",
   "execution_count": null,
   "id": "3efd593c",
   "metadata": {},
   "outputs": [
    {
     "data": {
      "text/plain": [
       "[]"
      ]
     },
     "execution_count": 193,
     "metadata": {},
     "output_type": "execute_result"
    }
   ],
   "source": []
  },
  {
   "cell_type": "code",
   "execution_count": 144,
   "id": "0c75d4a5",
   "metadata": {},
   "outputs": [],
   "source": [
    "def format_label(label):\n",
    "    label = label.split('_')[0].lower()\n",
    "    p = inflect.engine()\n",
    "    if re.search(r's$',label):\n",
    "        label = p.singular_noun(label)\n",
    "    return label\n",
    "\n",
    "def fetch(data_file, label,  nlu_data, domain_data, stories_data, entities, values):\n",
    "    count=0\n",
    "\n",
    "    for data in data_file:\n",
    "        if data['services'][0] == label:\n",
    "            intent = format_label(data['services'][0])\n",
    "            utterence = data['turns']['utterance']\n",
    "            slots = data['turns']['frames']\n",
    "            \n",
    "            for i in range(0, len(utterence)):\n",
    "                slot_value = slots[i]['actions'][0]['slot']\n",
    "                canonical_value = slots[i]['actions'][0]['canonical_values']\n",
    "                entities.append(slot_value)\n",
    "                values.append(canonical_value)\n",
    "\n",
    "            for i in range(0, len(utterence),2):\n",
    "                user = utterence[i]\n",
    "                system = utterence[i+1]\n",
    "                nlu_data[intent].append(user)\n",
    "                domain_data['utter_'+intent].append(system)\n",
    "                count+=1\n",
    "            if count>=34:\n",
    "                return              "
   ]
  },
  {
   "cell_type": "code",
   "execution_count": null,
   "id": "346cb3a6",
   "metadata": {},
   "outputs": [],
   "source": [
    "nlu_data=defaultdict(list)\n",
    "domain_data=defaultdict(list)\n",
    "stories_data=[]\n",
    "entities = []\n",
    "values = []"
   ]
  },
  {
   "cell_type": "code",
   "execution_count": null,
   "id": "248259f1",
   "metadata": {},
   "outputs": [],
   "source": []
  },
  {
   "cell_type": "code",
   "execution_count": null,
   "id": "54620a11",
   "metadata": {},
   "outputs": [],
   "source": []
  },
  {
   "cell_type": "code",
   "execution_count": null,
   "id": "175c9c59",
   "metadata": {},
   "outputs": [],
   "source": []
  },
  {
   "cell_type": "code",
   "execution_count": null,
   "id": "6f5eaea5",
   "metadata": {},
   "outputs": [],
   "source": []
  },
  {
   "cell_type": "code",
   "execution_count": 146,
   "id": "3ff74ab0",
   "metadata": {},
   "outputs": [],
   "source": [
    "for label in label_set:\n",
    "    fetch(data_train, label, nlu_data, domain_data, stories_data, entities, values)\n",
    "    "
   ]
  },
  {
   "cell_type": "code",
   "execution_count": 189,
   "id": "f4d7560c",
   "metadata": {},
   "outputs": [],
   "source": [
    "intents = [format_label(label) for label in label_set]"
   ]
  },
  {
   "cell_type": "code",
   "execution_count": null,
   "id": "0ab86d8f",
   "metadata": {},
   "outputs": [],
   "source": [
    "nlu_yaml = {\"version\": \"3.1\", \"nlu\":[]}\n",
    "domain_yaml = {\"version\": \"3.1\", \"intent\":intents, \"responses\":{}}"
   ]
  },
  {
   "cell_type": "code",
   "execution_count": 191,
   "id": "20e0828b",
   "metadata": {},
   "outputs": [],
   "source": [
    "for intent, text in nlu_data.items():\n",
    "    nlu_format = {\n",
    "        \"intent\": intent,\n",
    "        \"examples\": LiteralScalarString('\\n'.join([f'- {t}' for t in text]) + '\\n')\n",
    "        }\n",
    "    \n",
    "    nlu_yaml['nlu'].append(nlu_format)\n",
    "\n",
    "for intent, text in domain_data.items():\n",
    "    \n",
    "    domain_yaml['responses'][intent]=[{\"text\": txt} for txt in text]\n",
    "\n",
    "yaml = YAML()\n",
    "yaml.default_flow_style = False\n",
    "yaml.width = 4096\n",
    "yaml.indent(mapping=2, sequence=2, offset=2)\n",
    "yaml.preserve_quotes = True\n",
    "yaml.block_seq_indent = 0"
   ]
  },
  {
   "cell_type": "code",
   "execution_count": 192,
   "id": "b56e08ae",
   "metadata": {},
   "outputs": [],
   "source": [
    "with open(\"/Volumes/LaCie/Projects_portfolio/NLP/SupportIQ/rasa/data/nlu_I.yml\", \"w\") as f:\n",
    "    yaml.dump(nlu_yaml, f)\n",
    "\n",
    "with open(\"/Volumes/LaCie/Projects_portfolio/NLP/SupportIQ/rasa/data/domain_II.yml\", \"w\") as f:\n",
    "    yaml.dump(domain_yaml, f)"
   ]
  },
  {
   "cell_type": "code",
   "execution_count": 245,
   "id": "8e1a6f34",
   "metadata": {},
   "outputs": [
    {
     "name": "stdout",
     "output_type": "stream",
     "text": [
      "71 Saint Peter\n",
      "San Jose\n",
      "['Restaurants_1']\n",
      "[{'slot': ['restaurant_name', 'city'], 'start': [14, 68], 'exclusive_end': [28, 76]}]\n",
      "[{'active_intent': '', 'requested_slots': [], 'slot_values': {'slot_name': [], 'slot_value_list': []}}]\n",
      "[{'act': [11, 11], 'slot': ['restaurant_name', 'city'], 'canonical_values': [['71 Saint Peter'], ['San Jose']], 'values': [['71 Saint Peter'], ['San Jose']]}]\n",
      "[{'service_results_list': [{'service_slot_name': ['city', 'cuisine', 'has_live_music', 'phone_number', 'price_range', 'restaurant_name', 'serves_alcohol', 'street_address'], 'service_canonical_value': ['San Jose', 'American', 'False', '408-971-8523', 'moderate', '71 Saint Peter', 'True', '71 North San Pedro Street']}, {'service_slot_name': ['city', 'cuisine', 'has_live_music', 'phone_number', 'price_range', 'restaurant_name', 'serves_alcohol', 'street_address'], 'service_canonical_value': ['San Jose', 'American', 'False', '408-261-5787', 'moderate', 'Bazille', 'True', '2400 Forest Avenue']}, {'service_slot_name': ['city', 'cuisine', 'has_live_music', 'phone_number', 'price_range', 'restaurant_name', 'serves_alcohol', 'street_address'], 'service_canonical_value': ['San Jose', 'American', 'False', '408-292-4300', 'moderate', \"Billy Berk's\", 'True', '99 South 1st Street']}, {'service_slot_name': ['city', 'cuisine', 'has_live_music', 'phone_number', 'price_range', 'restaurant_name', 'serves_alcohol', 'street_address'], 'service_canonical_value': ['San Jose', 'American', 'False', '408-343-7230', 'moderate', \"Bj's Restaurant & Brewhouse\", 'True', '511 Coleman Avenue']}, {'service_slot_name': ['city', 'cuisine', 'has_live_music', 'phone_number', 'price_range', 'restaurant_name', 'serves_alcohol', 'street_address'], 'service_canonical_value': ['San Jose', 'American', 'False', '408-816-7251', 'expensive', 'Black Sheep Brasserie', 'True', '1202 Lincoln Avenue']}, {'service_slot_name': ['city', 'cuisine', 'has_live_music', 'phone_number', 'price_range', 'restaurant_name', 'serves_alcohol', 'street_address'], 'service_canonical_value': ['San Jose', 'American', 'False', '408-238-9110', 'moderate', \"Chuck E. Cheese's\", 'False', '2445 Fontaine Road']}, {'service_slot_name': ['city', 'cuisine', 'has_live_music', 'phone_number', 'price_range', 'restaurant_name', 'serves_alcohol', 'street_address'], 'service_canonical_value': ['San Jose', 'American', 'False', '408-292-7444', 'moderate', \"Famous Dave's Bar-b-que\", 'False', '61 Curtner Avenue']}, {'service_slot_name': ['city', 'cuisine', 'has_live_music', 'phone_number', 'price_range', 'restaurant_name', 'serves_alcohol', 'street_address'], 'service_canonical_value': ['San Jose', 'American', 'False', '408-287-6969', 'moderate', 'Firehouse No.1 Gastropub', 'True', '69 North San Pedro Street']}, {'service_slot_name': ['city', 'cuisine', 'has_live_music', 'phone_number', 'price_range', 'restaurant_name', 'serves_alcohol', 'street_address'], 'service_canonical_value': ['San Jose', 'American', 'True', '408-279-4888', 'moderate', 'Hukilau', 'True', '230 Jackson Street']}, {'service_slot_name': ['city', 'cuisine', 'has_live_music', 'phone_number', 'price_range', 'restaurant_name', 'serves_alcohol', 'street_address'], 'service_canonical_value': ['San Jose', 'American', 'False', '408-998-1440', 'moderate', \"John's Of Willow Glen\", 'False', '1238 Lincoln Avenue']}]}]\n",
      "[{'method': 'FindRestaurants', 'parameters': {'parameter_slot_name': ['city', 'cuisine'], 'parameter_canonical_value': ['San Jose', 'American']}}]\n",
      " moderate, The\n",
      "\n",
      "['Restaurants_1']\n",
      "[{'slot': ['street_address'], 'start': [40], 'exclusive_end': [55]}]\n",
      "[{'active_intent': '', 'requested_slots': [], 'slot_values': {'slot_name': [], 'slot_value_list': []}}]\n",
      "[{'act': [4, 4], 'slot': ['street_address', 'price_range'], 'canonical_values': [['Milpitas Square'], ['moderate']], 'values': [['Milpitas Square'], ['moderate']]}]\n",
      "[{'service_results_list': []}]\n",
      "[{'method': '', 'parameters': {'parameter_slot_name': [], 'parameter_canonical_value': []}}]\n"
     ]
    }
   ],
   "source": [
    "t=0\n",
    "for data in data_train:\n",
    "    # print(data['turns']['frames'][0].keys())\n",
    "    print(data['turns']['utterance'][5][14:28])\n",
    "    print(data['turns']['utterance'][5][68:76])\n",
    "    print(data['turns']['frames'][5]['service'])\n",
    "    print(data['turns']['frames'][5]['slots'])\n",
    "    print(data['turns']['frames'][5]['state'])\n",
    "    print(data['turns']['frames'][5]['actions'])\n",
    "    print(data['turns']['frames'][5]['service_results'])\n",
    "    print(data['turns']['frames'][5]['service_call'])    \n",
    "    t+=1\n",
    "    if t>1:\n",
    "        break"
   ]
  },
  {
   "cell_type": "code",
   "execution_count": 236,
   "id": "dd0e4ff1",
   "metadata": {},
   "outputs": [
    {
     "data": {
      "text/plain": [
       "['service', 'slots', 'state', 'actions', 'service_results', 'service_call']"
      ]
     },
     "execution_count": 236,
     "metadata": {},
     "output_type": "execute_result"
    }
   ],
   "source": [
    "(['service', 'slots', 'state', 'actions', 'service_results', 'service_call'])"
   ]
  },
  {
   "cell_type": "code",
   "execution_count": null,
   "id": "8d322a66",
   "metadata": {},
   "outputs": [],
   "source": []
  },
  {
   "cell_type": "code",
   "execution_count": null,
   "id": "808231c7",
   "metadata": {},
   "outputs": [],
   "source": []
  },
  {
   "cell_type": "code",
   "execution_count": null,
   "id": "9894899d",
   "metadata": {},
   "outputs": [],
   "source": []
  },
  {
   "cell_type": "code",
   "execution_count": null,
   "id": "6b37a600",
   "metadata": {},
   "outputs": [],
   "source": []
  }
 ],
 "metadata": {
  "kernelspec": {
   "display_name": "venv",
   "language": "python",
   "name": "python3"
  },
  "language_info": {
   "codemirror_mode": {
    "name": "ipython",
    "version": 3
   },
   "file_extension": ".py",
   "mimetype": "text/x-python",
   "name": "python",
   "nbconvert_exporter": "python",
   "pygments_lexer": "ipython3",
   "version": "3.11.13"
  }
 },
 "nbformat": 4,
 "nbformat_minor": 5
}
