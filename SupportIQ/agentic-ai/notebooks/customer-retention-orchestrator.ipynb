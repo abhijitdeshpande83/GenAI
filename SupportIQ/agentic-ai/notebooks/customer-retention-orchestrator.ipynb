{
 "cells": [
  {
   "cell_type": "code",
   "execution_count": 1,
   "id": "6d275839",
   "metadata": {},
   "outputs": [],
   "source": [
    "import os\n",
    "import json\n",
    "import random\n",
    "import string\n",
    "from typing import Annotated, TypedDict, List, Sequence, Optional\n",
    "from langchain_groq import ChatGroq \n",
    "from langgraph.graph import StateGraph, START, END, MessagesState\n",
    "from langgraph.types import Command\n",
    "from langchain_core.messages import BaseMessage,HumanMessage,SystemMessage,AIMessage,ToolMessage\n",
    "from langgraph.graph.message import add_messages\n",
    "from langchain_community.tools.tavily_search import TavilySearchResults\n",
    "from langgraph.checkpoint.memory import MemorySaver\n",
    "from langchain_core.tools import tool\n",
    "from langgraph.prebuilt import ToolNode, InjectedState, tools_condition\n",
    "from dotenv import load_dotenv"
   ]
  },
  {
   "cell_type": "code",
   "execution_count": 2,
   "id": "0357fa24",
   "metadata": {},
   "outputs": [],
   "source": [
    "load_dotenv()\n",
    "api_key = os.getenv(\"GROQ_API_KEY\")"
   ]
  },
  {
   "cell_type": "code",
   "execution_count": 3,
   "id": "b887cbfd",
   "metadata": {},
   "outputs": [],
   "source": [
    "llm = ChatGroq(model=\"llama-3.1-8b-instant\")"
   ]
  },
  {
   "cell_type": "code",
   "execution_count": 4,
   "id": "1cbc24a5",
   "metadata": {},
   "outputs": [],
   "source": [
    "class SupervisorState(MessagesState):\n",
    "    \"\"\"\n",
    "        State for multi-agent system\n",
    "    \"\"\"   \n",
    "    user_input: str\n",
    "    user_intent: str\n",
    "    complaint: dict\n",
    "    missing_info: list\n",
    "    next: str\n",
    "    questions: str\n",
    "\n",
    "# Supervisor Node\n",
    "\n",
    "def supervisor_node(state:SupervisorState)->SupervisorState:\n",
    "\n",
    "    if state.get('complaint_in_progress'):\n",
    "        return Command(goto=\"Complaint Agent\")\n",
    " \n",
    "    system_prompt = \"\"\"\n",
    "    You are a supervisor. Classify the user query into one of: inquiry, complaint, retention.\n",
    "\n",
    "    Rules:\n",
    "    - If the user mentions cancelling, switching, leaving, or expresses strong frustration about continuing the service, classify as retention.\n",
    "    - If the user complains but does not express intent to leave, classify as complaint.\n",
    "    - If the user is asking for info or guidance, classify as inquiry.\n",
    "    \"\"\"\n",
    "    \n",
    "    response = llm.invoke([\n",
    "        {\"role\":\"system\", \"content\":system_prompt},\n",
    "        {\"role\":\"user\", \"content\":state[\"user_input\"]}\n",
    "        ])\n",
    "    \n",
    "    intent=response.content.strip().lower()\n",
    "    state['user_intent']=intent\n",
    "\n",
    "    if intent==\"inquiry\":\n",
    "        return Command(goto=\"Inquiry Agent\")\n",
    "    elif intent==\"complaint\":\n",
    "        return Command(goto=\"Complaint Agent\")\n",
    "    elif intent==\"retention\":\n",
    "        return Command(goto=\"Retention Agent\")\n",
    "    else:\n",
    "        return Command(goto=\"Fallback\")\n"
   ]
  },
  {
   "cell_type": "code",
   "execution_count": 5,
   "id": "7c2eb31f",
   "metadata": {},
   "outputs": [],
   "source": [
    "# Worker nodes\n",
    "\n",
    "def inquiry_node(state:SupervisorState)->SupervisorState:\n",
    "    return {'messages':[f\"Inquiry Handled: {state['user_input']}\"]}\n",
    "\n",
    "def fallback(state:SupervisorState)->SupervisorState:\n",
    "    return {'messages':[f\"Sorry, I couldn't understand your message\"]}"
   ]
  },
  {
   "cell_type": "code",
   "execution_count": null,
   "id": "f8413a7c",
   "metadata": {},
   "outputs": [],
   "source": []
  },
  {
   "cell_type": "code",
   "execution_count": null,
   "id": "0a0c8486",
   "metadata": {},
   "outputs": [],
   "source": []
  },
  {
   "cell_type": "code",
   "execution_count": null,
   "id": "fc104327",
   "metadata": {},
   "outputs": [],
   "source": []
  },
  {
   "cell_type": "code",
   "execution_count": null,
   "id": "7fb64d42",
   "metadata": {},
   "outputs": [],
   "source": [
    "def nlu_node(state:SupervisorState)->SupervisorState:\n",
    "    \"\"\" \n",
    "        NLU Extractor agent that extract entities (product, issue_type, and purchase_date) from user input. \n",
    "    \"\"\"\n",
    "    user_input = state[\"user_input\"]\n",
    "\n",
    "    system_prompt=f\"\"\" You are an entity extractor. \n",
    "    Your goal is to extract the latest product, issue_type, and purchase_date \n",
    "    from the user's input.\n",
    "    - product\n",
    "    - issue_type\n",
    "    - purchase_date\n",
    "\n",
    "    Respond ONLY with a valid JSON object in this exact format:\n",
    "    {{\n",
    "        \"product\": string or null,\n",
    "        \"issue_type\": string or null,\n",
    "        \"purchase_date\": MM/DD/YY or null\n",
    "    }}\n",
    "    \"\"\"\n",
    "     \n",
    "    response = llm.invoke([\n",
    "            SystemMessage(content=system_prompt),\n",
    "            HumanMessage(content=user_input)\n",
    "        ])\n",
    "    \n",
    "    complaint_data =json.loads(response.content)\n",
    "    missing_data = [k for k,v in complaint_data.items() if not v]\n",
    "    state['complaint'] = complaint_data\n",
    "    state['missing_info']=missing_data\n",
    "    \n",
    "    return state\n",
    "   \n",
    "def ask_missing_info(state:SupervisorState)->SupervisorState:\n",
    "    \"\"\"\" \n",
    "        This Agent validate th data from NLU agent and ask missing information from user input.\n",
    "    \"\"\"\n",
    "    complaint_data = state['complaint']\n",
    "    user_input = state['user_input']\n",
    "    missing_data = state['missing_info']\n",
    "\n",
    "    system_prommpt = f\"\"\"You are a smart assistant.\n",
    "    You will ask missing info to user. This is a list of missing info from user input {user_input}   \n",
    "    This is missing list of information {missing_data}.\n",
    "    \"\"\"\n",
    "    response = llm.invoke([\n",
    "        SystemMessage(content=system_prommpt)]\n",
    "    )\n",
    "    state['questions']=response.content\n",
    "    return state\n",
    "\n",
    "def ticket_node(state:SupervisorState)->SupervisorState:\n",
    "    \"\"\"\n",
    "    Tool to create a complaint ticket.\n",
    "    Generates a ticket ID like IG408C90.\n",
    "    \"\"\"\n",
    "\n",
    "    complaint = state['complaint']\n",
    "    \n",
    "    prefix = ''.join(random.choices(string.ascii_uppercase,k=2))\n",
    "    number1 = random.randint(100,1000)\n",
    "    mid = ''.join(random.choices(string.ascii_uppercase))\n",
    "    number2 = random.randint(10,100)\n",
    "    ticket_id = f\"{prefix}{number1}{mid}{number2}\"\n",
    "\n",
    "    ticket={\n",
    "        \"ticket_id\":ticket_id,\n",
    "        \"status\":\"created\",\n",
    "        \"details\":complaint\n",
    "    }\n",
    "    print(f\"Ticket has been created {ticket}.\")\n",
    "    \n",
    "    return state\n",
    "\n",
    "def router_node(state:SupervisorState)->SupervisorState:\n",
    "    \"\"\"Returns the next step key based on the missing_info list.\"\"\"\n",
    "\n",
    "    missing_info= state['missing_info']\n",
    "\n",
    "    if missing_info:\n",
    "        return \"missing\"\n",
    "    else:\n",
    "        return \"no_missing\"  "
   ]
  },
  {
   "cell_type": "code",
   "execution_count": 43,
   "id": "edb0312c",
   "metadata": {},
   "outputs": [],
   "source": [
    "workflow = StateGraph(SupervisorState)\n",
    "\n",
    "workflow.add_node(\"NLU\", nlu_node)\n",
    "workflow.add_node(\"ask_missing_info\",ask_missing_info)\n",
    "workflow.add_node(\"Ticket\",ticket_node)\n",
    "\n",
    "workflow.add_edge(START,\"NLU\")\n",
    "workflow.add_conditional_edges(\n",
    "    \"NLU\",\n",
    "    router_node,\n",
    "    {\n",
    "        \"missing\":\"ask_missing_info\",\n",
    "        \"no_missing\":\"Ticket\"\n",
    "    }\n",
    ")\n",
    "workflow.add_edge(\"ask_missing_info\",END)\n",
    "workflow.add_edge(\"Ticket\",END)\n",
    "\n",
    "memory=MemorySaver()\n",
    "graph = workflow.compile(checkpointer=memory)"
   ]
  },
  {
   "cell_type": "code",
   "execution_count": 44,
   "id": "0cdb9a2c",
   "metadata": {},
   "outputs": [
    {
     "data": {
      "image/png": "[encoded data removed]",
      "text/plain": [
       "<langgraph.graph.state.CompiledStateGraph object at 0x10f6a5fd0>"
      ]
     },
     "execution_count": 44,
     "metadata": {},
     "output_type": "execute_result"
    }
   ],
   "source": [
    "graph"
   ]
  },
  {
   "cell_type": "code",
   "execution_count": 41,
   "id": "b02199b8",
   "metadata": {},
   "outputs": [],
   "source": [
    "input_state = {\n",
    "    'user_input': 'My Mobile Display broken. I have purchased it on October 1st, 2024',\n",
    "    'user_intent': '',\n",
    "    'complaint': {},\n",
    "    'missing_info': [],\n",
    "    'next': '',\n",
    "    'questions': ''\n",
    "}\n",
    "\n",
    "config= {\"configurable\":{\"thread_id\":\"user_complaint_session\"}}"
   ]
  },
  {
   "cell_type": "code",
   "execution_count": 59,
   "id": "f6275b10",
   "metadata": {},
   "outputs": [
    {
     "name": "stdout",
     "output_type": "stream",
     "text": [
      "Ticket has been created {'ticket_id': 'YI239V100', 'status': 'created', 'details': {'product': 'Phone', 'issue_type': 'broken', 'purchase_date': '10/20/24'}}.\n"
     ]
    }
   ],
   "source": [
    "response = graph.invoke({'user_input':\"My Phone is broken on 20th October 2024\"},config=config)"
   ]
  },
  {
   "cell_type": "code",
   "execution_count": 58,
   "id": "cda963c9",
   "metadata": {},
   "outputs": [
    {
     "name": "stdout",
     "output_type": "stream",
     "text": [
      "You provided the information: \"My Phone is broken on 20th October 2025\"\n",
      "\n",
      "However, I noticed that you are missing the following information:\n",
      "\n",
      "1. The purchase date of the phone to track the warranty period.\n",
      "\n",
      "To provide more accurate assistance, could you please provide the purchase date of the phone? \n",
      "\n",
      "You can respond with the purchase date, and I'll be happy to help you further.\n"
     ]
    }
   ],
   "source": [
    "print(response['questions'])"
   ]
  },
  {
   "cell_type": "code",
   "execution_count": null,
   "id": "31de270f",
   "metadata": {},
   "outputs": [],
   "source": []
  },
  {
   "cell_type": "code",
   "execution_count": null,
   "id": "e38246e8",
   "metadata": {},
   "outputs": [],
   "source": []
  },
  {
   "cell_type": "code",
   "execution_count": null,
   "id": "be6a239b",
   "metadata": {},
   "outputs": [],
   "source": []
  },
  {
   "cell_type": "code",
   "execution_count": null,
   "id": "8641a14d",
   "metadata": {},
   "outputs": [],
   "source": []
  },
  {
   "cell_type": "code",
   "execution_count": null,
   "id": "1ca3c58f",
   "metadata": {},
   "outputs": [
    {
     "ename": "NameError",
     "evalue": "name 'retention_node' is not defined",
     "output_type": "error",
     "traceback": [
      "\u001b[31m---------------------------------------------------------------------------\u001b[39m",
      "\u001b[31mNameError\u001b[39m                                 Traceback (most recent call last)",
      "\u001b[36mCell\u001b[39m\u001b[36m \u001b[39m\u001b[32mIn[69]\u001b[39m\u001b[32m, line 5\u001b[39m\n\u001b[32m      3\u001b[39m graph.add_node(\u001b[33m\"\u001b[39m\u001b[33mInquiry Agent\u001b[39m\u001b[33m\"\u001b[39m,inquiry_node)\n\u001b[32m      4\u001b[39m graph.add_node(\u001b[33m\"\u001b[39m\u001b[33mComplaint Agent\u001b[39m\u001b[33m\"\u001b[39m,complaint_tool)\n\u001b[32m----> \u001b[39m\u001b[32m5\u001b[39m graph.add_node(\u001b[33m\"\u001b[39m\u001b[33mRetention Agent\u001b[39m\u001b[33m\"\u001b[39m,\u001b[43mretention_node\u001b[49m)\n\u001b[32m      6\u001b[39m graph.add_node(\u001b[33m\"\u001b[39m\u001b[33mFallback\u001b[39m\u001b[33m\"\u001b[39m, fallback)\n\u001b[32m      8\u001b[39m graph.add_edge(START, \u001b[33m\"\u001b[39m\u001b[33mSupervisor\u001b[39m\u001b[33m\"\u001b[39m)\n",
      "\u001b[31mNameError\u001b[39m: name 'retention_node' is not defined"
     ]
    }
   ],
   "source": [
    "graph = StateGraph(SupervisorState)\n",
    "graph.add_node(\"Supervisor\",supervisor_node)\n",
    "graph.add_node(\"Inquiry Agent\",inquiry_node)\n",
    "graph.add_node(\"Complaint Agent\",complaint_tool)\n",
    "graph.add_node(\"Retention Agent\",retention_node)\n",
    "graph.add_node(\"Fallback\", fallback) \n",
    "\n",
    "graph.add_edge(START, \"Supervisor\")\n",
    "graph.add_conditional_edges(\n",
    "    \"Supervisor\",\n",
    "    {\n",
    "        \"complaint\": \"Complaint Agent\",\n",
    "        \"inquiry\": \"Inquiry Agent\",\n",
    "        \"retention\": \"Retention Agent\",\n",
    "        \"fallback\": \"Fallback\" \n",
    "    }\n",
    ")\n",
    "graph.add_edge(\"Complaint Agent\",END)\n",
    "\n",
    "app = graph.compile()"
   ]
  },
  {
   "cell_type": "code",
   "execution_count": 35,
   "id": "99d5717c",
   "metadata": {},
   "outputs": [],
   "source": [
    "graph = StateGraph(SupervisorState)\n",
    "\n",
    "graph.add_node(\"Supervisor\", supervisor_node)\n",
    "graph.add_node(\"Inquiry Agent\", inquiry_node)\n",
    "graph.add_node(\"Complaint Agent\", complaint_tool)  # ToolNode\n",
    "graph.add_node(\"Retention Agent\", retention_node)\n",
    "graph.add_node(\"Fallback\", fallback)\n",
    "\n",
    "graph.add_edge(START, \"Supervisor\")\n",
    "\n",
    "# Conditional edges: keys = condition values in state, values = actual nodes (callables/Runnables)\n",
    "graph.add_conditional_edges(\n",
    "    \"Supervisor\",\n",
    "    {\n",
    "        \"complaint\": complaint_tool,        # pass the ToolNode directly\n",
    "        \"inquiry\": inquiry_node,\n",
    "        \"retention\": retention_node,\n",
    "        \"fallback\": fallback\n",
    "    }\n",
    ")\n",
    "\n",
    "# Once Complaint Agent completes → END\n",
    "# graph.add_edge(complaint_tool, END)  # pass ToolNode, not string\n",
    "app = graph.compile()"
   ]
  },
  {
   "cell_type": "code",
   "execution_count": 39,
   "id": "20918bb9",
   "metadata": {},
   "outputs": [
    {
     "name": "stdout",
     "output_type": "stream",
     "text": [
      "40.0\n",
      "Hi there, \n",
      "\n",
      "Sorry to hear that your mouse isn't working. I'd be happy to help you resolve the issue. Can you please try restarting your device and see if that fixes the problem? If not, I'll do my best to assist you further.\n"
     ]
    },
    {
     "ename": "ValueError",
     "evalue": "No message found in input",
     "output_type": "error",
     "traceback": [
      "\u001b[31m---------------------------------------------------------------------------\u001b[39m",
      "\u001b[31mValueError\u001b[39m                                Traceback (most recent call last)",
      "\u001b[36mCell\u001b[39m\u001b[36m \u001b[39m\u001b[32mIn[39]\u001b[39m\u001b[32m, line 1\u001b[39m\n\u001b[32m----> \u001b[39m\u001b[32m1\u001b[39m response = \u001b[43mapp\u001b[49m\u001b[43m.\u001b[49m\u001b[43minvoke\u001b[49m\u001b[43m(\u001b[49m\u001b[43m{\u001b[49m\u001b[33;43m\"\u001b[39;49m\u001b[33;43muser_input\u001b[39;49m\u001b[33;43m\"\u001b[39;49m\u001b[43m:\u001b[49m\u001b[33;43m\"\u001b[39;49m\u001b[33;43mMy mouse is not working. This is a complaint.\u001b[39;49m\u001b[33;43m\"\u001b[39;49m\u001b[43m}\u001b[49m\u001b[43m)\u001b[49m\n",
      "\u001b[36mFile \u001b[39m\u001b[32m/Volumes/LaCie/Projects_portfolio/NLP/SupportIQ/agentic-ai/venv/lib/python3.13/site-packages/langgraph/pregel/main.py:3026\u001b[39m, in \u001b[36mPregel.invoke\u001b[39m\u001b[34m(self, input, config, context, stream_mode, print_mode, output_keys, interrupt_before, interrupt_after, durability, **kwargs)\u001b[39m\n\u001b[32m   3023\u001b[39m chunks: \u001b[38;5;28mlist\u001b[39m[\u001b[38;5;28mdict\u001b[39m[\u001b[38;5;28mstr\u001b[39m, Any] | Any] = []\n\u001b[32m   3024\u001b[39m interrupts: \u001b[38;5;28mlist\u001b[39m[Interrupt] = []\n\u001b[32m-> \u001b[39m\u001b[32m3026\u001b[39m \u001b[43m\u001b[49m\u001b[38;5;28;43;01mfor\u001b[39;49;00m\u001b[43m \u001b[49m\u001b[43mchunk\u001b[49m\u001b[43m \u001b[49m\u001b[38;5;129;43;01min\u001b[39;49;00m\u001b[43m \u001b[49m\u001b[38;5;28;43mself\u001b[39;49m\u001b[43m.\u001b[49m\u001b[43mstream\u001b[49m\u001b[43m(\u001b[49m\n\u001b[32m   3027\u001b[39m \u001b[43m    \u001b[49m\u001b[38;5;28;43minput\u001b[39;49m\u001b[43m,\u001b[49m\n\u001b[32m   3028\u001b[39m \u001b[43m    \u001b[49m\u001b[43mconfig\u001b[49m\u001b[43m,\u001b[49m\n\u001b[32m   3029\u001b[39m \u001b[43m    \u001b[49m\u001b[43mcontext\u001b[49m\u001b[43m=\u001b[49m\u001b[43mcontext\u001b[49m\u001b[43m,\u001b[49m\n\u001b[32m   3030\u001b[39m \u001b[43m    \u001b[49m\u001b[43mstream_mode\u001b[49m\u001b[43m=\u001b[49m\u001b[43m[\u001b[49m\u001b[33;43m\"\u001b[39;49m\u001b[33;43mupdates\u001b[39;49m\u001b[33;43m\"\u001b[39;49m\u001b[43m,\u001b[49m\u001b[43m \u001b[49m\u001b[33;43m\"\u001b[39;49m\u001b[33;43mvalues\u001b[39;49m\u001b[33;43m\"\u001b[39;49m\u001b[43m]\u001b[49m\n\u001b[32m   3031\u001b[39m \u001b[43m    \u001b[49m\u001b[38;5;28;43;01mif\u001b[39;49;00m\u001b[43m \u001b[49m\u001b[43mstream_mode\u001b[49m\u001b[43m \u001b[49m\u001b[43m==\u001b[49m\u001b[43m \u001b[49m\u001b[33;43m\"\u001b[39;49m\u001b[33;43mvalues\u001b[39;49m\u001b[33;43m\"\u001b[39;49m\n\u001b[32m   3032\u001b[39m \u001b[43m    \u001b[49m\u001b[38;5;28;43;01melse\u001b[39;49;00m\u001b[43m \u001b[49m\u001b[43mstream_mode\u001b[49m\u001b[43m,\u001b[49m\n\u001b[32m   3033\u001b[39m \u001b[43m    \u001b[49m\u001b[43mprint_mode\u001b[49m\u001b[43m=\u001b[49m\u001b[43mprint_mode\u001b[49m\u001b[43m,\u001b[49m\n\u001b[32m   3034\u001b[39m \u001b[43m    \u001b[49m\u001b[43moutput_keys\u001b[49m\u001b[43m=\u001b[49m\u001b[43moutput_keys\u001b[49m\u001b[43m,\u001b[49m\n\u001b[32m   3035\u001b[39m \u001b[43m    \u001b[49m\u001b[43minterrupt_before\u001b[49m\u001b[43m=\u001b[49m\u001b[43minterrupt_before\u001b[49m\u001b[43m,\u001b[49m\n\u001b[32m   3036\u001b[39m \u001b[43m    \u001b[49m\u001b[43minterrupt_after\u001b[49m\u001b[43m=\u001b[49m\u001b[43minterrupt_after\u001b[49m\u001b[43m,\u001b[49m\n\u001b[32m   3037\u001b[39m \u001b[43m    \u001b[49m\u001b[43mdurability\u001b[49m\u001b[43m=\u001b[49m\u001b[43mdurability\u001b[49m\u001b[43m,\u001b[49m\n\u001b[32m   3038\u001b[39m \u001b[43m    \u001b[49m\u001b[43m*\u001b[49m\u001b[43m*\u001b[49m\u001b[43mkwargs\u001b[49m\u001b[43m,\u001b[49m\n\u001b[32m   3039\u001b[39m \u001b[43m\u001b[49m\u001b[43m)\u001b[49m\u001b[43m:\u001b[49m\n\u001b[32m   3040\u001b[39m \u001b[43m    \u001b[49m\u001b[38;5;28;43;01mif\u001b[39;49;00m\u001b[43m \u001b[49m\u001b[43mstream_mode\u001b[49m\u001b[43m \u001b[49m\u001b[43m==\u001b[49m\u001b[43m \u001b[49m\u001b[33;43m\"\u001b[39;49m\u001b[33;43mvalues\u001b[39;49m\u001b[33;43m\"\u001b[39;49m\u001b[43m:\u001b[49m\n\u001b[32m   3041\u001b[39m \u001b[43m        \u001b[49m\u001b[38;5;28;43;01mif\u001b[39;49;00m\u001b[43m \u001b[49m\u001b[38;5;28;43mlen\u001b[39;49m\u001b[43m(\u001b[49m\u001b[43mchunk\u001b[49m\u001b[43m)\u001b[49m\u001b[43m \u001b[49m\u001b[43m==\u001b[49m\u001b[43m \u001b[49m\u001b[32;43m2\u001b[39;49m\u001b[43m:\u001b[49m\n",
      "\u001b[36mFile \u001b[39m\u001b[32m/Volumes/LaCie/Projects_portfolio/NLP/SupportIQ/agentic-ai/venv/lib/python3.13/site-packages/langgraph/pregel/main.py:2647\u001b[39m, in \u001b[36mPregel.stream\u001b[39m\u001b[34m(self, input, config, context, stream_mode, print_mode, output_keys, interrupt_before, interrupt_after, durability, subgraphs, debug, **kwargs)\u001b[39m\n\u001b[32m   2645\u001b[39m \u001b[38;5;28;01mfor\u001b[39;00m task \u001b[38;5;129;01min\u001b[39;00m loop.match_cached_writes():\n\u001b[32m   2646\u001b[39m     loop.output_writes(task.id, task.writes, cached=\u001b[38;5;28;01mTrue\u001b[39;00m)\n\u001b[32m-> \u001b[39m\u001b[32m2647\u001b[39m \u001b[43m\u001b[49m\u001b[38;5;28;43;01mfor\u001b[39;49;00m\u001b[43m \u001b[49m\u001b[43m_\u001b[49m\u001b[43m \u001b[49m\u001b[38;5;129;43;01min\u001b[39;49;00m\u001b[43m \u001b[49m\u001b[43mrunner\u001b[49m\u001b[43m.\u001b[49m\u001b[43mtick\u001b[49m\u001b[43m(\u001b[49m\n\u001b[32m   2648\u001b[39m \u001b[43m    \u001b[49m\u001b[43m[\u001b[49m\u001b[43mt\u001b[49m\u001b[43m \u001b[49m\u001b[38;5;28;43;01mfor\u001b[39;49;00m\u001b[43m \u001b[49m\u001b[43mt\u001b[49m\u001b[43m \u001b[49m\u001b[38;5;129;43;01min\u001b[39;49;00m\u001b[43m \u001b[49m\u001b[43mloop\u001b[49m\u001b[43m.\u001b[49m\u001b[43mtasks\u001b[49m\u001b[43m.\u001b[49m\u001b[43mvalues\u001b[49m\u001b[43m(\u001b[49m\u001b[43m)\u001b[49m\u001b[43m \u001b[49m\u001b[38;5;28;43;01mif\u001b[39;49;00m\u001b[43m \u001b[49m\u001b[38;5;129;43;01mnot\u001b[39;49;00m\u001b[43m \u001b[49m\u001b[43mt\u001b[49m\u001b[43m.\u001b[49m\u001b[43mwrites\u001b[49m\u001b[43m]\u001b[49m\u001b[43m,\u001b[49m\n\u001b[32m   2649\u001b[39m \u001b[43m    \u001b[49m\u001b[43mtimeout\u001b[49m\u001b[43m=\u001b[49m\u001b[38;5;28;43mself\u001b[39;49m\u001b[43m.\u001b[49m\u001b[43mstep_timeout\u001b[49m\u001b[43m,\u001b[49m\n\u001b[32m   2650\u001b[39m \u001b[43m    \u001b[49m\u001b[43mget_waiter\u001b[49m\u001b[43m=\u001b[49m\u001b[43mget_waiter\u001b[49m\u001b[43m,\u001b[49m\n\u001b[32m   2651\u001b[39m \u001b[43m    \u001b[49m\u001b[43mschedule_task\u001b[49m\u001b[43m=\u001b[49m\u001b[43mloop\u001b[49m\u001b[43m.\u001b[49m\u001b[43maccept_push\u001b[49m\u001b[43m,\u001b[49m\n\u001b[32m   2652\u001b[39m \u001b[43m\u001b[49m\u001b[43m)\u001b[49m\u001b[43m:\u001b[49m\n\u001b[32m   2653\u001b[39m \u001b[43m    \u001b[49m\u001b[38;5;66;43;03m# emit output\u001b[39;49;00m\n\u001b[32m   2654\u001b[39m \u001b[43m    \u001b[49m\u001b[38;5;28;43;01myield from\u001b[39;49;00m\u001b[43m \u001b[49m\u001b[43m_output\u001b[49m\u001b[43m(\u001b[49m\n\u001b[32m   2655\u001b[39m \u001b[43m        \u001b[49m\u001b[43mstream_mode\u001b[49m\u001b[43m,\u001b[49m\u001b[43m \u001b[49m\u001b[43mprint_mode\u001b[49m\u001b[43m,\u001b[49m\u001b[43m \u001b[49m\u001b[43msubgraphs\u001b[49m\u001b[43m,\u001b[49m\u001b[43m \u001b[49m\u001b[43mstream\u001b[49m\u001b[43m.\u001b[49m\u001b[43mget\u001b[49m\u001b[43m,\u001b[49m\u001b[43m \u001b[49m\u001b[43mqueue\u001b[49m\u001b[43m.\u001b[49m\u001b[43mEmpty\u001b[49m\n\u001b[32m   2656\u001b[39m \u001b[43m    \u001b[49m\u001b[43m)\u001b[49m\n\u001b[32m   2657\u001b[39m loop.after_tick()\n",
      "\u001b[36mFile \u001b[39m\u001b[32m/Volumes/LaCie/Projects_portfolio/NLP/SupportIQ/agentic-ai/venv/lib/python3.13/site-packages/langgraph/pregel/_runner.py:162\u001b[39m, in \u001b[36mPregelRunner.tick\u001b[39m\u001b[34m(self, tasks, reraise, timeout, retry_policy, get_waiter, schedule_task)\u001b[39m\n\u001b[32m    160\u001b[39m t = tasks[\u001b[32m0\u001b[39m]\n\u001b[32m    161\u001b[39m \u001b[38;5;28;01mtry\u001b[39;00m:\n\u001b[32m--> \u001b[39m\u001b[32m162\u001b[39m     \u001b[43mrun_with_retry\u001b[49m\u001b[43m(\u001b[49m\n\u001b[32m    163\u001b[39m \u001b[43m        \u001b[49m\u001b[43mt\u001b[49m\u001b[43m,\u001b[49m\n\u001b[32m    164\u001b[39m \u001b[43m        \u001b[49m\u001b[43mretry_policy\u001b[49m\u001b[43m,\u001b[49m\n\u001b[32m    165\u001b[39m \u001b[43m        \u001b[49m\u001b[43mconfigurable\u001b[49m\u001b[43m=\u001b[49m\u001b[43m{\u001b[49m\n\u001b[32m    166\u001b[39m \u001b[43m            \u001b[49m\u001b[43mCONFIG_KEY_CALL\u001b[49m\u001b[43m:\u001b[49m\u001b[43m \u001b[49m\u001b[43mpartial\u001b[49m\u001b[43m(\u001b[49m\n\u001b[32m    167\u001b[39m \u001b[43m                \u001b[49m\u001b[43m_call\u001b[49m\u001b[43m,\u001b[49m\n\u001b[32m    168\u001b[39m \u001b[43m                \u001b[49m\u001b[43mweakref\u001b[49m\u001b[43m.\u001b[49m\u001b[43mref\u001b[49m\u001b[43m(\u001b[49m\u001b[43mt\u001b[49m\u001b[43m)\u001b[49m\u001b[43m,\u001b[49m\n\u001b[32m    169\u001b[39m \u001b[43m                \u001b[49m\u001b[43mretry_policy\u001b[49m\u001b[43m=\u001b[49m\u001b[43mretry_policy\u001b[49m\u001b[43m,\u001b[49m\n\u001b[32m    170\u001b[39m \u001b[43m                \u001b[49m\u001b[43mfutures\u001b[49m\u001b[43m=\u001b[49m\u001b[43mweakref\u001b[49m\u001b[43m.\u001b[49m\u001b[43mref\u001b[49m\u001b[43m(\u001b[49m\u001b[43mfutures\u001b[49m\u001b[43m)\u001b[49m\u001b[43m,\u001b[49m\n\u001b[32m    171\u001b[39m \u001b[43m                \u001b[49m\u001b[43mschedule_task\u001b[49m\u001b[43m=\u001b[49m\u001b[43mschedule_task\u001b[49m\u001b[43m,\u001b[49m\n\u001b[32m    172\u001b[39m \u001b[43m                \u001b[49m\u001b[43msubmit\u001b[49m\u001b[43m=\u001b[49m\u001b[38;5;28;43mself\u001b[39;49m\u001b[43m.\u001b[49m\u001b[43msubmit\u001b[49m\u001b[43m,\u001b[49m\n\u001b[32m    173\u001b[39m \u001b[43m            \u001b[49m\u001b[43m)\u001b[49m\u001b[43m,\u001b[49m\n\u001b[32m    174\u001b[39m \u001b[43m        \u001b[49m\u001b[43m}\u001b[49m\u001b[43m,\u001b[49m\n\u001b[32m    175\u001b[39m \u001b[43m    \u001b[49m\u001b[43m)\u001b[49m\n\u001b[32m    176\u001b[39m     \u001b[38;5;28mself\u001b[39m.commit(t, \u001b[38;5;28;01mNone\u001b[39;00m)\n\u001b[32m    177\u001b[39m \u001b[38;5;28;01mexcept\u001b[39;00m \u001b[38;5;167;01mException\u001b[39;00m \u001b[38;5;28;01mas\u001b[39;00m exc:\n",
      "\u001b[36mFile \u001b[39m\u001b[32m/Volumes/LaCie/Projects_portfolio/NLP/SupportIQ/agentic-ai/venv/lib/python3.13/site-packages/langgraph/pregel/_retry.py:42\u001b[39m, in \u001b[36mrun_with_retry\u001b[39m\u001b[34m(task, retry_policy, configurable)\u001b[39m\n\u001b[32m     40\u001b[39m     task.writes.clear()\n\u001b[32m     41\u001b[39m     \u001b[38;5;66;03m# run the task\u001b[39;00m\n\u001b[32m---> \u001b[39m\u001b[32m42\u001b[39m     \u001b[38;5;28;01mreturn\u001b[39;00m \u001b[43mtask\u001b[49m\u001b[43m.\u001b[49m\u001b[43mproc\u001b[49m\u001b[43m.\u001b[49m\u001b[43minvoke\u001b[49m\u001b[43m(\u001b[49m\u001b[43mtask\u001b[49m\u001b[43m.\u001b[49m\u001b[43minput\u001b[49m\u001b[43m,\u001b[49m\u001b[43m \u001b[49m\u001b[43mconfig\u001b[49m\u001b[43m)\u001b[49m\n\u001b[32m     43\u001b[39m \u001b[38;5;28;01mexcept\u001b[39;00m ParentCommand \u001b[38;5;28;01mas\u001b[39;00m exc:\n\u001b[32m     44\u001b[39m     ns: \u001b[38;5;28mstr\u001b[39m = config[CONF][CONFIG_KEY_CHECKPOINT_NS]\n",
      "\u001b[36mFile \u001b[39m\u001b[32m/Volumes/LaCie/Projects_portfolio/NLP/SupportIQ/agentic-ai/venv/lib/python3.13/site-packages/langgraph/_internal/_runnable.py:659\u001b[39m, in \u001b[36mRunnableSeq.invoke\u001b[39m\u001b[34m(self, input, config, **kwargs)\u001b[39m\n\u001b[32m    657\u001b[39m                 \u001b[38;5;28minput\u001b[39m = context.run(step.invoke, \u001b[38;5;28minput\u001b[39m, config, **kwargs)\n\u001b[32m    658\u001b[39m         \u001b[38;5;28;01melse\u001b[39;00m:\n\u001b[32m--> \u001b[39m\u001b[32m659\u001b[39m             \u001b[38;5;28minput\u001b[39m = \u001b[43mstep\u001b[49m\u001b[43m.\u001b[49m\u001b[43minvoke\u001b[49m\u001b[43m(\u001b[49m\u001b[38;5;28;43minput\u001b[39;49m\u001b[43m,\u001b[49m\u001b[43m \u001b[49m\u001b[43mconfig\u001b[49m\u001b[43m)\u001b[49m\n\u001b[32m    660\u001b[39m \u001b[38;5;66;03m# finish the root run\u001b[39;00m\n\u001b[32m    661\u001b[39m \u001b[38;5;28;01mexcept\u001b[39;00m \u001b[38;5;167;01mBaseException\u001b[39;00m \u001b[38;5;28;01mas\u001b[39;00m e:\n",
      "\u001b[36mFile \u001b[39m\u001b[32m/Volumes/LaCie/Projects_portfolio/NLP/SupportIQ/agentic-ai/venv/lib/python3.13/site-packages/langgraph/_internal/_runnable.py:401\u001b[39m, in \u001b[36mRunnableCallable.invoke\u001b[39m\u001b[34m(self, input, config, **kwargs)\u001b[39m\n\u001b[32m    399\u001b[39m         run_manager.on_chain_end(ret)\n\u001b[32m    400\u001b[39m \u001b[38;5;28;01melse\u001b[39;00m:\n\u001b[32m--> \u001b[39m\u001b[32m401\u001b[39m     ret = \u001b[38;5;28;43mself\u001b[39;49m\u001b[43m.\u001b[49m\u001b[43mfunc\u001b[49m\u001b[43m(\u001b[49m\u001b[43m*\u001b[49m\u001b[43margs\u001b[49m\u001b[43m,\u001b[49m\u001b[43m \u001b[49m\u001b[43m*\u001b[49m\u001b[43m*\u001b[49m\u001b[43mkwargs\u001b[49m\u001b[43m)\u001b[49m\n\u001b[32m    402\u001b[39m \u001b[38;5;28;01mif\u001b[39;00m \u001b[38;5;28mself\u001b[39m.recurse \u001b[38;5;129;01mand\u001b[39;00m \u001b[38;5;28misinstance\u001b[39m(ret, Runnable):\n\u001b[32m    403\u001b[39m     \u001b[38;5;28;01mreturn\u001b[39;00m ret.invoke(\u001b[38;5;28minput\u001b[39m, config)\n",
      "\u001b[36mFile \u001b[39m\u001b[32m/Volumes/LaCie/Projects_portfolio/NLP/SupportIQ/agentic-ai/venv/lib/python3.13/site-packages/langgraph/graph/_branch.py:168\u001b[39m, in \u001b[36mBranchSpec._route\u001b[39m\u001b[34m(self, input, config, reader, writer)\u001b[39m\n\u001b[32m    166\u001b[39m \u001b[38;5;28;01melse\u001b[39;00m:\n\u001b[32m    167\u001b[39m     value = \u001b[38;5;28minput\u001b[39m\n\u001b[32m--> \u001b[39m\u001b[32m168\u001b[39m result = \u001b[38;5;28;43mself\u001b[39;49m\u001b[43m.\u001b[49m\u001b[43mpath\u001b[49m\u001b[43m.\u001b[49m\u001b[43minvoke\u001b[49m\u001b[43m(\u001b[49m\u001b[43mvalue\u001b[49m\u001b[43m,\u001b[49m\u001b[43m \u001b[49m\u001b[43mconfig\u001b[49m\u001b[43m)\u001b[49m\n\u001b[32m    169\u001b[39m \u001b[38;5;28;01mreturn\u001b[39;00m \u001b[38;5;28mself\u001b[39m._finish(writer, \u001b[38;5;28minput\u001b[39m, result, config)\n",
      "\u001b[36mFile \u001b[39m\u001b[32m/Volumes/LaCie/Projects_portfolio/NLP/SupportIQ/agentic-ai/venv/lib/python3.13/site-packages/langchain_core/runnables/base.py:3816\u001b[39m, in \u001b[36mRunnableParallel.invoke\u001b[39m\u001b[34m(self, input, config, **kwargs)\u001b[39m\n\u001b[32m   3811\u001b[39m     \u001b[38;5;28;01mwith\u001b[39;00m get_executor_for_config(config) \u001b[38;5;28;01mas\u001b[39;00m executor:\n\u001b[32m   3812\u001b[39m         futures = [\n\u001b[32m   3813\u001b[39m             executor.submit(_invoke_step, step, \u001b[38;5;28minput\u001b[39m, config, key)\n\u001b[32m   3814\u001b[39m             \u001b[38;5;28;01mfor\u001b[39;00m key, step \u001b[38;5;129;01min\u001b[39;00m steps.items()\n\u001b[32m   3815\u001b[39m         ]\n\u001b[32m-> \u001b[39m\u001b[32m3816\u001b[39m         output = {key: \u001b[43mfuture\u001b[49m\u001b[43m.\u001b[49m\u001b[43mresult\u001b[49m\u001b[43m(\u001b[49m\u001b[43m)\u001b[49m \u001b[38;5;28;01mfor\u001b[39;00m key, future \u001b[38;5;129;01min\u001b[39;00m \u001b[38;5;28mzip\u001b[39m(steps, futures)}\n\u001b[32m   3817\u001b[39m \u001b[38;5;66;03m# finish the root run\u001b[39;00m\n\u001b[32m   3818\u001b[39m \u001b[38;5;28;01mexcept\u001b[39;00m \u001b[38;5;167;01mBaseException\u001b[39;00m \u001b[38;5;28;01mas\u001b[39;00m e:\n",
      "\u001b[36mFile \u001b[39m\u001b[32m/opt/homebrew/Cellar/python@3.13/3.13.7/Frameworks/Python.framework/Versions/3.13/lib/python3.13/concurrent/futures/_base.py:449\u001b[39m, in \u001b[36mFuture.result\u001b[39m\u001b[34m(self, timeout)\u001b[39m\n\u001b[32m    447\u001b[39m     \u001b[38;5;28;01mraise\u001b[39;00m CancelledError()\n\u001b[32m    448\u001b[39m \u001b[38;5;28;01melif\u001b[39;00m \u001b[38;5;28mself\u001b[39m._state == FINISHED:\n\u001b[32m--> \u001b[39m\u001b[32m449\u001b[39m     \u001b[38;5;28;01mreturn\u001b[39;00m \u001b[38;5;28;43mself\u001b[39;49m\u001b[43m.\u001b[49m\u001b[43m__get_result\u001b[49m\u001b[43m(\u001b[49m\u001b[43m)\u001b[49m\n\u001b[32m    451\u001b[39m \u001b[38;5;28mself\u001b[39m._condition.wait(timeout)\n\u001b[32m    453\u001b[39m \u001b[38;5;28;01mif\u001b[39;00m \u001b[38;5;28mself\u001b[39m._state \u001b[38;5;129;01min\u001b[39;00m [CANCELLED, CANCELLED_AND_NOTIFIED]:\n",
      "\u001b[36mFile \u001b[39m\u001b[32m/opt/homebrew/Cellar/python@3.13/3.13.7/Frameworks/Python.framework/Versions/3.13/lib/python3.13/concurrent/futures/_base.py:401\u001b[39m, in \u001b[36mFuture.__get_result\u001b[39m\u001b[34m(self)\u001b[39m\n\u001b[32m    399\u001b[39m \u001b[38;5;28;01mif\u001b[39;00m \u001b[38;5;28mself\u001b[39m._exception \u001b[38;5;129;01mis\u001b[39;00m \u001b[38;5;129;01mnot\u001b[39;00m \u001b[38;5;28;01mNone\u001b[39;00m:\n\u001b[32m    400\u001b[39m     \u001b[38;5;28;01mtry\u001b[39;00m:\n\u001b[32m--> \u001b[39m\u001b[32m401\u001b[39m         \u001b[38;5;28;01mraise\u001b[39;00m \u001b[38;5;28mself\u001b[39m._exception\n\u001b[32m    402\u001b[39m     \u001b[38;5;28;01mfinally\u001b[39;00m:\n\u001b[32m    403\u001b[39m         \u001b[38;5;66;03m# Break a reference cycle with the exception in self._exception\u001b[39;00m\n\u001b[32m    404\u001b[39m         \u001b[38;5;28mself\u001b[39m = \u001b[38;5;28;01mNone\u001b[39;00m\n",
      "\u001b[36mFile \u001b[39m\u001b[32m/opt/homebrew/Cellar/python@3.13/3.13.7/Frameworks/Python.framework/Versions/3.13/lib/python3.13/concurrent/futures/thread.py:59\u001b[39m, in \u001b[36m_WorkItem.run\u001b[39m\u001b[34m(self)\u001b[39m\n\u001b[32m     56\u001b[39m     \u001b[38;5;28;01mreturn\u001b[39;00m\n\u001b[32m     58\u001b[39m \u001b[38;5;28;01mtry\u001b[39;00m:\n\u001b[32m---> \u001b[39m\u001b[32m59\u001b[39m     result = \u001b[38;5;28;43mself\u001b[39;49m\u001b[43m.\u001b[49m\u001b[43mfn\u001b[49m\u001b[43m(\u001b[49m\u001b[43m*\u001b[49m\u001b[38;5;28;43mself\u001b[39;49m\u001b[43m.\u001b[49m\u001b[43margs\u001b[49m\u001b[43m,\u001b[49m\u001b[43m \u001b[49m\u001b[43m*\u001b[49m\u001b[43m*\u001b[49m\u001b[38;5;28;43mself\u001b[39;49m\u001b[43m.\u001b[49m\u001b[43mkwargs\u001b[49m\u001b[43m)\u001b[49m\n\u001b[32m     60\u001b[39m \u001b[38;5;28;01mexcept\u001b[39;00m \u001b[38;5;167;01mBaseException\u001b[39;00m \u001b[38;5;28;01mas\u001b[39;00m exc:\n\u001b[32m     61\u001b[39m     \u001b[38;5;28mself\u001b[39m.future.set_exception(exc)\n",
      "\u001b[36mFile \u001b[39m\u001b[32m/Volumes/LaCie/Projects_portfolio/NLP/SupportIQ/agentic-ai/venv/lib/python3.13/site-packages/langchain_core/runnables/base.py:3800\u001b[39m, in \u001b[36mRunnableParallel.invoke.<locals>._invoke_step\u001b[39m\u001b[34m(step, input_, config, key)\u001b[39m\n\u001b[32m   3794\u001b[39m child_config = patch_config(\n\u001b[32m   3795\u001b[39m     config,\n\u001b[32m   3796\u001b[39m     \u001b[38;5;66;03m# mark each step as a child run\u001b[39;00m\n\u001b[32m   3797\u001b[39m     callbacks=run_manager.get_child(\u001b[33mf\u001b[39m\u001b[33m\"\u001b[39m\u001b[33mmap:key:\u001b[39m\u001b[38;5;132;01m{\u001b[39;00mkey\u001b[38;5;132;01m}\u001b[39;00m\u001b[33m\"\u001b[39m),\n\u001b[32m   3798\u001b[39m )\n\u001b[32m   3799\u001b[39m \u001b[38;5;28;01mwith\u001b[39;00m set_config_context(child_config) \u001b[38;5;28;01mas\u001b[39;00m context:\n\u001b[32m-> \u001b[39m\u001b[32m3800\u001b[39m     \u001b[38;5;28;01mreturn\u001b[39;00m \u001b[43mcontext\u001b[49m\u001b[43m.\u001b[49m\u001b[43mrun\u001b[49m\u001b[43m(\u001b[49m\n\u001b[32m   3801\u001b[39m \u001b[43m        \u001b[49m\u001b[43mstep\u001b[49m\u001b[43m.\u001b[49m\u001b[43minvoke\u001b[49m\u001b[43m,\u001b[49m\n\u001b[32m   3802\u001b[39m \u001b[43m        \u001b[49m\u001b[43minput_\u001b[49m\u001b[43m,\u001b[49m\n\u001b[32m   3803\u001b[39m \u001b[43m        \u001b[49m\u001b[43mchild_config\u001b[49m\u001b[43m,\u001b[49m\n\u001b[32m   3804\u001b[39m \u001b[43m    \u001b[49m\u001b[43m)\u001b[49m\n",
      "\u001b[36mFile \u001b[39m\u001b[32m/Volumes/LaCie/Projects_portfolio/NLP/SupportIQ/agentic-ai/venv/lib/python3.13/site-packages/langgraph/_internal/_runnable.py:401\u001b[39m, in \u001b[36mRunnableCallable.invoke\u001b[39m\u001b[34m(self, input, config, **kwargs)\u001b[39m\n\u001b[32m    399\u001b[39m         run_manager.on_chain_end(ret)\n\u001b[32m    400\u001b[39m \u001b[38;5;28;01melse\u001b[39;00m:\n\u001b[32m--> \u001b[39m\u001b[32m401\u001b[39m     ret = \u001b[38;5;28;43mself\u001b[39;49m\u001b[43m.\u001b[49m\u001b[43mfunc\u001b[49m\u001b[43m(\u001b[49m\u001b[43m*\u001b[49m\u001b[43margs\u001b[49m\u001b[43m,\u001b[49m\u001b[43m \u001b[49m\u001b[43m*\u001b[49m\u001b[43m*\u001b[49m\u001b[43mkwargs\u001b[49m\u001b[43m)\u001b[49m\n\u001b[32m    402\u001b[39m \u001b[38;5;28;01mif\u001b[39;00m \u001b[38;5;28mself\u001b[39m.recurse \u001b[38;5;129;01mand\u001b[39;00m \u001b[38;5;28misinstance\u001b[39m(ret, Runnable):\n\u001b[32m    403\u001b[39m     \u001b[38;5;28;01mreturn\u001b[39;00m ret.invoke(\u001b[38;5;28minput\u001b[39m, config)\n",
      "\u001b[36mFile \u001b[39m\u001b[32m/Volumes/LaCie/Projects_portfolio/NLP/SupportIQ/agentic-ai/venv/lib/python3.13/site-packages/langgraph/prebuilt/tool_node.py:363\u001b[39m, in \u001b[36mToolNode._func\u001b[39m\u001b[34m(self, input, config, store)\u001b[39m\n\u001b[32m    352\u001b[39m \u001b[38;5;28;01mdef\u001b[39;00m\u001b[38;5;250m \u001b[39m\u001b[34m_func\u001b[39m(\n\u001b[32m    353\u001b[39m     \u001b[38;5;28mself\u001b[39m,\n\u001b[32m    354\u001b[39m     \u001b[38;5;28minput\u001b[39m: Union[\n\u001b[32m   (...)\u001b[39m\u001b[32m    361\u001b[39m     store: Optional[BaseStore],\n\u001b[32m    362\u001b[39m ) -> Any:\n\u001b[32m--> \u001b[39m\u001b[32m363\u001b[39m     tool_calls, input_type = \u001b[38;5;28;43mself\u001b[39;49m\u001b[43m.\u001b[49m\u001b[43m_parse_input\u001b[49m\u001b[43m(\u001b[49m\u001b[38;5;28;43minput\u001b[39;49m\u001b[43m,\u001b[49m\u001b[43m \u001b[49m\u001b[43mstore\u001b[49m\u001b[43m)\u001b[49m\n\u001b[32m    364\u001b[39m     config_list = get_config_list(config, \u001b[38;5;28mlen\u001b[39m(tool_calls))\n\u001b[32m    365\u001b[39m     input_types = [input_type] * \u001b[38;5;28mlen\u001b[39m(tool_calls)\n",
      "\u001b[36mFile \u001b[39m\u001b[32m/Volumes/LaCie/Projects_portfolio/NLP/SupportIQ/agentic-ai/venv/lib/python3.13/site-packages/langgraph/prebuilt/tool_node.py:573\u001b[39m, in \u001b[36mToolNode._parse_input\u001b[39m\u001b[34m(self, input, store)\u001b[39m\n\u001b[32m    571\u001b[39m     input_type = \u001b[33m\"\u001b[39m\u001b[33mdict\u001b[39m\u001b[33m\"\u001b[39m\n\u001b[32m    572\u001b[39m \u001b[38;5;28;01melse\u001b[39;00m:\n\u001b[32m--> \u001b[39m\u001b[32m573\u001b[39m     \u001b[38;5;28;01mraise\u001b[39;00m \u001b[38;5;167;01mValueError\u001b[39;00m(\u001b[33m\"\u001b[39m\u001b[33mNo message found in input\u001b[39m\u001b[33m\"\u001b[39m)\n\u001b[32m    575\u001b[39m \u001b[38;5;28;01mtry\u001b[39;00m:\n\u001b[32m    576\u001b[39m     latest_ai_message = \u001b[38;5;28mnext\u001b[39m(\n\u001b[32m    577\u001b[39m         m \u001b[38;5;28;01mfor\u001b[39;00m m \u001b[38;5;129;01min\u001b[39;00m \u001b[38;5;28mreversed\u001b[39m(messages) \u001b[38;5;28;01mif\u001b[39;00m \u001b[38;5;28misinstance\u001b[39m(m, AIMessage)\n\u001b[32m    578\u001b[39m     )\n",
      "\u001b[31mValueError\u001b[39m: No message found in input",
      "During task with name 'Supervisor' and id '6ecfb3bd-8840-5fd6-5aab-9451b40f6c38'"
     ]
    }
   ],
   "source": [
    "response = app.invoke({\"user_input\":\"My mouse is not working. This is a complaint.\"})"
   ]
  },
  {
   "cell_type": "code",
   "execution_count": 36,
   "id": "8e70f14d",
   "metadata": {},
   "outputs": [
    {
     "data": {
      "image/png": "[encoded data removed]",
      "text/plain": [
       "<langgraph.graph.state.CompiledStateGraph object at 0x1127e16e0>"
      ]
     },
     "execution_count": 36,
     "metadata": {},
     "output_type": "execute_result"
    }
   ],
   "source": [
    "app"
   ]
  },
  {
   "cell_type": "code",
   "execution_count": null,
   "id": "76adc2fe",
   "metadata": {},
   "outputs": [],
   "source": [
    "response = app.invoke({\"user_input\":\"Today.\"})\n",
    "response"
   ]
  },
  {
   "cell_type": "code",
   "execution_count": null,
   "id": "e097527a",
   "metadata": {},
   "outputs": [],
   "source": [
    "@tool\n",
    "def churn_score(user_input:str)->int:\n",
    "    \"\"\"\n",
    "        Calculate a churn risk score from user input.\n",
    "        Returns category: high, medium, or low.\n",
    "    \"\"\"\n",
    "\n",
    "    system_prompt = \"\"\" \n",
    "    You are a churn detection assistant.\n",
    "    Based on the user input, classifiy their churn risk into:\n",
    "    - high: user explicitly wants to cancel, switch, or sounds very frustrated.\n",
    "    - medium: user shows dissatisfaction but hasn't decided to cancel yet.\n",
    "    - low: user just asking questions or mild complaints.\n",
    "\n",
    "    Examples:\n",
    "    User: \"I'm cancelling this useless service today.\"\n",
    "    Churn risk: high\n",
    "\n",
    "    User: \"Your prices keep going up, I don't know if it's worth it anymore.\"\n",
    "    Churn risk: medium\n",
    "\n",
    "    User: \"How do I cancel if I ever need to in the future?\"\n",
    "    Churn risk: low\n",
    "\n",
    "    Respond with only one of: high, medium, low.\n",
    "    \"\"\"\n",
    "    score = llm.invoke([\n",
    "        {'role':'system', 'content':system_prompt},\n",
    "        {'role':'user', 'content':user_input}\n",
    "    ]).content\n",
    "\n",
    "    return str(score)\n",
    "\n",
    "@tool\n",
    "def loyalty_score(score:str)->str:\n",
    "    \"\"\" \n",
    "        Provide rewards to user based on churn score. \n",
    "    \"\"\"\n",
    "    reward_weights = {'high': 1.0, \"medium\": 0.6, \"low\": 0.2}\n",
    "    clv_values = {\"high\": 1000, \"medium\": 500, \"low\": 200}\n",
    "    clv_tier=random.choices(\n",
    "        ['high','medium','low'],\n",
    "        weights=[0.25,0.45,0.3],\n",
    "        k=1\n",
    "    )[0]\n",
    "\n",
    "    reward_score = reward_weights[score]*clv_values[clv_tier]\n",
    "\n",
    "    return reward_score\n",
    "\n",
    "@tool\n",
    "def loyalty_rewards(user_input:str, reward_score:float, churn_score:str)->str:\n",
    "    \"\"\"\n",
    "    Generate a personalized retention message.\n",
    "    \"\"\"\n",
    "    system_prompt=\"\"\" \n",
    "    You are a customer retention assistant. \n",
    "    Generate a polite, empathetic message based on the following:\n",
    "    - The user's message\n",
    "    - Their churn risk (high, medium, low)\n",
    "    - Their loyalty score (40-1000)\n",
    "\n",
    "    Rules:\n",
    "    - If loyalty score >= 800 → emphasize strong appreciation and give a high reward (e.g., big discount, free premium month).\n",
    "    - If 500-799 → show gratitude and offer a medium reward (e.g., discount or perk).\n",
    "    - If 200-499 → acknowledge their value and give a small reward (e.g., loyalty points or small discount).\n",
    "    - If < 200 → do not give a reward, just apologize and promise to improve.\n",
    "    - If churn risk = high → always start by apologizing and showing empathy before mentioning any reward.\n",
    "    - Keep the message short, friendly, concise and natural. Do not include technical terms or scores.\n",
    "    \n",
    "    Respond with only the final concise message.\n",
    "    \"\"\"\n",
    "\n",
    "    user_context = f\"\"\"\n",
    "    User message: {user_input}\n",
    "    Churn risk: {churn_score}\n",
    "    Loyalty score: {reward_score}\n",
    "    \"\"\"\n",
    "\n",
    "    response = llm.invoke([{'role':'system', 'content':system_prompt},\n",
    "                           {'role':'user','content':user_context}]).content\n",
    "    \n",
    "    return str(response)\n"
   ]
  },
  {
   "cell_type": "code",
   "execution_count": null,
   "id": "4590802d",
   "metadata": {},
   "outputs": [],
   "source": [
    "def retention_node(state:SupervisorState)->SupervisorState:\n",
    "    score = churn_score(state['user_input'])\n",
    "    rewards = loyalty_score(score)\n",
    "    loyalty=loyalty_rewards({'user_input':state['user_input'],'reward_score':rewards, 'churn_score':score})\n",
    "    print(rewards)\n",
    "    print(loyalty)\n",
    "    return {'messages':[f\"Retention Handled: {state['user_input']}\"]}"
   ]
  },
  {
   "cell_type": "code",
   "execution_count": null,
   "id": "c3acc0ae",
   "metadata": {},
   "outputs": [],
   "source": []
  },
  {
   "cell_type": "code",
   "execution_count": null,
   "id": "cddab765",
   "metadata": {},
   "outputs": [],
   "source": []
  },
  {
   "cell_type": "code",
   "execution_count": null,
   "id": "80734c90",
   "metadata": {},
   "outputs": [],
   "source": []
  },
  {
   "cell_type": "code",
   "execution_count": null,
   "id": "d7034adf",
   "metadata": {},
   "outputs": [],
   "source": []
  },
  {
   "cell_type": "code",
   "execution_count": null,
   "id": "4854d2a8",
   "metadata": {},
   "outputs": [],
   "source": []
  },
  {
   "cell_type": "code",
   "execution_count": null,
   "id": "62cdd5c0",
   "metadata": {},
   "outputs": [],
   "source": []
  },
  {
   "cell_type": "code",
   "execution_count": null,
   "id": "c4f808c6",
   "metadata": {},
   "outputs": [],
   "source": []
  },
  {
   "cell_type": "code",
   "execution_count": null,
   "id": "72adff76",
   "metadata": {},
   "outputs": [],
   "source": []
  },
  {
   "cell_type": "code",
   "execution_count": null,
   "id": "51e54004",
   "metadata": {},
   "outputs": [],
   "source": []
  },
  {
   "cell_type": "code",
   "execution_count": null,
   "id": "688dcb9a",
   "metadata": {},
   "outputs": [],
   "source": []
  },
  {
   "cell_type": "code",
   "execution_count": null,
   "id": "20fe763e",
   "metadata": {},
   "outputs": [],
   "source": []
  }
 ],
 "metadata": {
  "kernelspec": {
   "display_name": "venv",
   "language": "python",
   "name": "python3"
  },
  "language_info": {
   "codemirror_mode": {
    "name": "ipython",
    "version": 3
   },
   "file_extension": ".py",
   "mimetype": "text/x-python",
   "name": "python",
   "nbconvert_exporter": "python",
   "pygments_lexer": "ipython3",
   "version": "3.13.7"
  }
 },
 "nbformat": 4,
 "nbformat_minor": 5
}
