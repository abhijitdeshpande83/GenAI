{
 "cells": [
  {
   "cell_type": "code",
   "execution_count": 1,
   "id": "6d275839",
   "metadata": {},
   "outputs": [],
   "source": [
    "import os\n",
    "import json\n",
    "import random\n",
    "import string\n",
    "from typing import Annotated, TypedDict, List, Sequence, Optional\n",
    "from langchain_groq import ChatGroq \n",
    "from langgraph.graph import StateGraph, START, END, MessagesState\n",
    "from langgraph.types import Command\n",
    "from langchain_core.messages import BaseMessage,HumanMessage,SystemMessage,AIMessage,ToolMessage\n",
    "from langgraph.graph.message import add_messages\n",
    "from langchain_community.tools.tavily_search import TavilySearchResults\n",
    "from langgraph.checkpoint.memory import MemorySaver\n",
    "from langchain_core.tools import tool\n",
    "from langgraph.prebuilt import ToolNode, InjectedState, tools_condition\n",
    "from dotenv import load_dotenv"
   ]
  },
  {
   "cell_type": "code",
   "execution_count": 2,
   "id": "0357fa24",
   "metadata": {},
   "outputs": [],
   "source": [
    "load_dotenv()\n",
    "api_key = os.getenv(\"GROQ_API_KEY\")"
   ]
  },
  {
   "cell_type": "code",
   "execution_count": 3,
   "id": "b887cbfd",
   "metadata": {},
   "outputs": [],
   "source": [
    "llm = ChatGroq(model=\"llama-3.1-8b-instant\")"
   ]
  },
  {
   "cell_type": "code",
   "execution_count": 5,
   "id": "1cbc24a5",
   "metadata": {},
   "outputs": [],
   "source": [
    "class SupervisorState(MessagesState):\n",
    "    \"\"\"\n",
    "        State for multi-agent system\n",
    "    \"\"\"   \n",
    "    user_input: str\n",
    "    user_intent: str\n",
    "    complaint: dict\n",
    "    missing_info: list\n",
    "    next: str\n",
    "\n",
    "# Supervisor Node\n",
    "\n",
    "def supervisor_node(state:SupervisorState)->SupervisorState:\n",
    "\n",
    "    if state.get('complaint_in_progress'):\n",
    "        return Command(goto=\"Complaint Agent\")\n",
    " \n",
    "    system_prompt = \"\"\"\n",
    "    You are a supervisor. Classify the user query into one of: inquiry, complaint, retention.\n",
    "\n",
    "    Rules:\n",
    "    - If the user mentions cancelling, switching, leaving, or expresses strong frustration about continuing the service, classify as retention.\n",
    "    - If the user complains but does not express intent to leave, classify as complaint.\n",
    "    - If the user is asking for info or guidance, classify as inquiry.\n",
    "    \"\"\"\n",
    "    \n",
    "    response = llm.invoke([\n",
    "        {\"role\":\"system\", \"content\":system_prompt},\n",
    "        {\"role\":\"user\", \"content\":state[\"user_input\"]}\n",
    "        ])\n",
    "    \n",
    "    intent=response.content.strip().lower()\n",
    "    state['user_intent']=intent\n",
    "\n",
    "    if intent==\"inquiry\":\n",
    "        return Command(goto=\"Inquiry Agent\")\n",
    "    elif intent==\"complaint\":\n",
    "        return Command(goto=\"Complaint Agent\")\n",
    "    elif intent==\"retention\":\n",
    "        return Command(goto=\"Retention Agent\")\n",
    "    else:\n",
    "        return Command(goto=\"Fallback\")\n"
   ]
  },
  {
   "cell_type": "code",
   "execution_count": 6,
   "id": "7c2eb31f",
   "metadata": {},
   "outputs": [],
   "source": [
    "# Worker nodes\n",
    "\n",
    "def inquiry_node(state:SupervisorState)->SupervisorState:\n",
    "    return {'messages':[f\"Inquiry Handled: {state['user_input']}\"]}\n",
    "\n",
    "def fallback(state:SupervisorState)->SupervisorState:\n",
    "    return {'messages':[f\"Sorry, I couldn't understand your message\"]}"
   ]
  },
  {
   "cell_type": "code",
   "execution_count": 7,
   "id": "7fb64d42",
   "metadata": {},
   "outputs": [],
   "source": [
    "def nlu_node(state:SupervisorState)->SupervisorState:\n",
    "    \"\"\" \n",
    "        NLU Extractor agent that extract entities (product, issue_type, and purchase_date) from user input. \n",
    "    \"\"\"\n",
    "    user_input = state[\"user_input\"]\n",
    "    current_complaint = state.get('complaint',{})\n",
    "\n",
    "    system_prompt=f\"\"\" You are an entity extractor. \n",
    "    Your goal is to extract the latest product, issue_type, and purchase_date \n",
    "    from the user's input.\n",
    "    - product\n",
    "    - issue_type\n",
    "    - purchase_date\n",
    "\n",
    "    Respond ONLY with a valid JSON object in this exact format:\n",
    "    {{\n",
    "        \"product\": string or null,\n",
    "        \"issue_type\": string or null,\n",
    "        \"purchase_date\": MM/DD/YY or null\n",
    "    }}\n",
    "    \"\"\"\n",
    "     \n",
    "    response = llm.invoke([\n",
    "            SystemMessage(content=system_prompt),\n",
    "            HumanMessage(content=user_input)\n",
    "        ])\n",
    "    \n",
    "    complaint_data =json.loads(response.content)\n",
    "    updated_complaint = {k: current_complaint.get(k) or v for k,v in complaint_data.items()}\n",
    "    missing_data = [k for k,v in updated_complaint.items() if not v]\n",
    "    state['complaint'] = updated_complaint\n",
    "    state['missing_info']=missing_data\n",
    "    \n",
    "    return state\n",
    "   \n",
    "def ask_missing_info(state:SupervisorState)->SupervisorState:\n",
    "    \"\"\"\" \n",
    "        This Agent validate th data from NLU agent and ask missing information from user input.\n",
    "    \"\"\"\n",
    "    complaint_data = state['complaint']\n",
    "    user_input = state['user_input']\n",
    "    missing_data = state['missing_info']\n",
    "\n",
    "    system_prommpt = f\"\"\"You are a smart assistant.\n",
    "    This is a user input {user_input} and this is missing list of information {missing_data}.\n",
    "    You will ask only missing info to user in concise and polite way.\n",
    "    \"\"\"\n",
    "    response = llm.invoke([\n",
    "        SystemMessage(content=system_prommpt)]\n",
    "    )\n",
    "    state['messages']=response.content\n",
    "    return state\n",
    "\n",
    "def ticket_node(state:SupervisorState)->SupervisorState:\n",
    "    \"\"\"\n",
    "    Tool to create a complaint ticket.\n",
    "    Generates a ticket ID like IG408C90.\n",
    "    \"\"\"\n",
    "\n",
    "    complaint = state['complaint']\n",
    "    \n",
    "    prefix = ''.join(random.choices(string.ascii_uppercase,k=2))\n",
    "    number1 = random.randint(100,1000)\n",
    "    mid = ''.join(random.choices(string.ascii_uppercase))\n",
    "    number2 = random.randint(10,100)\n",
    "    ticket_id = f\"{prefix}{number1}{mid}{number2}\"\n",
    "\n",
    "    ticket={\n",
    "        \"ticket_id\":ticket_id,\n",
    "        \"status\":\"created\",\n",
    "        \"details\":complaint\n",
    "    }\n",
    "    state['messages']=f\"Ticket {ticket['ticket_id']} has been created.\"\n",
    "    \n",
    "    return state\n",
    "\n",
    "def router_node(state:SupervisorState)->SupervisorState:\n",
    "    \"\"\"Returns the next step key based on the missing_info list.\"\"\"\n",
    "\n",
    "    missing_info= state['missing_info']\n",
    "\n",
    "    if missing_info:\n",
    "        return \"missing\"\n",
    "    else:\n",
    "        return \"no_missing\"  "
   ]
  },
  {
   "cell_type": "code",
   "execution_count": 8,
   "id": "edb0312c",
   "metadata": {},
   "outputs": [],
   "source": [
    "workflow = StateGraph(SupervisorState)\n",
    "\n",
    "workflow.add_node(\"NLU\", nlu_node)\n",
    "workflow.add_node(\"ask_missing_info\",ask_missing_info)\n",
    "workflow.add_node(\"Ticket\",ticket_node)\n",
    "\n",
    "workflow.add_edge(START,\"NLU\")\n",
    "workflow.add_conditional_edges(\n",
    "    \"NLU\",\n",
    "    router_node,\n",
    "    {\n",
    "        \"missing\":\"ask_missing_info\",\n",
    "        \"no_missing\":\"Ticket\"\n",
    "    }\n",
    ")\n",
    "workflow.add_edge(\"ask_missing_info\",END)\n",
    "workflow.add_edge(\"Ticket\",END)\n",
    "\n",
    "memory=MemorySaver()\n",
    "complaint_graph = workflow.compile(checkpointer=memory)\n",
    "config= {\"configurable\":{\"thread_id\":\"user_complaint_session\"}}"
   ]
  },
  {
   "cell_type": "code",
   "execution_count": 9,
   "id": "0cdb9a2c",
   "metadata": {},
   "outputs": [
    {
     "data": {
      "image/png": "[encoded data removed]",
      "text/plain": [
       "<langgraph.graph.state.CompiledStateGraph object at 0x112d706e0>"
      ]
     },
     "execution_count": 9,
     "metadata": {},
     "output_type": "execute_result"
    }
   ],
   "source": [
    "complaint_graph"
   ]
  },
  {
   "cell_type": "code",
   "execution_count": 12,
   "id": "f6275b10",
   "metadata": {},
   "outputs": [],
   "source": [
    "response = complaint_graph.invoke({'user_input':\"My Phone is broken.\"},config=config)\n",
    "# response = complaint_graph.invoke({'user_input':\"1st October 2024\"},config=config)"
   ]
  },
  {
   "cell_type": "code",
   "execution_count": 13,
   "id": "cda963c9",
   "metadata": {},
   "outputs": [
    {
     "name": "stdout",
     "output_type": "stream",
     "text": [
      "Ticket YB626E75 has been created.\n"
     ]
    }
   ],
   "source": [
    "print(response['messages'][-1].content)"
   ]
  },
  {
   "cell_type": "code",
   "execution_count": 14,
   "id": "e097527a",
   "metadata": {},
   "outputs": [],
   "source": [
    "@tool\n",
    "def churn_score(user_input:str)->int:\n",
    "    \"\"\"\n",
    "        Calculate a churn risk score from user input.\n",
    "        Returns category: high, medium, or low.\n",
    "    \"\"\"\n",
    "\n",
    "    system_prompt = \"\"\" \n",
    "    You are a churn detection assistant.\n",
    "    Based on the user input, classifiy their churn risk into:\n",
    "    - high: user explicitly wants to cancel, switch, or sounds very frustrated.\n",
    "    - medium: user shows dissatisfaction but hasn't decided to cancel yet.\n",
    "    - low: user just asking questions or mild complaints.\n",
    "\n",
    "    Examples:\n",
    "    User: \"I'm cancelling this useless service today.\"\n",
    "    Churn risk: high\n",
    "\n",
    "    User: \"Your prices keep going up, I don't know if it's worth it anymore.\"\n",
    "    Churn risk: medium\n",
    "\n",
    "    User: \"How do I cancel if I ever need to in the future?\"\n",
    "    Churn risk: low\n",
    "\n",
    "    Respond with only one of: high, medium, low.\n",
    "    \"\"\"\n",
    "    score = llm.invoke([\n",
    "        {'role':'system', 'content':system_prompt},\n",
    "        {'role':'user', 'content':user_input}\n",
    "    ]).content\n",
    "\n",
    "    return str(score)\n",
    "\n",
    "@tool\n",
    "def loyalty_score(score:str)->str:\n",
    "    \"\"\" \n",
    "        Provide rewards to user based on churn score. \n",
    "    \"\"\"\n",
    "    reward_weights = {'high': 1.0, \"medium\": 0.6, \"low\": 0.2}\n",
    "    clv_values = {\"high\": 1000, \"medium\": 500, \"low\": 200}\n",
    "    clv_tier=random.choices(\n",
    "        ['high','medium','low'],\n",
    "        weights=[0.25,0.45,0.3],\n",
    "        k=1\n",
    "    )[0]\n",
    "\n",
    "    loyalty_score = reward_weights[score]*clv_values[clv_tier]\n",
    "\n",
    "    return loyalty_score, clv_tier\n",
    "\n",
    "@tool\n",
    "def loyalty_rewards(user_input:str, loyalty_score:float, churn_score:str)->str:\n",
    "    \"\"\"\n",
    "    Generate a personalized retention message.\n",
    "    \"\"\"\n",
    "    system_prompt=\"\"\" \n",
    "    You are a customer retention assistant. \n",
    "    Generate a polite, empathetic message based on the following:\n",
    "    - The user's message\n",
    "    - Their churn risk (high, medium, low)\n",
    "    - Their loyalty score (40-1000)\n",
    "\n",
    "    Rules:\n",
    "    - If loyalty score >= 800 → emphasize strong appreciation and give a high reward (e.g., big discount, free premium month).\n",
    "    - If 500-799 → show gratitude and offer a medium reward (e.g., discount or perk).\n",
    "    - If 200-499 → acknowledge their value and give a small reward (e.g., loyalty points or small discount).\n",
    "    - If < 200 → do not give a reward, just apologize and promise to improve.\n",
    "    - If churn risk = high → always start by apologizing and showing empathy before mentioning any reward.\n",
    "    - Keep the message short, friendly, concise and natural. Do not include technical terms or scores.\n",
    "    \n",
    "    Respond with only the final concise message.\n",
    "    \"\"\"\n",
    "\n",
    "    user_context = f\"\"\"\n",
    "        User message: {user_input}\n",
    "        Churn risk: {churn_score}\n",
    "        Loyalty score: {loyalty_score}\n",
    "        \"\"\"\n",
    "\n",
    "    response = llm.invoke([{'role':'system', 'content':system_prompt},\n",
    "                           {'role':'user','content':user_context}]).content\n",
    "    \n",
    "    return str(response)\n"
   ]
  },
  {
   "cell_type": "code",
   "execution_count": 15,
   "id": "4590802d",
   "metadata": {},
   "outputs": [],
   "source": [
    "def retention_node(state:SupervisorState)->SupervisorState:\n",
    "    score = churn_score(state['user_input'])\n",
    "    rewards = loyalty_score(score)\n",
    "    loyalty=loyalty_rewards({'user_input':state['user_input'],'reward_score':rewards, 'churn_score':score})\n",
    "    print(rewards)\n",
    "    print(loyalty)\n",
    "    return {'messages':[f\"Retention Handled: {state['user_input']}\"]}"
   ]
  },
  {
   "cell_type": "code",
   "execution_count": 18,
   "id": "c3acc0ae",
   "metadata": {},
   "outputs": [],
   "source": [
    "graph = StateGraph(SupervisorState)\n",
    "graph.add_node(\"Supervisor\",supervisor_node)\n",
    "graph.add_node(\"Inquiry Agent\",inquiry_node)\n",
    "graph.add_node(\"Complaint Agent\",complaint_graph)\n",
    "graph.add_node(\"Retention Agent\",retention_node)\n",
    "graph.add_node(\"Fallback\", fallback) \n",
    "\n",
    "graph.add_edge(START, \"Supervisor\")\n",
    "\n",
    "graph.add_edge(\"Supervisor\", \"Inquiry Agent\")\n",
    "graph.add_edge(\"Supervisor\", \"Complaint Agent\")\n",
    "graph.add_edge(\"Supervisor\", \"Retention Agent\")\n",
    "graph.add_edge(\"Supervisor\", \"Fallback\")\n",
    "graph.add_edge(\"Inquiry Agent\", END)\n",
    "graph.add_edge(\"Complaint Agent\", END) \n",
    "graph.add_edge(\"Retention Agent\", END)\n",
    "graph.add_edge(\"Fallback\", END)\n",
    "\n",
    "app = graph.compile()"
   ]
  },
  {
   "cell_type": "code",
   "execution_count": 19,
   "id": "cddab765",
   "metadata": {},
   "outputs": [
    {
     "data": {
      "image/png": "[encoded data removed]",
      "text/plain": [
       "<langgraph.graph.state.CompiledStateGraph object at 0x11377c2d0>"
      ]
     },
     "execution_count": 19,
     "metadata": {},
     "output_type": "execute_result"
    }
   ],
   "source": [
    "app"
   ]
  },
  {
   "cell_type": "code",
   "execution_count": null,
   "id": "80734c90",
   "metadata": {},
   "outputs": [],
   "source": []
  },
  {
   "cell_type": "code",
   "execution_count": null,
   "id": "d7034adf",
   "metadata": {},
   "outputs": [],
   "source": []
  },
  {
   "cell_type": "code",
   "execution_count": null,
   "id": "4854d2a8",
   "metadata": {},
   "outputs": [],
   "source": []
  },
  {
   "cell_type": "code",
   "execution_count": null,
   "id": "62cdd5c0",
   "metadata": {},
   "outputs": [],
   "source": []
  },
  {
   "cell_type": "code",
   "execution_count": null,
   "id": "c4f808c6",
   "metadata": {},
   "outputs": [],
   "source": []
  },
  {
   "cell_type": "code",
   "execution_count": null,
   "id": "72adff76",
   "metadata": {},
   "outputs": [],
   "source": []
  },
  {
   "cell_type": "code",
   "execution_count": null,
   "id": "51e54004",
   "metadata": {},
   "outputs": [],
   "source": []
  },
  {
   "cell_type": "code",
   "execution_count": null,
   "id": "688dcb9a",
   "metadata": {},
   "outputs": [],
   "source": []
  },
  {
   "cell_type": "code",
   "execution_count": null,
   "id": "20fe763e",
   "metadata": {},
   "outputs": [],
   "source": []
  }
 ],
 "metadata": {
  "kernelspec": {
   "display_name": "venv",
   "language": "python",
   "name": "python3"
  },
  "language_info": {
   "codemirror_mode": {
    "name": "ipython",
    "version": 3
   },
   "file_extension": ".py",
   "mimetype": "text/x-python",
   "name": "python",
   "nbconvert_exporter": "python",
   "pygments_lexer": "ipython3",
   "version": "3.13.7"
  }
 },
 "nbformat": 4,
 "nbformat_minor": 5
}
