{
 "cells": [
  {
   "cell_type": "code",
   "execution_count": 1,
   "id": "6d275839",
   "metadata": {},
   "outputs": [],
   "source": [
    "import os\n",
    "import json\n",
    "import random\n",
    "import string\n",
    "from typing import Annotated, TypedDict, List, Sequence, Optional, Dict\n",
    "from langchain_groq import ChatGroq \n",
    "from langgraph.graph import StateGraph, START, END, MessagesState\n",
    "from langgraph.types import Command\n",
    "from langchain_core.messages import BaseMessage,HumanMessage,SystemMessage,AIMessage,ToolMessage\n",
    "from langgraph.graph.message import add_messages\n",
    "from langchain_community.tools.tavily_search import TavilySearchResults\n",
    "from langgraph.checkpoint.memory import MemorySaver\n",
    "from langchain_core.tools import tool\n",
    "from langgraph.prebuilt import ToolNode, InjectedState, tools_condition\n",
    "from dotenv import load_dotenv"
   ]
  },
  {
   "cell_type": "code",
   "execution_count": 2,
   "id": "0357fa24",
   "metadata": {},
   "outputs": [],
   "source": [
    "load_dotenv()\n",
    "api_key = os.getenv(\"GROQ_API_KEY\")"
   ]
  },
  {
   "cell_type": "code",
   "execution_count": 3,
   "id": "b887cbfd",
   "metadata": {},
   "outputs": [],
   "source": [
    "llm = ChatGroq(model=\"llama-3.1-8b-instant\")"
   ]
  },
  {
   "cell_type": "code",
   "execution_count": 68,
   "id": "1cbc24a5",
   "metadata": {},
   "outputs": [],
   "source": [
    "class SupervisorState(MessagesState):\n",
    "    \"\"\"\n",
    "        State for multi-agent system\n",
    "    \"\"\"   \n",
    "    user_input: str\n",
    "    user_intent: str\n",
    "    complaint: dict\n",
    "    missing_info: list\n",
    "    next: str\n",
    "    customer_profile: Dict\n",
    "    \n",
    "\n",
    "# Supervisor Node\n",
    "\n",
    "def supervisor_node(state:SupervisorState)->SupervisorState:\n",
    "\n",
    "    if state.get('complaint_in_progress'):\n",
    "        return Command(goto=\"Complaint Agent\")\n",
    " \n",
    "    system_prompt = \"\"\"\n",
    "    You are a supervisor. Classify the user query into one of: inquiry, complaint, retention.\n",
    "\n",
    "    Rules:\n",
    "    - If the user mentions cancelling, switching, leaving, or expresses strong frustration about continuing the service, classify as retention.\n",
    "    - If the user complains but does not express intent to leave, classify as complaint.\n",
    "    - If the user is asking for info or guidance, classify as inquiry.\n",
    "    \"\"\"\n",
    "    \n",
    "    response = llm.invoke([\n",
    "        {\"role\":\"system\", \"content\":system_prompt},\n",
    "        {\"role\":\"user\", \"content\":state[\"user_input\"]}\n",
    "        ])\n",
    "    \n",
    "    intent=response.content.strip().lower()\n",
    "    state['user_intent']=intent\n",
    "\n",
    "    if intent==\"inquiry\":\n",
    "        return Command(goto=\"Inquiry Agent\")\n",
    "    elif intent==\"complaint\":\n",
    "        return Command(goto=\"Complaint Agent\")\n",
    "    elif intent==\"retention\":\n",
    "        return Command(goto=\"Retention Agent\")\n",
    "    else:\n",
    "        return Command(goto=\"Fallback\")\n"
   ]
  },
  {
   "cell_type": "code",
   "execution_count": 69,
   "id": "7c2eb31f",
   "metadata": {},
   "outputs": [],
   "source": [
    "# Worker nodes\n",
    "\n",
    "def inquiry_node(state:SupervisorState)->SupervisorState:\n",
    "    return {'messages':[f\"Inquiry Handled: {state['user_input']}\"]}\n",
    "\n",
    "def fallback(state:SupervisorState)->SupervisorState:\n",
    "    return {'messages':[f\"Sorry, I couldn't understand your message\"]}"
   ]
  },
  {
   "cell_type": "code",
   "execution_count": 70,
   "id": "7fb64d42",
   "metadata": {},
   "outputs": [],
   "source": [
    "def nlu_node(state:SupervisorState)->SupervisorState:\n",
    "    \"\"\" \n",
    "        NLU Extractor agent that extract entities (product, issue_type, and purchase_date) from user input. \n",
    "    \"\"\"\n",
    "    user_input = state[\"user_input\"]\n",
    "    current_complaint = state.get('complaint',{})\n",
    "\n",
    "    system_prompt=f\"\"\" You are an entity extractor. \n",
    "    Your goal is to extract the latest product, issue_type, and purchase_date \n",
    "    from the user's input.\n",
    "    - product\n",
    "    - issue_type\n",
    "    - purchase_date\n",
    "\n",
    "    Respond ONLY with a valid JSON object in this exact format:\n",
    "    {{\n",
    "        \"product\": string or null,\n",
    "        \"issue_type\": string or null,\n",
    "        \"purchase_date\": MM/DD/YY or null\n",
    "    }}\n",
    "    \"\"\"\n",
    "     \n",
    "    response = llm.invoke([\n",
    "            SystemMessage(content=system_prompt),\n",
    "            HumanMessage(content=user_input)\n",
    "        ])\n",
    "    \n",
    "    complaint_data =json.loads(response.content)\n",
    "    updated_complaint = {k: current_complaint.get(k) or v for k,v in complaint_data.items()}\n",
    "    missing_data = [k for k,v in updated_complaint.items() if not v]\n",
    "    state['complaint'] = updated_complaint\n",
    "    state['missing_info']=missing_data\n",
    "    \n",
    "    return state\n",
    "   \n",
    "def ask_missing_info(state:SupervisorState)->SupervisorState:\n",
    "    \"\"\"\" \n",
    "        This Agent validate th data from NLU agent and ask missing information from user input.\n",
    "    \"\"\"\n",
    "    complaint_data = state['complaint']\n",
    "    user_input = state['user_input']\n",
    "    missing_data = state['missing_info']\n",
    "\n",
    "    system_prommpt = f\"\"\"You are a smart assistant.\n",
    "    This is a user input {user_input} and this is missing list of information {missing_data}.\n",
    "    You will ask only missing info to user in concise and polite way.\n",
    "    \"\"\"\n",
    "    response = llm.invoke([\n",
    "        SystemMessage(content=system_prommpt)]\n",
    "    )\n",
    "    state['messages']=response.content\n",
    "    return state\n",
    "\n",
    "def ticket_node(state:SupervisorState)->SupervisorState:\n",
    "    \"\"\"\n",
    "    Tool to create a complaint ticket.\n",
    "    Generates a ticket ID like IG408C90.\n",
    "    \"\"\"\n",
    "\n",
    "    complaint = state['complaint']\n",
    "    \n",
    "    prefix = ''.join(random.choices(string.ascii_uppercase,k=2))\n",
    "    number1 = random.randint(100,1000)\n",
    "    mid = ''.join(random.choices(string.ascii_uppercase))\n",
    "    number2 = random.randint(10,100)\n",
    "    ticket_id = f\"{prefix}{number1}{mid}{number2}\"\n",
    "\n",
    "    ticket={\n",
    "        \"ticket_id\":ticket_id,\n",
    "        \"status\":\"created\",\n",
    "        \"details\":complaint\n",
    "    }\n",
    "    state['messages']=f\"Ticket {ticket['ticket_id']} has been created.\"\n",
    "    \n",
    "    return state\n",
    "\n",
    "def router_node(state:SupervisorState)->SupervisorState:\n",
    "    \"\"\"Returns the next step key based on the missing_info list.\"\"\"\n",
    "\n",
    "    missing_info= state['missing_info']\n",
    "\n",
    "    if missing_info:\n",
    "        return \"missing\"\n",
    "    else:\n",
    "        return \"no_missing\"  "
   ]
  },
  {
   "cell_type": "code",
   "execution_count": 71,
   "id": "edb0312c",
   "metadata": {},
   "outputs": [],
   "source": [
    "workflow = StateGraph(SupervisorState)\n",
    "\n",
    "workflow.add_node(\"NLU\", nlu_node)\n",
    "workflow.add_node(\"ask_missing_info\",ask_missing_info)\n",
    "workflow.add_node(\"Ticket\",ticket_node)\n",
    "\n",
    "workflow.add_edge(START,\"NLU\")\n",
    "workflow.add_conditional_edges(\n",
    "    \"NLU\",\n",
    "    router_node,\n",
    "    {\n",
    "        \"missing\":\"ask_missing_info\",\n",
    "        \"no_missing\":\"Ticket\"\n",
    "    }\n",
    ")\n",
    "workflow.add_edge(\"ask_missing_info\",END)\n",
    "workflow.add_edge(\"Ticket\",END)\n",
    "\n",
    "memory=MemorySaver()\n",
    "complaint_graph = workflow.compile(checkpointer=memory)\n",
    "config= {\"configurable\":{\"thread_id\":\"user_complaint_session\"}}"
   ]
  },
  {
   "cell_type": "code",
   "execution_count": 72,
   "id": "0cdb9a2c",
   "metadata": {},
   "outputs": [
    {
     "data": {
      "image/png": "[encoded data removed]",
      "text/plain": [
       "<langgraph.graph.state.CompiledStateGraph object at 0x10f940160>"
      ]
     },
     "execution_count": 72,
     "metadata": {},
     "output_type": "execute_result"
    }
   ],
   "source": [
    "complaint_graph"
   ]
  },
  {
   "cell_type": "code",
   "execution_count": 73,
   "id": "f6275b10",
   "metadata": {},
   "outputs": [],
   "source": [
    "response = complaint_graph.invoke({'user_input':\"My Phone is broken.\"},config=config)\n",
    "# response = complaint_graph.invoke({'user_input':\"1st October 2024\"},config=config)"
   ]
  },
  {
   "cell_type": "code",
   "execution_count": 74,
   "id": "cda963c9",
   "metadata": {},
   "outputs": [
    {
     "name": "stdout",
     "output_type": "stream",
     "text": [
      "I'm sorry to hear that your phone is broken. To help you with any potential warranty or repair options, could you please tell me the purchase date of your phone?\n"
     ]
    }
   ],
   "source": [
    "print(response['messages'][-1].content)"
   ]
  },
  {
   "cell_type": "code",
   "execution_count": 78,
   "id": "e097527a",
   "metadata": {},
   "outputs": [],
   "source": [
    "def churn_score_node(state:SupervisorState)->SupervisorState:\n",
    "    \"\"\"\n",
    "        Calculate a churn risk score from user input.\n",
    "        Returns category: high, medium, or low.\n",
    "    \"\"\"\n",
    "    user_input=state['user_input']\n",
    "    current_profile = state.get('customer_profile',{})\n",
    "    system_prompt = \"\"\" \n",
    "    You are a churn detection assistant.\n",
    "    Based on the user input, classifiy their churn risk into:\n",
    "    - high: user explicitly wants to cancel, switch, or sounds very frustrated.\n",
    "    - medium: user shows dissatisfaction but hasn't decided to cancel yet.\n",
    "    - low: user just asking questions or mild complaints.\n",
    "\n",
    "    Examples:\n",
    "    User: \"I'm cancelling this useless service today.\"\n",
    "    Churn risk: high\n",
    "\n",
    "    User: \"Your prices keep going up, I don't know if it's worth it anymore.\"\n",
    "    Churn risk: medium\n",
    "\n",
    "    User: \"How do I cancel if I ever need to in the future?\"\n",
    "    Churn risk: low\n",
    "\n",
    "    Respond with only one of: high, medium, low.\n",
    "    \"\"\"\n",
    "    score = llm.invoke([\n",
    "        {'role':'system', 'content':system_prompt},\n",
    "        {'role':'user', 'content':user_input}\n",
    "    ]).content\n",
    "    \n",
    "    current_profile['churn_score']=score\n",
    "    return {\"customer_profile\":current_profile}\n",
    "\n",
    "def loyalty_score_node(state:SupervisorState)->SupervisorState:\n",
    "    \"\"\" \n",
    "        Provide loyalty score to user based on churn score and customer value. \n",
    "    \"\"\"\n",
    "    score = state['customer_profile']['churn_score']\n",
    "    current_profile = state.get('customer_profile')\n",
    "    reward_weights = {'high': 1.0, \"medium\": 0.6, \"low\": 0.2}\n",
    "    clv_values = {\"high\": 1000, \"medium\": 500, \"low\": 200}\n",
    "    clv_tier=random.choices(\n",
    "        ['high','medium','low'],\n",
    "        weights=[0.25,0.45,0.3],\n",
    "        k=1\n",
    "        )[0]\n",
    "\n",
    "    loyalty_score = reward_weights[score]*clv_values[clv_tier]\n",
    "    current_profile['loyalty_score']=loyalty_score\n",
    "    current_profile['clv_tier']=clv_tier\n",
    "\n",
    "    return {'customer_profile':current_profile}\n",
    "\n",
    "def reward_node(state:SupervisorState)->SupervisorState:\n",
    "    \"\"\"\n",
    "    Generate a personalized retention message.\n",
    "    \"\"\"\n",
    "\n",
    "    user_input=state['user_input']\n",
    "    churn_score=state['customer_profile']['churn_score']\n",
    "    loyalty_score=state['customer_profile']['loyalty_score']\n",
    "\n",
    "    system_prompt=\"\"\" \n",
    "    You are a customer retention assistant. \n",
    "    Generate a polite, empathetic message based on the following:\n",
    "    - The user's message\n",
    "    - Their churn risk (high, medium, low)\n",
    "    - Their loyalty score (40-1000)\n",
    "\n",
    "    Rules:\n",
    "    - If loyalty score >= 800 → emphasize strong appreciation and give a high reward (e.g., big discount, free premium month).\n",
    "    - If 500-799 → show gratitude and offer a medium reward (e.g., discount or perk).\n",
    "    - If 200-499 → acknowledge their value and give a small reward (e.g., loyalty points or small discount).\n",
    "    - If < 200 → do not give a reward, just apologize and promise to improve.\n",
    "    - If churn risk = high → always start by apologizing and showing empathy before mentioning any reward.\n",
    "    - Keep the message short, friendly, concise and natural. Do not include technical terms or scores.\n",
    "    \n",
    "    Respond with only the final concise message.\n",
    "    \"\"\"\n",
    "\n",
    "    user_context = f\"\"\"\n",
    "        User message: {user_input}\n",
    "        Churn risk: {churn_score}\n",
    "        Loyalty score: {loyalty_score}\n",
    "        \"\"\"\n",
    "\n",
    "    response = llm.invoke([{'role':'system', 'content':system_prompt},\n",
    "                           {'role':'user','content':user_context}])\n",
    "    state['messages']=response.content\n",
    "    return state\n"
   ]
  },
  {
   "cell_type": "code",
   "execution_count": 93,
   "id": "4590802d",
   "metadata": {},
   "outputs": [],
   "source": [
    "flow = StateGraph(SupervisorState)\n",
    "flow.add_node(\"Churn\",churn_score_node)\n",
    "flow.add_node(\"Loyalty_score\",loyalty_score_node)\n",
    "flow.add_node(\"Reward\",reward_node)\n",
    "\n",
    "flow.add_edge(START, \"Churn\")\n",
    "flow.add_edge(\"Churn\",\"Loyalty_score\")\n",
    "flow.add_edge(\"Loyalty_score\",\"Reward\")\n",
    "flow.add_edge(\"Reward\",END)\n",
    "\n",
    "reward_graph=flow.compile()"
   ]
  },
  {
   "cell_type": "code",
   "execution_count": 96,
   "id": "bd10f0c5",
   "metadata": {},
   "outputs": [],
   "source": [
    "# reward_graph"
   ]
  },
  {
   "cell_type": "code",
   "execution_count": 95,
   "id": "4ef96b93",
   "metadata": {},
   "outputs": [
    {
     "data": {
      "text/plain": [
       "{'messages': [HumanMessage(content='\"I\\'m so sorry to hear you\\'re considering canceling. We value you as a member and want to make it right. As a token of our appreciation, I\\'d like to offer you a complimentary premium subscription for the next 6 months. Additionally, I\\'d like to give you a 20% discount on your next purchase. Is there anything specific that led you to think about canceling? I\\'m here to listen and help in any way I can.\"', additional_kwargs={}, response_metadata={}, id='d4af6a8a-7e0e-42e7-8d43-b6ae271d69db')],\n",
       " 'user_input': 'I want to cancel my suvscription',\n",
       " 'customer_profile': {'churn_score': 'high',\n",
       "  'loyalty_score': 1000.0,\n",
       "  'clv_tier': 'high'}}"
      ]
     },
     "execution_count": 95,
     "metadata": {},
     "output_type": "execute_result"
    }
   ],
   "source": [
    "reward_graph.invoke({\"user_input\":\"I want to cancel my suvscription\"})"
   ]
  },
  {
   "cell_type": "code",
   "execution_count": 28,
   "id": "c3acc0ae",
   "metadata": {},
   "outputs": [],
   "source": [
    "graph = StateGraph(SupervisorState)\n",
    "graph.add_node(\"Supervisor\",supervisor_node)\n",
    "graph.add_node(\"Inquiry Agent\",inquiry_node)\n",
    "graph.add_node(\"Complaint Agent\",complaint_graph)\n",
    "graph.add_node(\"Retention Agent\",retention_node)\n",
    "graph.add_node(\"Fallback\", fallback) \n",
    "\n",
    "graph.add_edge(START, \"Supervisor\")\n",
    "\n",
    "graph.add_edge(\"Supervisor\", \"Inquiry Agent\")\n",
    "graph.add_edge(\"Supervisor\", \"Complaint Agent\")\n",
    "graph.add_edge(\"Supervisor\", \"Retention Agent\")\n",
    "graph.add_edge(\"Supervisor\", \"Fallback\")\n",
    "graph.add_edge(\"Inquiry Agent\", \"Supervisor\")\n",
    "graph.add_edge(\"Complaint Agent\", \"Supervisor\") \n",
    "graph.add_edge(\"Retention Agent\", \"Supervisor\")\n",
    "graph.add_edge(\"Fallback\", END)\n",
    "# graph.add_edge(\"Supervisor\",END)\n",
    "\n",
    "app = graph.compile()"
   ]
  },
  {
   "cell_type": "code",
   "execution_count": 29,
   "id": "cddab765",
   "metadata": {},
   "outputs": [
    {
     "data": {
      "image/png": "[encoded data removed]",
      "text/plain": [
       "<langgraph.graph.state.CompiledStateGraph object at 0x112e11e10>"
      ]
     },
     "execution_count": 29,
     "metadata": {},
     "output_type": "execute_result"
    }
   ],
   "source": [
    "app"
   ]
  },
  {
   "cell_type": "code",
   "execution_count": null,
   "id": "80734c90",
   "metadata": {},
   "outputs": [],
   "source": []
  },
  {
   "cell_type": "code",
   "execution_count": null,
   "id": "d7034adf",
   "metadata": {},
   "outputs": [],
   "source": []
  },
  {
   "cell_type": "code",
   "execution_count": null,
   "id": "4854d2a8",
   "metadata": {},
   "outputs": [],
   "source": []
  },
  {
   "cell_type": "code",
   "execution_count": null,
   "id": "62cdd5c0",
   "metadata": {},
   "outputs": [],
   "source": []
  },
  {
   "cell_type": "code",
   "execution_count": null,
   "id": "c4f808c6",
   "metadata": {},
   "outputs": [],
   "source": []
  },
  {
   "cell_type": "code",
   "execution_count": null,
   "id": "72adff76",
   "metadata": {},
   "outputs": [],
   "source": []
  },
  {
   "cell_type": "code",
   "execution_count": null,
   "id": "51e54004",
   "metadata": {},
   "outputs": [],
   "source": []
  },
  {
   "cell_type": "code",
   "execution_count": null,
   "id": "688dcb9a",
   "metadata": {},
   "outputs": [],
   "source": []
  },
  {
   "cell_type": "code",
   "execution_count": null,
   "id": "20fe763e",
   "metadata": {},
   "outputs": [],
   "source": []
  }
 ],
 "metadata": {
  "kernelspec": {
   "display_name": "venv",
   "language": "python",
   "name": "python3"
  },
  "language_info": {
   "codemirror_mode": {
    "name": "ipython",
    "version": 3
   },
   "file_extension": ".py",
   "mimetype": "text/x-python",
   "name": "python",
   "nbconvert_exporter": "python",
   "pygments_lexer": "ipython3",
   "version": "3.13.7"
  }
 },
 "nbformat": 4,
 "nbformat_minor": 5
}
