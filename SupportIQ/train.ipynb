{
 "cells": [
  {
   "cell_type": "code",
   "execution_count": 1,
   "id": "0ed1ca09",
   "metadata": {},
   "outputs": [],
   "source": [
    "from transformers import (AutoModelForSeq2SeqLM, AutoTokenizer, Trainer, TrainingArguments)\n",
    "from peft import LoraConfig, get_peft_model, TaskType\n",
    "import torch\n",
    "import argparse \n",
    "from utils.loader import tokenize_data"
   ]
  },
  {
   "cell_type": "code",
   "execution_count": null,
   "id": "327b48f6",
   "metadata": {},
   "outputs": [],
   "source": [
    "def main():\n",
    "    \n",
    "    parser = argparse.ArgumentParser()\n",
    "\n",
    "    parser.add_argument('--data_path', type=str, default='data/data_full.json')\n",
    "    parser.add_argument('--model_id', type=str, default='google/flan-t5-base')\n",
    "    parser.add_argument('--rank', type=int, default=8)\n",
    "    parser.add_argument('--alpha', type=int, default=16)\n",
    "    parser.add_argument('--dropout', type=float, default=0.05)\n",
    "    parser.add_argument('--bias', type=str, default='none')\n",
    "    parser.add_argument('--output_dir', type=str, default='/Volumes/LaCie/Projects_portfolio/NLP/SupportIQ/output')\n",
    "    parser.add_argument('--lr', type=float, default=1e-5)\n",
    "    parser.add_argument('--epochs', type=int, default=1)\n",
    "    parser.add_argument('--wd', type=float, default=0.01)\n",
    "    parser.add_argument('--logging_steps', type=int, default=1)\n",
    "    parser.add_argument('--batch_size', type=int, default=32)\n",
    "\n",
    "    arg = parser.parse_args()\n",
    "    \n",
    "    #load model & tokeninzer\n",
    "    model_id = arg.model_id\n",
    "    tokenizer = AutoTokenizer.from_pretrained(model_id)\n",
    "    model = AutoModelForSeq2SeqLM.from_pretrained(model_id)\n",
    "\n",
    "    #load tokinzed data\n",
    "    train_data, val_data, test_data = tokenize_data(arg.data_path, tokenizer)\n",
    "\n",
    "    #setup training args\n",
    "    lora_config = LoraConfig(\n",
    "                    r=arg.rank,\n",
    "                    lora_alpha=arg.alpha,\n",
    "                    target_modules=[\"q\", \"v\"],  # for flan-t5\n",
    "                    lora_dropout=arg.dropout,\n",
    "                    bias=arg.bias,\n",
    "                    task_type=TaskType.SEQ_2_SEQ_LM,\n",
    "                )\n",
    "    peft_model = get_peft_model(model,lora_config) #wrapping LoRA-config model\n",
    "    \n",
    "    \n",
    "    training_args = TrainingArguments(\n",
    "                output_dir=arg.output_dir,\n",
    "                learning_rate=arg.lr,\n",
    "                num_train_epochs=arg.epochs,\n",
    "                weight_decay=arg.wd,\n",
    "                logging_steps=arg.logging_steps,\n",
    "                label_names=[\"labels\"],\n",
    "                )\n",
    "    \n",
    "    #define trainer\n",
    "    trainer = Trainer(\n",
    "            model=peft_model,\n",
    "            args=training_args,\n",
    "            train_dataset=train_data,\n",
    "            eval_dataset=val_data,\n",
    "            tokenizer=tokenizer,\n",
    "            )\n",
    "\n",
    "    trainer.train()\n",
    "\n",
    "if __name__=='__main__':\n",
    "    main()"
   ]
  },
  {
   "cell_type": "code",
   "execution_count": null,
   "id": "c5d6760c",
   "metadata": {},
   "outputs": [],
   "source": []
  },
  {
   "cell_type": "code",
   "execution_count": null,
   "id": "0964cd45",
   "metadata": {},
   "outputs": [],
   "source": []
  },
  {
   "cell_type": "code",
   "execution_count": null,
   "id": "7c7994e5",
   "metadata": {},
   "outputs": [],
   "source": []
  },
  {
   "cell_type": "code",
   "execution_count": null,
   "id": "710cfc31",
   "metadata": {},
   "outputs": [],
   "source": []
  },
  {
   "cell_type": "code",
   "execution_count": null,
   "id": "6964e9c7",
   "metadata": {},
   "outputs": [],
   "source": []
  },
  {
   "cell_type": "code",
   "execution_count": null,
   "id": "ff699fab",
   "metadata": {},
   "outputs": [],
   "source": []
  }
 ],
 "metadata": {
  "kernelspec": {
   "display_name": "venv",
   "language": "python",
   "name": "python3"
  },
  "language_info": {
   "codemirror_mode": {
    "name": "ipython",
    "version": 3
   },
   "file_extension": ".py",
   "mimetype": "text/x-python",
   "name": "python",
   "nbconvert_exporter": "python",
   "pygments_lexer": "ipython3",
   "version": "3.11.12"
  }
 },
 "nbformat": 4,
 "nbformat_minor": 5
}
