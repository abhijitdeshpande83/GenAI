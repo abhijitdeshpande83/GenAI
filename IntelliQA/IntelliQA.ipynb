{
 "cells": [
  {
   "cell_type": "code",
   "execution_count": null,
   "id": "26c42dfc",
   "metadata": {},
   "outputs": [],
   "source": [
    "from rag_pipeline.query_engine import load_data, vectorstore, ask_question"
   ]
  },
  {
   "cell_type": "code",
   "execution_count": null,
   "id": "5e9568c4",
   "metadata": {},
   "outputs": [],
   "source": [
    "query = \"Who are the techniques to reduce avoidable bias?\""
   ]
  },
  {
   "cell_type": "code",
   "execution_count": null,
   "id": "56f92d98",
   "metadata": {},
   "outputs": [],
   "source": [
    "file_path = '/Users/abhijitdeshpande/Documents/Projects/Projects_portfolio/NLP/IntelliQA/data/test.pdf'\n",
    "\n",
    "texts = load_data(file_path)"
   ]
  },
  {
   "cell_type": "code",
   "execution_count": null,
   "id": "bb802868",
   "metadata": {},
   "outputs": [],
   "source": [
    "vectorstore_db = vectorstore(texts=texts)"
   ]
  },
  {
   "cell_type": "code",
   "execution_count": null,
   "id": "2349e970",
   "metadata": {},
   "outputs": [],
   "source": [
    "answer = ask_question(query,vectorstore_db)"
   ]
  },
  {
   "cell_type": "code",
   "execution_count": null,
   "id": "67215885",
   "metadata": {},
   "outputs": [],
   "source": [
    "print(answer)"
   ]
  }
 ],
 "metadata": {
  "kernelspec": {
   "display_name": "langchain310",
   "language": "python",
   "name": "python3"
  },
  "language_info": {
   "codemirror_mode": {
    "name": "ipython",
    "version": 3
   },
   "file_extension": ".py",
   "mimetype": "text/x-python",
   "name": "python",
   "nbconvert_exporter": "python",
   "pygments_lexer": "ipython3",
   "version": "3.10.16"
  }
 },
 "nbformat": 4,
 "nbformat_minor": 5
}
