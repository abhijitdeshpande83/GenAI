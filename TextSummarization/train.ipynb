{
 "cells": [
  {
   "cell_type": "code",
   "execution_count": 2,
   "metadata": {},
   "outputs": [],
   "source": [
    "import pytorch_lightning as pl\n",
    "import os\n",
    "import argparse\n",
    "from transformer_model import SummarizationModel\n",
    "from datamodule import SummarizationDataModule"
   ]
  },
  {
   "cell_type": "code",
   "execution_count": null,
   "metadata": {},
   "outputs": [],
   "source": [
    "def main():\n",
    "\n",
    "    parser = argparse.ArgumentParser()\n",
    "\n",
    "    parser.add_argument('--train_data_path', type=str, default=os.path.join(os.environ.get('SM_CHANNEL_TRAINING'), 'train_10k.csv'))\n",
    "    parser.add_argument('--val_data_path', type=str, default=os.path.join(os.environ.get('SM_CHANNEL_VALIDATION'), 'val.csv'))\n",
    "    parser.add_argument('--model_name', type=str, default='facebook/bart-base')\n",
    "    parser.add_argument('--batch_size', type=int, default=1)\n",
    "    parser.add_argument('--max_length', type=int, default=1024)\n",
    "    parser.add_argument('--summary_length', type=int, default=128)\n",
    "    parser.add_argument('--lr', type=float, default=2e-5)\n",
    "    parser.add_argument('--epochs', type=int, default=1)\n",
    "\n",
    "    arg = parser.parse_args()\n",
    "\n",
    "    data_module = SummarizationDataModule(\n",
    "        train_path=arg.train_data_path,\n",
    "        val_path=arg.val_data_path,\n",
    "        tokenizer=arg.model_name,\n",
    "        batch_size=arg.batch_size,\n",
    "        max_length=arg.max_length,\n",
    "        summary_length=arg.summary_length \n",
    "        )\n",
    "\n",
    "    model = SummarizationModel(arg.model_name, lr=arg.lr)\n",
    "\n",
    "    trainer = pl.Trainer(\n",
    "        max_epochs=arg.epochs,\n",
    "        accelerator=\"auto\",  # Set to \"cpu\" if no GPU available\n",
    "        devices=1,\n",
    "        precision=16,  # Mixed precision training\n",
    "        callbacks=[pl.callbacks.ModelCheckpoint(dirpath=os.environ.get('SM_MODEL_DIR'))],\n",
    "        logger=pl.loggers.TensorBoardLogger(save_dir=os.environ.get('SM_OUTPUT_DIR'))\n",
    "        )\n",
    "\n",
    "    trainer.fit(model, datamodule=data_module)\n",
    "\n",
    "if __name__ == '__main__':\n",
    "    main()"
   ]
  }
 ],
 "metadata": {
  "kernelspec": {
   "display_name": "pytorch_env",
   "language": "python",
   "name": "python3"
  },
  "language_info": {
   "codemirror_mode": {
    "name": "ipython",
    "version": 3
   },
   "file_extension": ".py",
   "mimetype": "text/x-python",
   "name": "python",
   "nbconvert_exporter": "python",
   "pygments_lexer": "ipython3",
   "version": "3.9.21"
  }
 },
 "nbformat": 4,
 "nbformat_minor": 2
}
