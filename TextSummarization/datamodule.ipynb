{
 "cells": [
  {
   "cell_type": "code",
   "execution_count": 6,
   "metadata": {},
   "outputs": [],
   "source": [
    "import pytorch_lightning as pl\n",
    "from torch.utils.data import DataLoader\n",
    "import pandas as pd\n",
    "from dataset import SummarizationDataset"
   ]
  },
  {
   "cell_type": "code",
   "execution_count": 7,
   "metadata": {},
   "outputs": [],
   "source": [
    "class SummarizationDataModule(pl.LightningDataModule):\n",
    "    def __init__(self,train_path, val_path, tokenizer, batch_size=32,max_length=1024, summary_length=256):\n",
    "        super().__init__()\n",
    "        self.train_path = train_path\n",
    "        self.val_path = val_path\n",
    "        self.tokenizer = tokenizer\n",
    "        self.batch_size = batch_size\n",
    "        self.max_length = max_length\n",
    "        self.summary_length= summary_length\n",
    "    \n",
    "    def setup(self, stage=None):\n",
    "        train_df = pd.read_csv(self.train_path)\n",
    "        val_df = pd.read_csv(self.val_path)\n",
    "\n",
    "        self.train_dataset = SummarizationDataset(train_df, self.tokenizer,\n",
    "                                                  self.max_length,self.summary_length)\n",
    "        self.val_dataset = SummarizationDataset(val_df, self.tokenizer,\n",
    "                                                  self.max_length,self.summary_length)\n",
    "        \n",
    "    def train_dataloader(self):\n",
    "        return DataLoader(self.train_dataset, batch_size=self.batch_size, shuffle=True)\n",
    "    \n",
    "    def val_dataloader(self):\n",
    "        return DataLoader(self.val_dataset, batch_size=self.batch_size, shuffle=False)"
   ]
  }
 ],
 "metadata": {
  "kernelspec": {
   "display_name": "pytorch_env",
   "language": "python",
   "name": "python3"
  },
  "language_info": {
   "codemirror_mode": {
    "name": "ipython",
    "version": 3
   },
   "file_extension": ".py",
   "mimetype": "text/x-python",
   "name": "python",
   "nbconvert_exporter": "python",
   "pygments_lexer": "ipython3",
   "version": "3.9.21"
  }
 },
 "nbformat": 4,
 "nbformat_minor": 2
}
